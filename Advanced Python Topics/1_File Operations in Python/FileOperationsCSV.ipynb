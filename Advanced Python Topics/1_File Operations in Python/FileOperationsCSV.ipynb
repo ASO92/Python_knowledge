{
 "cells": [
  {
   "cell_type": "markdown",
   "metadata": {},
   "source": [
    "##\n",
    "\n"
   ]
  },
  {
   "cell_type": "code",
   "execution_count": 1,
   "metadata": {},
   "outputs": [],
   "source": [
    "import csv"
   ]
  },
  {
   "cell_type": "code",
   "execution_count": 4,
   "metadata": {},
   "outputs": [
    {
     "name": "stdout",
     "output_type": "stream",
     "text": [
      "Region,Country,Capital\n",
      "Asia,Kyrgyzstan,Bishkek\n",
      "Central America,Honduras,Tegucigalpa\n",
      "Europe,Bulgaria,Sofia\n",
      "Sub-Saharan Africa,Cameroon,Yaounde\n"
     ]
    }
   ],
   "source": [
    "! type data_file\\record.csv "
   ]
  },
  {
   "cell_type": "code",
   "execution_count": 9,
   "metadata": {},
   "outputs": [
    {
     "name": "stdout",
     "output_type": "stream",
     "text": [
      "['Region', 'Country', 'Capital']\n",
      "['Asia', 'Kyrgyzstan', 'Bishkek']\n",
      "['Central America', 'Honduras', 'Tegucigalpa']\n",
      "['Europe', 'Bulgaria', 'Sofia']\n",
      "['Sub-Saharan Africa', 'Cameroon', 'Yaounde']\n"
     ]
    }
   ],
   "source": [
    "mypath1 = 'data_file/record.csv'\n",
    "file = open(mypath1, 'r') # Created a file pointer. In recor mode.\n",
    "with file:\n",
    "    read = csv.reader(file) # With the file pointer, we can initialize a csv.reader object\n",
    "    \n",
    "    for row in read: # Return a list of strings for each row\n",
    "        print(row)"
   ]
  },
  {
   "cell_type": "code",
   "execution_count": 10,
   "metadata": {},
   "outputs": [
    {
     "name": "stdout",
     "output_type": "stream",
     "text": [
      "Region|Country|Capital\n",
      "Asia|Kyrgyzstan|Bishkek\n",
      "Central America|Honduras|Tegucigalpa\n",
      "Europe|Bulgaria|Sofia\n",
      "Sub-Saharan Africa|Cameroon|Yaounde\n"
     ]
    }
   ],
   "source": [
    "! type data_file\\record_pipe.csv "
   ]
  },
  {
   "cell_type": "code",
   "execution_count": 11,
   "metadata": {},
   "outputs": [
    {
     "name": "stdout",
     "output_type": "stream",
     "text": [
      "['Region|Country|Capital']\n",
      "['Asia|Kyrgyzstan|Bishkek']\n",
      "['Central America|Honduras|Tegucigalpa']\n",
      "['Europe|Bulgaria|Sofia']\n",
      "['Sub-Saharan Africa|Cameroon|Yaounde']\n"
     ]
    }
   ],
   "source": [
    "mypath2 = 'data_file/record_pipe.csv'\n",
    "file = open(mypath2, 'r') # Created a file pointer. In recor mode.\n",
    "with file:\n",
    "    read = csv.reader(file) # With the file pointer, we can initialize a csv.reader object\n",
    "    \n",
    "    for row in read: # Return AN ONLY STRING FOR EACH ROW\n",
    "        print(row)"
   ]
  },
  {
   "cell_type": "markdown",
   "metadata": {},
   "source": [
    "## The delimiter argument\n",
    "\n",
    "### The pipe delimiter\n",
    "\n",
    "**THe values in each row are not separated into elements within the list, and instead, the entire contents of the row, including the pipes, are treated as a single string.**\n",
    "\n",
    "**How do we infor it?**"
   ]
  },
  {
   "cell_type": "code",
   "execution_count": 12,
   "metadata": {},
   "outputs": [
    {
     "name": "stdout",
     "output_type": "stream",
     "text": [
      "['Region', 'Country', 'Capital']\n",
      "['Asia', 'Kyrgyzstan', 'Bishkek']\n",
      "['Central America', 'Honduras', 'Tegucigalpa']\n",
      "['Europe', 'Bulgaria', 'Sofia']\n",
      "['Sub-Saharan Africa', 'Cameroon', 'Yaounde']\n"
     ]
    }
   ],
   "source": [
    "file = open(mypath2, 'r') # Created a file pointer. In recor mode.\n",
    "with file:\n",
    "    read = csv.reader(file, delimiter =\"|\") # With the file pointer, we can initialize a csv.reader object\n",
    "    \n",
    "    for row in read: # Return a list of strings for each row\n",
    "        print(row)"
   ]
  },
  {
   "cell_type": "markdown",
   "metadata": {},
   "source": [
    "### Tabular delimiter"
   ]
  },
  {
   "cell_type": "code",
   "execution_count": 13,
   "metadata": {},
   "outputs": [
    {
     "name": "stdout",
     "output_type": "stream",
     "text": [
      "Region\tCountry\tCapital\n",
      "Asia\tKyrgyzstan\tBishkek\n",
      "Central America\t\tHonduras\tTegucigalpa\n",
      "Europe\tBulgaria\tSofia\n",
      "Sub-Saharan Africa\tCameroon\tYaounde\n"
     ]
    }
   ],
   "source": [
    "! type data_file\\record_tab.csv "
   ]
  },
  {
   "cell_type": "code",
   "execution_count": 15,
   "metadata": {},
   "outputs": [
    {
     "name": "stdout",
     "output_type": "stream",
     "text": [
      "['Region', 'Country', 'Capital']\n",
      "['Asia', 'Kyrgyzstan', 'Bishkek']\n",
      "['Central America', '', 'Honduras', 'Tegucigalpa']\n",
      "['Europe', 'Bulgaria', 'Sofia']\n",
      "['Sub-Saharan Africa', 'Cameroon', 'Yaounde']\n"
     ]
    }
   ],
   "source": [
    "mypath3 = 'data_file/record_tab.csv'\n",
    "file = open(mypath3, 'r') # Created a file pointer. In recor mode.\n",
    "with file:\n",
    "    read = csv.reader(file, delimiter =\"\\t\") # With the file pointer, we can initialize a csv.reader object\n",
    "    \n",
    "    for row in read: # Return a list of strings for each row\n",
    "        print(row)"
   ]
  },
  {
   "cell_type": "markdown",
   "metadata": {},
   "source": [
    "## Situation: imagine dozens of columns in your CSV data\n",
    "\n",
    "It may be difficult to remember which index represent each column --> **Include a DictReader**\n",
    "\n",
    "When using a DictReader, the first row is assuming to be the row containing the colmun headers and the folowing rows are considered the data rows."
   ]
  },
  {
   "cell_type": "code",
   "execution_count": 19,
   "metadata": {},
   "outputs": [
    {
     "name": "stdout",
     "output_type": "stream",
     "text": [
      "{'Region': 'Asia', 'Country': 'Kyrgyzstan', 'Capital': 'Bishkek'}\n",
      "{'Region': 'Central America', 'Country': 'Honduras', 'Capital': 'Tegucigalpa'}\n",
      "{'Region': 'Europe', 'Country': 'Bulgaria', 'Capital': 'Sofia'}\n",
      "{'Region': 'Sub-Saharan Africa', 'Country': 'Cameroon', 'Capital': 'Yaounde'}\n"
     ]
    }
   ],
   "source": [
    "file = open(mypath1, 'r') # Created a file pointer. In recor mode.\n",
    "with file:\n",
    "    read = csv.DictReader(file)\n",
    "    \n",
    "    for row in read:  # In this for loop, we are casting each row as a DICTIONARY\n",
    "        print(dict(row))"
   ]
  },
  {
   "cell_type": "markdown",
   "metadata": {},
   "source": [
    "- **What if print out the raw contents of each row?**\n",
    "\n",
    "This is an OrderedDict. The order in a Dict doesn't really matters, but in order to retain the sequence of columns in a CSV file, we need to ensure that the keys in the dictionary are ordered. This is why the csv.DictReader makes use of an ordered dictionary."
   ]
  },
  {
   "cell_type": "code",
   "execution_count": 20,
   "metadata": {},
   "outputs": [
    {
     "name": "stdout",
     "output_type": "stream",
     "text": [
      "OrderedDict([('Region', 'Asia'), ('Country', 'Kyrgyzstan'), ('Capital', 'Bishkek')])\n",
      "OrderedDict([('Region', 'Central America'), ('Country', 'Honduras'), ('Capital', 'Tegucigalpa')])\n",
      "OrderedDict([('Region', 'Europe'), ('Country', 'Bulgaria'), ('Capital', 'Sofia')])\n",
      "OrderedDict([('Region', 'Sub-Saharan Africa'), ('Country', 'Cameroon'), ('Capital', 'Yaounde')])\n"
     ]
    }
   ],
   "source": [
    "file = open(mypath1, 'r') # Created a file pointer. In recor mode.\n",
    "with file:\n",
    "    read = csv.DictReader(file)\n",
    "    \n",
    "    for row in read:  # In this for loop, we are casting each row as a DICTIONARY\n",
    "        print(row)"
   ]
  },
  {
   "cell_type": "markdown",
   "metadata": {},
   "source": [
    "## Convert python objects in csv files"
   ]
  },
  {
   "cell_type": "markdown",
   "metadata": {},
   "source": [
    "### Writerow function"
   ]
  },
  {
   "cell_type": "code",
   "execution_count": 31,
   "metadata": {},
   "outputs": [],
   "source": [
    "names = [['FirstName', 'LastName'],\n",
    "        ['Sofia', 'Reyes'],\n",
    "        ['Jerome', 'Jackson'],\n",
    "        ['Jia', 'Zhong']]"
   ]
  },
  {
   "cell_type": "code",
   "execution_count": 32,
   "metadata": {},
   "outputs": [],
   "source": [
    "mypath2 = 'data_file/names.csv'\n",
    "\n",
    "file = open(mypath2, 'w') \n",
    "\n",
    "with file:\n",
    "    file_writer = csv.writer(file)\n",
    "    \n",
    "    for row in names:\n",
    "        file_writer.writerow(row)"
   ]
  },
  {
   "cell_type": "code",
   "execution_count": 33,
   "metadata": {},
   "outputs": [
    {
     "name": "stdout",
     "output_type": "stream",
     "text": [
      "FirstName,LastName\n",
      "\n",
      "Sofia,Reyes\n",
      "\n",
      "Jerome,Jackson\n",
      "\n",
      "Jia,Zhong\n",
      "\n"
     ]
    }
   ],
   "source": [
    "! type data_file\\names.csv "
   ]
  },
  {
   "cell_type": "markdown",
   "metadata": {},
   "source": [
    "### Writerows function"
   ]
  },
  {
   "cell_type": "markdown",
   "metadata": {},
   "source": [
    "- Rather than iterating over the individual rows, and then writing them to the file using the write.row function, we simply call the write.rows funtcion with an S in order to write **the entire contents of this two dimensional list into the CSV file**\n"
   ]
  },
  {
   "cell_type": "code",
   "execution_count": 35,
   "metadata": {},
   "outputs": [],
   "source": [
    "nums =  [[10,20,30],\n",
    "        [40,50,60],\n",
    "        [70,80,90]]\n",
    "mypath3 = 'data_file/number.csv'\n",
    "file = open(mypath3, 'w')\n",
    "\n",
    "with file:\n",
    "    write = csv.writer(file)\n",
    "    write.writerows(nums) # Rather than iterating over the individual rows, and then writing them to the file using the write.row function, we simply call the write.rows funtcion with an S in order\n"
   ]
  },
  {
   "cell_type": "code",
   "execution_count": 37,
   "metadata": {},
   "outputs": [
    {
     "name": "stdout",
     "output_type": "stream",
     "text": [
      "10,20,30\n",
      "\n",
      "40,50,60\n",
      "\n",
      "70,80,90\n",
      "\n"
     ]
    }
   ],
   "source": [
    "! type data_file\\number.csv "
   ]
  },
  {
   "cell_type": "markdown",
   "metadata": {},
   "source": [
    "### We have seen the DictReader object was able to pas CSV data into Python dictionaries, is there something available to perform the reverse operation?\n",
    "\n",
    "Yes, the **DictWriter object**"
   ]
  },
  {
   "cell_type": "code",
   "execution_count": null,
   "metadata": {},
   "outputs": [],
   "source": []
  },
  {
   "cell_type": "code",
   "execution_count": null,
   "metadata": {},
   "outputs": [],
   "source": []
  },
  {
   "cell_type": "code",
   "execution_count": null,
   "metadata": {},
   "outputs": [],
   "source": [
    "! type data_file\\record.csv "
   ]
  },
  {
   "cell_type": "code",
   "execution_count": null,
   "metadata": {},
   "outputs": [],
   "source": [
    "! type data_file\\record.csv "
   ]
  },
  {
   "cell_type": "markdown",
   "metadata": {},
   "source": [
    "## CSV Dialects"
   ]
  },
  {
   "cell_type": "code",
   "execution_count": 39,
   "metadata": {},
   "outputs": [],
   "source": [
    "csv.register_dialect('tab', delimiter = '\\t') #Create a new dialect called tab"
   ]
  },
  {
   "cell_type": "code",
   "execution_count": 40,
   "metadata": {},
   "outputs": [
    {
     "name": "stdout",
     "output_type": "stream",
     "text": [
      "['Region', 'Country', 'Capital']\n",
      "['Asia', 'Kyrgyzstan', 'Bishkek']\n",
      "['Central America', '', 'Honduras', 'Tegucigalpa']\n",
      "['Europe', 'Bulgaria', 'Sofia']\n",
      "['Sub-Saharan Africa', 'Cameroon', 'Yaounde']\n"
     ]
    }
   ],
   "source": [
    "with open('data_file/record_tab.csv', 'r') as file:\n",
    "    reader = csv.reader(file, dialect='tab')\n",
    "    \n",
    "    for row in reader:\n",
    "        print(row)"
   ]
  },
  {
   "cell_type": "code",
   "execution_count": 48,
   "metadata": {},
   "outputs": [],
   "source": [
    "csv.register_dialect('plus', \n",
    "                     delimiter = '+', \n",
    "                     lineterminator = '\\n\\n\\r')"
   ]
  },
  {
   "cell_type": "code",
   "execution_count": 49,
   "metadata": {},
   "outputs": [],
   "source": [
    "names = [['FirstName', 'LastName'],\n",
    "        ['Sofia', 'Reyes'],\n",
    "        ['Jerome', 'Jackson'],\n",
    "        ['Jia', 'Zhong']]"
   ]
  },
  {
   "cell_type": "code",
   "execution_count": 50,
   "metadata": {},
   "outputs": [],
   "source": [
    "file = open('data_file/names_dialect.csv', 'w')\n",
    "\n",
    "with file:\n",
    "    file_writer = csv.writer(file, dialect = 'plus')\n",
    "    for row in names:\n",
    "        file_writer.writerow(row)"
   ]
  },
  {
   "cell_type": "code",
   "execution_count": 51,
   "metadata": {},
   "outputs": [
    {
     "name": "stdout",
     "output_type": "stream",
     "text": [
      "FirstName+LastName\n",
      "\n",
      "\n",
      "Sofia+Reyes\n",
      "\n",
      "\n",
      "Jerome+Jackson\n",
      "\n",
      "\n",
      "Jia+Zhong\n",
      "\n",
      "\n"
     ]
    }
   ],
   "source": [
    "! type data_file\\names_dialect.csv "
   ]
  },
  {
   "cell_type": "code",
   "execution_count": null,
   "metadata": {},
   "outputs": [],
   "source": []
  },
  {
   "cell_type": "code",
   "execution_count": null,
   "metadata": {},
   "outputs": [],
   "source": []
  },
  {
   "cell_type": "code",
   "execution_count": null,
   "metadata": {},
   "outputs": [],
   "source": []
  },
  {
   "cell_type": "code",
   "execution_count": null,
   "metadata": {},
   "outputs": [],
   "source": []
  },
  {
   "cell_type": "code",
   "execution_count": null,
   "metadata": {},
   "outputs": [],
   "source": []
  },
  {
   "cell_type": "code",
   "execution_count": null,
   "metadata": {},
   "outputs": [],
   "source": []
  },
  {
   "cell_type": "code",
   "execution_count": null,
   "metadata": {},
   "outputs": [],
   "source": []
  },
  {
   "cell_type": "code",
   "execution_count": null,
   "metadata": {},
   "outputs": [],
   "source": []
  },
  {
   "cell_type": "code",
   "execution_count": null,
   "metadata": {},
   "outputs": [],
   "source": []
  },
  {
   "cell_type": "code",
   "execution_count": null,
   "metadata": {},
   "outputs": [],
   "source": []
  },
  {
   "cell_type": "code",
   "execution_count": null,
   "metadata": {},
   "outputs": [],
   "source": []
  },
  {
   "cell_type": "code",
   "execution_count": null,
   "metadata": {},
   "outputs": [],
   "source": []
  },
  {
   "cell_type": "code",
   "execution_count": null,
   "metadata": {},
   "outputs": [],
   "source": []
  },
  {
   "cell_type": "code",
   "execution_count": null,
   "metadata": {},
   "outputs": [],
   "source": []
  },
  {
   "cell_type": "code",
   "execution_count": null,
   "metadata": {},
   "outputs": [],
   "source": []
  }
 ],
 "metadata": {
  "kernelspec": {
   "display_name": "Python 3",
   "language": "python",
   "name": "python3"
  },
  "language_info": {
   "codemirror_mode": {
    "name": "ipython",
    "version": 3
   },
   "file_extension": ".py",
   "mimetype": "text/x-python",
   "name": "python",
   "nbconvert_exporter": "python",
   "pygments_lexer": "ipython3",
   "version": "3.7.6"
  }
 },
 "nbformat": 4,
 "nbformat_minor": 4
}
