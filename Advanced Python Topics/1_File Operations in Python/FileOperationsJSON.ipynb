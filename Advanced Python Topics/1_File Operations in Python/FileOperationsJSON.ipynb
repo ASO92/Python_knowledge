{
 "cells": [
  {
   "cell_type": "markdown",
   "metadata": {},
   "source": [
    "## JSON\n",
    "\n",
    "JSON is short for JavaScript object notation, and it is one way to represent an object in a human readable form.\n",
    "\n",
    "The json is done from a txt file, renamed like json. It is represented by key-value pairs. Very similar to a python dictionary,"
   ]
  },
  {
   "cell_type": "code",
   "execution_count": 1,
   "metadata": {},
   "outputs": [],
   "source": [
    "import json # NEcesario para hacer cualquier operacion con jsons"
   ]
  },
  {
   "cell_type": "markdown",
   "metadata": {},
   "source": [
    "## Load json data from a string: json.loads"
   ]
  },
  {
   "cell_type": "code",
   "execution_count": 2,
   "metadata": {},
   "outputs": [],
   "source": [
    "car = \"\"\"{\"model\":\"Civic\",\n",
    "\"make\":\"Honda\",\n",
    "\"variants\":[\"Sedan\", \"Coupe\"]}\"\"\" # JSON emulado"
   ]
  },
  {
   "cell_type": "code",
   "execution_count": 3,
   "metadata": {},
   "outputs": [
    {
     "data": {
      "text/plain": [
       "'{\"model\":\"Civic\",\\n\"make\":\"Honda\",\\n\"variants\":[\"Sedan\", \"Coupe\"]}'"
      ]
     },
     "execution_count": 3,
     "metadata": {},
     "output_type": "execute_result"
    }
   ],
   "source": [
    "car"
   ]
  },
  {
   "cell_type": "markdown",
   "metadata": {},
   "source": [
    "- **function json.loads(ObjectName)**: It is short for load string. This will take in a JSON string and then transform it into a Python object. Specifically, it will convert a JSON string into a dictionary."
   ]
  },
  {
   "cell_type": "code",
   "execution_count": 6,
   "metadata": {},
   "outputs": [],
   "source": [
    "car_dict = json.loads(car) # car_dict is a dictionary"
   ]
  },
  {
   "cell_type": "code",
   "execution_count": 8,
   "metadata": {},
   "outputs": [
    {
     "data": {
      "text/plain": [
       "(str, dict)"
      ]
     },
     "execution_count": 8,
     "metadata": {},
     "output_type": "execute_result"
    }
   ],
   "source": [
    "type(car), type(car_dict)"
   ]
  },
  {
   "cell_type": "code",
   "execution_count": 9,
   "metadata": {},
   "outputs": [
    {
     "data": {
      "text/plain": [
       "{'model': 'Civic', 'make': 'Honda', 'variants': ['Sedan', 'Coupe']}"
      ]
     },
     "execution_count": 9,
     "metadata": {},
     "output_type": "execute_result"
    }
   ],
   "source": [
    "car_dict"
   ]
  },
  {
   "cell_type": "code",
   "execution_count": 10,
   "metadata": {},
   "outputs": [
    {
     "name": "stdout",
     "output_type": "stream",
     "text": [
      "{\"Country\": \"USA\", \"Currency\": \"United Sates Dollar\"}\n"
     ]
    },
    {
     "name": "stderr",
     "output_type": "stream",
     "text": [
      "\n",
      "data_file\\currency.json\n",
      "\n",
      "\n",
      "El sistema no puede encontrar el archivo especificado.\n",
      "Error mientras se procesaba: #Para.\n",
      "El sistema no puede encontrar el archivo especificado.\n",
      "Error mientras se procesaba: ver.\n",
      "El sistema no puede encontrar el archivo especificado.\n",
      "Error mientras se procesaba: lo.\n",
      "El sistema no puede encontrar el archivo especificado.\n",
      "Error mientras se procesaba: que.\n",
      "El sistema no puede encontrar el archivo especificado.\n",
      "Error mientras se procesaba: se.\n",
      "El sistema no puede encontrar el archivo especificado.\n",
      "Error mientras se procesaba: está.\n",
      "El sistema no puede encontrar el archivo especificado.\n",
      "Error mientras se procesaba: escribiendo.\n",
      "El sistema no puede encontrar el archivo especificado.\n",
      "Error mientras se procesaba: en.\n",
      "El sistema no puede encontrar el archivo especificado.\n",
      "Error mientras se procesaba: el.\n",
      "El sistema no puede encontrar el archivo especificado.\n",
      "Error mientras se procesaba: archivo.\n"
     ]
    }
   ],
   "source": [
    "! type data_file\\currency.json #Para ver lo que se está escribiendo en el archivo"
   ]
  },
  {
   "cell_type": "code",
   "execution_count": 11,
   "metadata": {},
   "outputs": [],
   "source": [
    "mypath = \"data_file/currency.json\""
   ]
  },
  {
   "cell_type": "markdown",
   "metadata": {},
   "source": [
    "## Load json data from a json file: json.load"
   ]
  },
  {
   "cell_type": "code",
   "execution_count": 13,
   "metadata": {},
   "outputs": [
    {
     "name": "stdout",
     "output_type": "stream",
     "text": [
      "{'Country': 'USA', 'Currency': 'United Sates Dollar'}\n"
     ]
    }
   ],
   "source": [
    "with open(mypath) as json_file:\n",
    "    data = json.load(json_file)\n",
    "    print(data)"
   ]
  },
  {
   "cell_type": "markdown",
   "metadata": {},
   "source": [
    "## From a dictionary to JSON file: json.dumps"
   ]
  },
  {
   "cell_type": "code",
   "execution_count": 21,
   "metadata": {},
   "outputs": [],
   "source": [
    "currency = {\"Country\":\"India\", \"Currency\":\"Rupee\"}"
   ]
  },
  {
   "cell_type": "code",
   "execution_count": 22,
   "metadata": {},
   "outputs": [
    {
     "name": "stdout",
     "output_type": "stream",
     "text": [
      "{\"Country\": \"India\", \"Currency\": \"Rupee\"}\n"
     ]
    }
   ],
   "source": [
    "json_var = json.dumps(currency)\n",
    "print(json_var)"
   ]
  },
  {
   "cell_type": "code",
   "execution_count": 24,
   "metadata": {},
   "outputs": [
    {
     "data": {
      "text/plain": [
       "str"
      ]
     },
     "execution_count": 24,
     "metadata": {},
     "output_type": "execute_result"
    }
   ],
   "source": [
    "type(json_var)"
   ]
  },
  {
   "cell_type": "code",
   "execution_count": 26,
   "metadata": {},
   "outputs": [],
   "source": [
    "with open('data_file/currency.json', 'w') as json_file:\n",
    "    json_file.write(json_var)"
   ]
  },
  {
   "cell_type": "code",
   "execution_count": 27,
   "metadata": {},
   "outputs": [
    {
     "name": "stdout",
     "output_type": "stream",
     "text": [
      "{\"Country\": \"India\", \"Currency\": \"Rupee\"}\n"
     ]
    }
   ],
   "source": [
    "! type data_file\\currency.json"
   ]
  },
  {
   "cell_type": "code",
   "execution_count": 28,
   "metadata": {},
   "outputs": [
    {
     "name": "stdout",
     "output_type": "stream",
     "text": [
      "{'Country': 'India', 'Currency': 'Rupee'}\n"
     ]
    }
   ],
   "source": [
    "written_data = json.load(open('data_file/currency.json'))\n",
    "\n",
    "print(written_data)"
   ]
  },
  {
   "cell_type": "markdown",
   "metadata": {},
   "source": [
    "## Transforming python objects into a JSON"
   ]
  },
  {
   "cell_type": "code",
   "execution_count": 3,
   "metadata": {},
   "outputs": [],
   "source": [
    "import json"
   ]
  },
  {
   "cell_type": "code",
   "execution_count": 4,
   "metadata": {},
   "outputs": [],
   "source": [
    "dessert = {\"Name\": \"Ice cream\",\n",
    "          \"Flavours\": [\"Chocolate\", \"Pineapple\"],\n",
    "          \"Toppings\": True,\n",
    "          \"WaffleCone\": \"Yes\"\n",
    "          }"
   ]
  },
  {
   "cell_type": "code",
   "execution_count": 5,
   "metadata": {},
   "outputs": [
    {
     "data": {
      "text/plain": [
       "'{\"Name\": \"Ice cream\", \"Flavours\": [\"Chocolate\", \"Pineapple\"], \"Toppings\": true, \"WaffleCone\": \"Yes\"}'"
      ]
     },
     "execution_count": 5,
     "metadata": {},
     "output_type": "execute_result"
    }
   ],
   "source": [
    "dessert_str = json.dumps(dessert)\n",
    "\n",
    "dessert_str "
   ]
  },
  {
   "cell_type": "markdown",
   "metadata": {},
   "source": [
    "- Observar the True aparece en minúscula y sin comillas. Esto significa que true NO es un string. **Así es como se representa un Boolean value en JSON format**"
   ]
  },
  {
   "cell_type": "code",
   "execution_count": 8,
   "metadata": {},
   "outputs": [
    {
     "data": {
      "text/plain": [
       "str"
      ]
     },
     "execution_count": 8,
     "metadata": {},
     "output_type": "execute_result"
    }
   ],
   "source": [
    "type(dessert_str)"
   ]
  },
  {
   "cell_type": "markdown",
   "metadata": {},
   "source": [
    "**Y de ahí, el JSON string se guardaría a un file txt, que hemos visto en el video anterior**\n",
    "\n",
    "### ¿Pero y para guardar directamente un dictionary a un json file? ¿Encode a Python dictionary as a JSON string?"
   ]
  },
  {
   "cell_type": "code",
   "execution_count": 12,
   "metadata": {},
   "outputs": [
    {
     "name": "stdout",
     "output_type": "stream",
     "text": [
      "{\"Name\": \"Ice cream\", \"Flavours\": [\"Chocolate\", \"Pineapple\"], \"Toppings\": true, \"WaffleCone\": \"Yes\"}\n"
     ]
    }
   ],
   "source": [
    "! type data_file\\eat.txt"
   ]
  },
  {
   "cell_type": "code",
   "execution_count": 10,
   "metadata": {},
   "outputs": [],
   "source": [
    "mypath = 'data_file/eat.txt'"
   ]
  },
  {
   "cell_type": "code",
   "execution_count": 11,
   "metadata": {},
   "outputs": [],
   "source": [
    "with open(mypath, 'w') as json_file:\n",
    "    json.dump(dessert, json_file) # OJO DUMP SIN S"
   ]
  },
  {
   "cell_type": "code",
   "execution_count": 13,
   "metadata": {},
   "outputs": [
    {
     "name": "stdout",
     "output_type": "stream",
     "text": [
      "{\"Name\": \"Ice cream\", \"Flavours\": [\"Chocolate\", \"Pineapple\"], \"Toppings\": true, \"WaffleCone\": \"Yes\"}\n"
     ]
    }
   ],
   "source": [
    "! type data_file\\eat.txt "
   ]
  },
  {
   "cell_type": "markdown",
   "metadata": {},
   "source": [
    "- Se puede comprobar que está en JSON format por el true, que está lowercase t."
   ]
  },
  {
   "cell_type": "code",
   "execution_count": 16,
   "metadata": {},
   "outputs": [
    {
     "data": {
      "text/plain": [
       "{'Name': 'Ice cream',\n",
       " 'Flavours': ['Chocolate', 'Pineapple'],\n",
       " 'Toppings': True,\n",
       " 'WaffleCone': 'Yes'}"
      ]
     },
     "execution_count": 16,
     "metadata": {},
     "output_type": "execute_result"
    }
   ],
   "source": [
    "dessert"
   ]
  },
  {
   "cell_type": "code",
   "execution_count": 17,
   "metadata": {},
   "outputs": [
    {
     "data": {
      "text/plain": [
       "'{\"Name\": \"Ice cream\", \"Flavours\": [\"Chocolate\", \"Pineapple\"], \"Toppings\": true, \"WaffleCone\": \"Yes\"}'"
      ]
     },
     "execution_count": 17,
     "metadata": {},
     "output_type": "execute_result"
    }
   ],
   "source": [
    "dessert_str #JSON format"
   ]
  },
  {
   "cell_type": "markdown",
   "metadata": {},
   "source": [
    "#### Indentation\n",
    "\n",
    "Convertir a formato string, but specifying an indentation as well. **Setting 2 in the argument, we are telling this method to add two spaces before each item in the dictionary. In a diccionary,  an item corresponds to a key or value pair, and within a list an item corresponds to each individual element in the list.**\n",
    "\n",
    "- Se ve dos espacios entre cada value pair del diccionario, y además dos espacios entre cada elemento de la lista."
   ]
  },
  {
   "cell_type": "code",
   "execution_count": 18,
   "metadata": {},
   "outputs": [
    {
     "data": {
      "text/plain": [
       "'{\\n  \"Name\": \"Ice cream\",\\n  \"Flavours\": [\\n    \"Chocolate\",\\n    \"Pineapple\"\\n  ],\\n  \"Toppings\": true,\\n  \"WaffleCone\": \"Yes\"\\n}'"
      ]
     },
     "execution_count": 18,
     "metadata": {},
     "output_type": "execute_result"
    }
   ],
   "source": [
    "json.dumps(dessert, indent = 2)"
   ]
  },
  {
   "cell_type": "markdown",
   "metadata": {},
   "source": [
    "#### Separators\n",
    "\n",
    "- The separators are defined as a tuple. **The first element in the tuple represents the item separator (item= key and value pair in dict, and element in a list), by default is a comma; and the second element represents the key separator, which separates the key and value pairs, by default a colom."
   ]
  },
  {
   "cell_type": "code",
   "execution_count": 19,
   "metadata": {},
   "outputs": [
    {
     "data": {
      "text/plain": [
       "'{\"Name\"=\"Ice cream\":\"Flavours\"=[\"Chocolate\":\"Pineapple\"]:\"Toppings\"=true:\"WaffleCone\"=\"Yes\"}'"
      ]
     },
     "execution_count": 19,
     "metadata": {},
     "output_type": "execute_result"
    }
   ],
   "source": [
    "json.dumps(dessert, separators=(\":\", \"=\"))"
   ]
  },
  {
   "cell_type": "code",
   "execution_count": 20,
   "metadata": {},
   "outputs": [
    {
     "data": {
      "text/plain": [
       "'{\"Name\"~\"Ice cream\"|\"Flavours\"~[\"Chocolate\"|\"Pineapple\"]|\"Toppings\"~true|\"WaffleCone\"~\"Yes\"}'"
      ]
     },
     "execution_count": 20,
     "metadata": {},
     "output_type": "execute_result"
    }
   ],
   "source": [
    "json.dumps(dessert, separators=(\"|\",\"~\"))"
   ]
  },
  {
   "cell_type": "markdown",
   "metadata": {},
   "source": [
    "#### Sort\n"
   ]
  },
  {
   "cell_type": "code",
   "execution_count": 21,
   "metadata": {},
   "outputs": [
    {
     "data": {
      "text/plain": [
       "'{\"Flavours\": [\"Chocolate\", \"Pineapple\"], \"Name\": \"Ice cream\", \"Toppings\": true, \"WaffleCone\": \"Yes\"}'"
      ]
     },
     "execution_count": 21,
     "metadata": {},
     "output_type": "execute_result"
    }
   ],
   "source": [
    "json.dumps(dessert, sort_keys=True)"
   ]
  },
  {
   "cell_type": "code",
   "execution_count": 22,
   "metadata": {},
   "outputs": [
    {
     "data": {
      "text/plain": [
       "'{\"Name\": \"Ice cream\", \"Flavours\": [\"Chocolate\", \"Pineapple\"], \"Toppings\": true, \"WaffleCone\": \"Yes\"}'"
      ]
     },
     "execution_count": 22,
     "metadata": {},
     "output_type": "execute_result"
    }
   ],
   "source": [
    "json.dumps(dessert, sort_keys=False) # ME los vuelve a dejar como al principio"
   ]
  },
  {
   "cell_type": "code",
   "execution_count": null,
   "metadata": {},
   "outputs": [],
   "source": []
  },
  {
   "cell_type": "code",
   "execution_count": null,
   "metadata": {},
   "outputs": [],
   "source": []
  },
  {
   "cell_type": "code",
   "execution_count": null,
   "metadata": {},
   "outputs": [],
   "source": []
  },
  {
   "cell_type": "code",
   "execution_count": null,
   "metadata": {},
   "outputs": [],
   "source": []
  },
  {
   "cell_type": "code",
   "execution_count": null,
   "metadata": {},
   "outputs": [],
   "source": []
  },
  {
   "cell_type": "code",
   "execution_count": null,
   "metadata": {},
   "outputs": [],
   "source": []
  },
  {
   "cell_type": "code",
   "execution_count": null,
   "metadata": {},
   "outputs": [],
   "source": []
  },
  {
   "cell_type": "code",
   "execution_count": null,
   "metadata": {},
   "outputs": [],
   "source": []
  },
  {
   "cell_type": "code",
   "execution_count": null,
   "metadata": {},
   "outputs": [],
   "source": []
  },
  {
   "cell_type": "code",
   "execution_count": null,
   "metadata": {},
   "outputs": [],
   "source": []
  },
  {
   "cell_type": "code",
   "execution_count": null,
   "metadata": {},
   "outputs": [],
   "source": []
  },
  {
   "cell_type": "code",
   "execution_count": null,
   "metadata": {},
   "outputs": [],
   "source": []
  },
  {
   "cell_type": "code",
   "execution_count": null,
   "metadata": {},
   "outputs": [],
   "source": []
  },
  {
   "cell_type": "code",
   "execution_count": null,
   "metadata": {},
   "outputs": [],
   "source": []
  },
  {
   "cell_type": "code",
   "execution_count": null,
   "metadata": {},
   "outputs": [],
   "source": []
  },
  {
   "cell_type": "code",
   "execution_count": null,
   "metadata": {},
   "outputs": [],
   "source": []
  },
  {
   "cell_type": "code",
   "execution_count": null,
   "metadata": {},
   "outputs": [],
   "source": []
  },
  {
   "cell_type": "code",
   "execution_count": null,
   "metadata": {},
   "outputs": [],
   "source": []
  }
 ],
 "metadata": {
  "kernelspec": {
   "display_name": "Python 3",
   "language": "python",
   "name": "python3"
  },
  "language_info": {
   "codemirror_mode": {
    "name": "ipython",
    "version": 3
   },
   "file_extension": ".py",
   "mimetype": "text/x-python",
   "name": "python",
   "nbconvert_exporter": "python",
   "pygments_lexer": "ipython3",
   "version": "3.8.3"
  }
 },
 "nbformat": 4,
 "nbformat_minor": 4
}
