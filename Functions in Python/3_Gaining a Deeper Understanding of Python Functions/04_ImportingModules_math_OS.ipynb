{
 "cells": [
  {
   "cell_type": "markdown",
   "metadata": {},
   "source": [
    "## A Python module is a file which contains code for variables functions and objects"
   ]
  },
  {
   "cell_type": "markdown",
   "metadata": {},
   "source": [
    "## Math and OS Modules"
   ]
  },
  {
   "cell_type": "code",
   "execution_count": 1,
   "metadata": {},
   "outputs": [
    {
     "name": "stdout",
     "output_type": "stream",
     "text": [
      "\n",
      "Please wait a moment while I gather a list of all available modules...\n",
      "\n"
     ]
    },
    {
     "name": "stderr",
     "output_type": "stream",
     "text": [
      "C:\\Program Files\\Anaconda3\\envs\\md_38\\lib\\site-packages\\IPython\\kernel\\__init__.py:12: ShimWarning: The `IPython.kernel` package has been deprecated since IPython 4.0.You should import from ipykernel or jupyter_client instead.\n",
      "  warn(\"The `IPython.kernel` package has been deprecated since IPython 4.0.\"\n",
      "C:\\Program Files\\Anaconda3\\envs\\md_38\\lib\\pkgutil.py:92: MatplotlibDeprecationWarning: \n",
      "The matplotlib.compat module was deprecated in Matplotlib 3.3 and will be removed two minor releases later.\n",
      "  __import__(info.name)\n",
      "C:\\Program Files\\Anaconda3\\envs\\md_38\\lib\\site-packages\\qtawesome\\iconic_font.py:311: UserWarning: You need to have a running QApplication to use QtAwesome!\n",
      "  warnings.warn(\"You need to have a running \"\n",
      "C:\\Program Files\\Anaconda3\\envs\\md_38\\lib\\pkgutil.py:107: VisibleDeprecationWarning: zmq.eventloop.minitornado is deprecated in pyzmq 14.0 and will be removed.\n",
      "    Install tornado itself to use zmq with the tornado IOLoop.\n",
      "    \n",
      "  yield from walk_packages(path, info.name+'.', onerror)\n"
     ]
    },
    {
     "name": "stdout",
     "output_type": "stream",
     "text": [
      "IPython             brain_nose          lzma                spyder\n",
      "OpenSSL             brain_numpy_core_fromnumeric mailbox             spyder_kernels\n",
      "PIL                 brain_numpy_core_function_base mailcap             sqlite3\n",
      "PyQt5               brain_numpy_core_multiarray markupsafe          sre_compile\n",
      "__future__          brain_numpy_core_numeric marshal             sre_constants\n",
      "_abc                brain_numpy_core_numerictypes math                sre_parse\n",
      "_ast                brain_numpy_core_umath matplotlib          ssl\n",
      "_asyncio            brain_numpy_ndarray mccabe              sspi\n",
      "_bisect             brain_numpy_random_mtrand mimetypes           sspicon\n",
      "_blake2             brain_numpy_utils   mistune             stat\n",
      "_bootlocale         brain_pkg_resources mkl                 statistics\n",
      "_bz2                brain_pytest        mkl_fft             storemagic\n",
      "_cffi_backend       brain_qt            mkl_random          string\n",
      "_codecs             brain_random        mmap                stringprep\n",
      "_codecs_cn          brain_re            mmapfile            struct\n",
      "_codecs_hk          brain_responses     mmsystem            subprocess\n",
      "_codecs_iso2022     brain_scipy_signal  modulefinder        sunau\n",
      "_codecs_jp          brain_six           msilib              symbol\n",
      "_codecs_kr          brain_ssl           msvcrt              sympyprinting\n",
      "_codecs_tw          brain_subprocess    multiprocessing     symtable\n",
      "_collections        brain_threading     nacl                sys\n",
      "_collections_abc    brain_typing        nbclient            sysconfig\n",
      "_compat_pickle      brain_uuid          nbconvert           tabnanny\n",
      "_compression        brotli              nbformat            tarfile\n",
      "_contextvars        builtins            nest_asyncio        telnetlib\n",
      "_csv                bz2                 netbios             tempfile\n",
      "_ctypes             cProfile            netrc               terminado\n",
      "_ctypes_test        calendar            nntplib             test\n",
      "_datetime           certifi             notebook            testpath\n",
      "_decimal            cffi                nt                  tests\n",
      "_distutils_hack     cgi                 ntpath              textwrap\n",
      "_dummy_thread       cgitb               ntsecuritycon       this\n",
      "_elementtree        chardet             nturl2path          threading\n",
      "_functools          chunk               numbers             time\n",
      "_hashlib            cloudpickle         numpy               timeit\n",
      "_heapq              cmath               numpydoc            timer\n",
      "_imp                cmd                 odbc                tkinter\n",
      "_io                 code                olefile             token\n",
      "_json               codecs              opcode              tokenize\n",
      "_locale             codeop              openpyxl            toml\n",
      "_lsprof             collections         operator            tornado\n",
      "_lzma               colorama            optparse            trace\n",
      "_markupbase         colorsys            os                  traceback\n",
      "_md5                commctrl            packaging           tracemalloc\n",
      "_msi                compileall          pandas              traitlets\n",
      "_multibytecodec     concurrent          pandocfilters       tty\n",
      "_multiprocessing    configparser        paramiko            turtle\n",
      "_opcode             contextlib          parser              turtledemo\n",
      "_operator           contextvars         parso               types\n",
      "_osx_support        copy                past                typing\n",
      "_overlapped         copyreg             pathlib             ujson\n",
      "_pickle             crypt               pathtools           unicodedata\n",
      "_py_abc             cryptography        pdb                 unittest\n",
      "_pydecimal          csv                 perfmon             urllib\n",
      "_pyio               ctypes              pexpect             urllib3\n",
      "_pyrsistent_version curses              pickle              uu\n",
      "_queue              cycler              pickleshare         uuid\n",
      "_random             cythonmagic         pickletools         venv\n",
      "_sha1               dataclasses         pip                 warnings\n",
      "_sha256             datetime            pipes               watchdog\n",
      "_sha3               dateutil            pkg_resources       wave\n",
      "_sha512             dbi                 pkgutil             wcwidth\n",
      "_signal             dbm                 platform            weakref\n",
      "_sitebuiltins       dde                 plistlib            webbrowser\n",
      "_socket             decimal             pluggy              webencodings\n",
      "_sqlite3            decorator           poplib              wheel\n",
      "_sre                defusedxml          posixpath           win2kras\n",
      "_ssl                diff_match_patch    pprint              win32api\n",
      "_stat               difflib             profile             win32clipboard\n",
      "_statistics         dis                 prometheus_client   win32com\n",
      "_string             distutils           prompt_toolkit      win32con\n",
      "_strptime           doctest             pstats              win32console\n",
      "_struct             docutils            psutil              win32cred\n",
      "_symtable           dummy_threading     pty                 win32crypt\n",
      "_testbuffer         easy_install        pvectorc            win32cryptcon\n",
      "_testcapi           email               py_compile          win32ctypes\n",
      "_testconsole        encodings           pyclbr              win32event\n",
      "_testimportmultiple ensurepip           pycodestyle         win32evtlog\n",
      "_testinternalcapi   entrypoints         pycparser           win32evtlogutil\n",
      "_testmultiphase     enum                pydoc               win32file\n",
      "_thread             errno               pydoc_data          win32gui\n",
      "_threading_local    et_xmlfile          pydocstyle          win32gui_struct\n",
      "_tkinter            faulthandler        pyexpat             win32help\n",
      "_tracemalloc        filecmp             pyflakes            win32inet\n",
      "_warnings           fileinput           pygments            win32inetcon\n",
      "_weakref            flake8              pylab               win32job\n",
      "_weakrefset         fnmatch             pylint              win32lz\n",
      "_win32sysloader     formatter           pyls                win32net\n",
      "_winapi             fractions           pyls_jsonrpc        win32netcon\n",
      "_winxptheme         ftplib              pyparsing           win32pdh\n",
      "_xxsubinterpreters  functools           pyrsistent          win32pdhquery\n",
      "_yaml               future              pythoncom           win32pdhutil\n",
      "abc                 gc                  pytz                win32pipe\n",
      "adodbapi            genericpath         pywin               win32print\n",
      "afxres              getopt              pywin32_bootstrap   win32process\n",
      "aifc                getpass             pywin32_testutil    win32profile\n",
      "alabaster           gettext             pywintypes          win32ras\n",
      "antigravity         glob                qdarkstyle          win32rcparser\n",
      "argh                gzip                qtawesome           win32security\n",
      "argon2              hashlib             qtconsole           win32service\n",
      "argparse            heapq               qtpy                win32serviceutil\n",
      "array               hmac                queue               win32timezone\n",
      "ast                 html                quopri              win32trace\n",
      "astroid             http                random              win32traceutil\n",
      "async_generator     idlelib             rasutil             win32transaction\n",
      "asynchat            idna                re                  win32ts\n",
      "asyncio             imagesize           regcheck            win32ui\n",
      "asyncore            imaplib             regutil             win32uiole\n",
      "atexit              imghdr              reprlib             win32verstamp\n",
      "atomicwrites        imp                 requests            win32wnet\n",
      "attr                importlib           rlcompleter         win_inet_pton\n",
      "audioop             importlib_metadata  rmagic              wincertstore\n",
      "autopep8            inspect             rope                winerror\n",
      "autoreload          intervaltree        rtree               winioctlcon\n",
      "babel               io                  runpy               winnt\n",
      "backcall            ipaddress           sched               winperf\n",
      "base64              ipykernel           secrets             winpty\n",
      "bcrypt              ipykernel_launcher  select              winreg\n",
      "bdb                 ipython_genutils    selectors           winsound\n",
      "binascii            isapi               send2trash          winxpgui\n",
      "binhex              isort               servicemanager      winxptheme\n",
      "bisect              itertools           setuptools          wrapt\n",
      "bleach              jdcal               shelve              wsgiref\n",
      "brain_argparse      jedi                shlex               xdrlib\n",
      "brain_attrs         jinja2              shutil              xlrd\n",
      "brain_boto3         json                signal              xlsxwriter\n",
      "brain_builtin_inference jsonschema          sip                 xml\n",
      "brain_collections   jupyter             sipconfig           xmlrpc\n",
      "brain_crypt         jupyter_client      sipdistutils        xxsubtype\n",
      "brain_curses        jupyter_core        site                yaml\n",
      "brain_dataclasses   jupyterlab_pygments six                 yapf\n",
      "brain_dateutil      keyring             smtpd               yapftests\n",
      "brain_fstrings      keyword             smtplib             zipapp\n",
      "brain_functools     kiwisolver          sndhdr              zipfile\n",
      "brain_gi            lazy_object_proxy   snowballstemmer     zipimport\n",
      "brain_hashlib       lib2to3             socket              zipp\n",
      "brain_http          libfuturize         socketserver        zlib\n",
      "brain_io            libpasteurize       socks               zmq\n",
      "brain_mechanize     linecache           sockshandler        \n",
      "brain_multiprocessing locale              sortedcontainers    \n",
      "brain_namedtuple_enum logging             sphinx              \n",
      "\n",
      "Enter any module name to get more help.  Or, type \"modules spam\" to search\n",
      "for modules whose name or summary contain the string \"spam\".\n",
      "\n"
     ]
    }
   ],
   "source": [
    "help(\"modules\")"
   ]
  },
  {
   "cell_type": "markdown",
   "metadata": {},
   "source": [
    "### How to get the functionality of the modules imported -> using import\n",
    "\n",
    "** - math.Offers heper functions and constants for common math operations.** \n",
    "\n",
    "** - os. Interact with my machine** \n"
   ]
  },
  {
   "cell_type": "markdown",
   "metadata": {},
   "source": [
    "## Math module\n"
   ]
  },
  {
   "cell_type": "code",
   "execution_count": 3,
   "metadata": {},
   "outputs": [],
   "source": [
    "import math # helper "
   ]
  },
  {
   "cell_type": "code",
   "execution_count": 4,
   "metadata": {},
   "outputs": [
    {
     "data": {
      "text/plain": [
       "(3.141592653589793, 2.718281828459045)"
      ]
     },
     "execution_count": 4,
     "metadata": {},
     "output_type": "execute_result"
    }
   ],
   "source": [
    "math.pi, math.e"
   ]
  },
  {
   "cell_type": "code",
   "execution_count": 6,
   "metadata": {},
   "outputs": [
    {
     "data": {
      "text/plain": [
       "(9, 8)"
      ]
     },
     "execution_count": 6,
     "metadata": {},
     "output_type": "execute_result"
    }
   ],
   "source": [
    "math.ceil(8.1), math.floor(8.1)"
   ]
  },
  {
   "cell_type": "code",
   "execution_count": 7,
   "metadata": {},
   "outputs": [
    {
     "data": {
      "text/plain": [
       "16.0"
      ]
     },
     "execution_count": 7,
     "metadata": {},
     "output_type": "execute_result"
    }
   ],
   "source": [
    "math.pow(2,4), math.sqrt(16)\n"
   ]
  },
  {
   "cell_type": "code",
   "execution_count": 8,
   "metadata": {},
   "outputs": [
    {
     "data": {
      "text/plain": [
       "720"
      ]
     },
     "execution_count": 8,
     "metadata": {},
     "output_type": "execute_result"
    }
   ],
   "source": [
    "math.factorial(6)"
   ]
  },
  {
   "cell_type": "markdown",
   "metadata": {},
   "source": [
    "# Os module"
   ]
  },
  {
   "cell_type": "code",
   "execution_count": 20,
   "metadata": {},
   "outputs": [],
   "source": [
    "import os # To interact with my operating system"
   ]
  },
  {
   "cell_type": "code",
   "execution_count": 21,
   "metadata": {},
   "outputs": [
    {
     "data": {
      "text/plain": [
       "'C:\\\\Users\\\\n522278\\\\Jupyter\\\\Functions in Python\\\\3_Gaining a Deeper Understanding of Python Functions'"
      ]
     },
     "execution_count": 21,
     "metadata": {},
     "output_type": "execute_result"
    }
   ],
   "source": [
    "os.getcwd()"
   ]
  },
  {
   "cell_type": "code",
   "execution_count": 22,
   "metadata": {},
   "outputs": [
    {
     "data": {
      "text/plain": [
       "environ{'ALLUSERSPROFILE': 'C:\\\\ProgramData',\n",
       "        'APPDATA': 'C:\\\\Users\\\\n522278\\\\AppData\\\\Roaming',\n",
       "        'COMMONPROGRAMFILES': 'C:\\\\Program Files\\\\Common Files',\n",
       "        'COMMONPROGRAMFILES(X86)': 'C:\\\\Program Files (x86)\\\\Common Files',\n",
       "        'COMMONPROGRAMW6432': 'C:\\\\Program Files\\\\Common Files',\n",
       "        'COMPUTERNAME': 'GT00987N522278P',\n",
       "        'COMSPEC': 'C:\\\\WINDOWS\\\\system32\\\\cmd.exe',\n",
       "        'CONDA_DEFAULT_ENV': 'md_38',\n",
       "        'CONDA_EXE': 'C:\\\\Program Files\\\\Anaconda3\\\\Scripts\\\\conda.exe',\n",
       "        'CONDA_PROMPT_MODIFIER': '(md_38) ',\n",
       "        'CONDA_PYTHON_EXE': 'C:\\\\Program Files\\\\Anaconda3\\\\python.exe',\n",
       "        'CONDA_ROOT': 'C:\\\\Program Files\\\\Anaconda3',\n",
       "        'CONDA_SHLVL': '1',\n",
       "        'DRIVERDATA': 'C:\\\\Windows\\\\System32\\\\Drivers\\\\DriverData',\n",
       "        'FPS_BROWSER_APP_PROFILE_STRING': 'Internet Explorer',\n",
       "        'FPS_BROWSER_USER_PROFILE_STRING': 'Default',\n",
       "        'HOMEDRIVE': 'C:',\n",
       "        'HOMEPATH': '\\\\Users\\\\n522278',\n",
       "        'LOCALAPPDATA': 'C:\\\\Users\\\\n522278\\\\AppData\\\\Local',\n",
       "        'LOGONSERVER': '\\\\\\\\SGTWDDCTRP0002',\n",
       "        'NUMBER_OF_PROCESSORS': '8',\n",
       "        'ONEDRIVE': 'C:\\\\Users\\\\n522278\\\\OneDrive - Santander Office 365',\n",
       "        'ONEDRIVECOMMERCIAL': 'C:\\\\Users\\\\n522278\\\\OneDrive - Santander Office 365',\n",
       "        'OS': 'Windows_NT',\n",
       "        'PATH': 'C:\\\\Program Files\\\\Anaconda3\\\\envs\\\\md_38;C:\\\\Program Files\\\\Anaconda3\\\\envs\\\\md_38\\\\Library\\\\mingw-w64\\\\bin;C:\\\\Program Files\\\\Anaconda3\\\\envs\\\\md_38\\\\Library\\\\usr\\\\bin;C:\\\\Program Files\\\\Anaconda3\\\\envs\\\\md_38\\\\Library\\\\bin;C:\\\\Program Files\\\\Anaconda3\\\\envs\\\\md_38\\\\Scripts;C:\\\\Program Files\\\\Anaconda3\\\\envs\\\\md_38\\\\bin;C:\\\\Program Files\\\\Anaconda3\\\\condabin;C:\\\\Program Files\\\\Anaconda3;C:\\\\Program Files\\\\Anaconda3\\\\Library\\\\mingw-w64\\\\bin;C:\\\\Program Files\\\\Anaconda3\\\\Library\\\\usr\\\\bin;C:\\\\Program Files\\\\Anaconda3\\\\Library\\\\bin;C:\\\\Program Files\\\\Anaconda3\\\\Scripts;C:\\\\Program Files (x86)\\\\Common Files\\\\Oracle\\\\Java\\\\javapath;C:\\\\WINDOWS\\\\system32;C:\\\\WINDOWS;C:\\\\WINDOWS\\\\System32\\\\Wbem;C:\\\\WINDOWS\\\\System32\\\\WindowsPowerShell\\\\v1.0;C:\\\\WINDOWS\\\\System32\\\\OpenSSH;C:\\\\Program Files\\\\WindowsPowerShell\\\\Scripts\\\\HP.ClientScriptLibrary;C:\\\\Program Files (x86)\\\\Java\\\\jre1.8.0_251\\\\bin;C:\\\\Program Files (x86)\\\\Enterprise Vault\\\\EVClient\\\\x64;C:\\\\Program Files\\\\Git\\\\cmd;C:\\\\Users\\\\n522278\\\\AppData\\\\Local\\\\Microsoft\\\\WindowsApps;C:\\\\Users\\\\n522278\\\\AppData\\\\Local\\\\Programs\\\\Git\\\\cmd',\n",
       "        'PATHEXT': '.COM;.EXE;.BAT;.CMD;.VBS;.VBE;.JS;.JSE;.WSF;.WSH;.MSC',\n",
       "        'PROCESSOR_ARCHITECTURE': 'AMD64',\n",
       "        'PROCESSOR_IDENTIFIER': 'Intel64 Family 6 Model 142 Stepping 12, GenuineIntel',\n",
       "        'PROCESSOR_LEVEL': '6',\n",
       "        'PROCESSOR_REVISION': '8e0c',\n",
       "        'PROGRAMDATA': 'C:\\\\ProgramData',\n",
       "        'PROGRAMFILES': 'C:\\\\Program Files',\n",
       "        'PROGRAMFILES(X86)': 'C:\\\\Program Files (x86)',\n",
       "        'PROGRAMW6432': 'C:\\\\Program Files',\n",
       "        'PROMPT': '(md_38) $P$G',\n",
       "        'PSMODULEPATH': 'C:\\\\Program Files\\\\WindowsPowerShell\\\\Modules;C:\\\\WINDOWS\\\\system32\\\\WindowsPowerShell\\\\v1.0\\\\Modules;C:\\\\Program Files (x86)\\\\Microsoft Azure Information Protection\\\\Powershell',\n",
       "        'PUBLIC': 'C:\\\\Users\\\\Public',\n",
       "        'SESSIONNAME': 'Console',\n",
       "        'SYSTEMDRIVE': 'C:',\n",
       "        'SYSTEMROOT': 'C:\\\\WINDOWS',\n",
       "        'TEMP': 'C:\\\\Users\\\\n522278\\\\AppData\\\\Local\\\\Temp',\n",
       "        'TMP': 'C:\\\\Users\\\\n522278\\\\AppData\\\\Local\\\\Temp',\n",
       "        'UATDATA': 'C:\\\\WINDOWS\\\\CCM\\\\UATData\\\\D9F8C395-CAB8-491d-B8AC-179A1FE1BE77',\n",
       "        'USERDNSDOMAIN': 'SGT.SGTECH.CORP',\n",
       "        'USERDOMAIN': 'SGT',\n",
       "        'USERDOMAIN_ROAMINGPROFILE': 'SGT',\n",
       "        'USERNAME': 'n522278',\n",
       "        'USERPROFILE': 'C:\\\\Users\\\\n522278',\n",
       "        'WINDIR': 'C:\\\\WINDOWS',\n",
       "        'CONDA_PREFIX': 'C:\\\\Program Files\\\\Anaconda3\\\\envs\\\\md_38',\n",
       "        'JPY_INTERRUPT_EVENT': '2644',\n",
       "        'IPY_INTERRUPT_EVENT': '2644',\n",
       "        'JPY_PARENT_PID': '2640',\n",
       "        'TERM': 'xterm-color',\n",
       "        'CLICOLOR': '1',\n",
       "        'PAGER': 'cat',\n",
       "        'GIT_PAGER': 'cat',\n",
       "        'MPLBACKEND': 'module://ipykernel.pylab.backend_inline',\n",
       "        'QT_API': 'pyqt5',\n",
       "        'LANG': 'es',\n",
       "        'PLAT': 'win-amd64'}"
      ]
     },
     "execution_count": 22,
     "metadata": {},
     "output_type": "execute_result"
    }
   ],
   "source": [
    "os.environ #Dictionary of all the environment varaibles that are available"
   ]
  },
  {
   "cell_type": "code",
   "execution_count": 23,
   "metadata": {},
   "outputs": [
    {
     "ename": "KeyError",
     "evalue": "'USER'",
     "output_type": "error",
     "traceback": [
      "\u001b[1;31m---------------------------------------------------------------------------\u001b[0m",
      "\u001b[1;31mKeyError\u001b[0m                                  Traceback (most recent call last)",
      "\u001b[1;32m<ipython-input-23-46625bc81c0c>\u001b[0m in \u001b[0;36m<module>\u001b[1;34m\u001b[0m\n\u001b[1;32m----> 1\u001b[1;33m \u001b[0muser\u001b[0m \u001b[1;33m=\u001b[0m \u001b[0mos\u001b[0m\u001b[1;33m.\u001b[0m\u001b[0menviron\u001b[0m\u001b[1;33m[\u001b[0m\u001b[1;34m\"USER\"\u001b[0m\u001b[1;33m]\u001b[0m \u001b[1;31m# Look for an specific user in the environment. Will give me the value of the current user that is logged to this machined\u001b[0m\u001b[1;33m\u001b[0m\u001b[1;33m\u001b[0m\u001b[0m\n\u001b[0m",
      "\u001b[1;32mC:\\Program Files\\Anaconda3\\envs\\md_38\\lib\\os.py\u001b[0m in \u001b[0;36m__getitem__\u001b[1;34m(self, key)\u001b[0m\n\u001b[0;32m    673\u001b[0m         \u001b[1;32mexcept\u001b[0m \u001b[0mKeyError\u001b[0m\u001b[1;33m:\u001b[0m\u001b[1;33m\u001b[0m\u001b[1;33m\u001b[0m\u001b[0m\n\u001b[0;32m    674\u001b[0m             \u001b[1;31m# raise KeyError with the original key value\u001b[0m\u001b[1;33m\u001b[0m\u001b[1;33m\u001b[0m\u001b[1;33m\u001b[0m\u001b[0m\n\u001b[1;32m--> 675\u001b[1;33m             \u001b[1;32mraise\u001b[0m \u001b[0mKeyError\u001b[0m\u001b[1;33m(\u001b[0m\u001b[0mkey\u001b[0m\u001b[1;33m)\u001b[0m \u001b[1;32mfrom\u001b[0m \u001b[1;32mNone\u001b[0m\u001b[1;33m\u001b[0m\u001b[1;33m\u001b[0m\u001b[0m\n\u001b[0m\u001b[0;32m    676\u001b[0m         \u001b[1;32mreturn\u001b[0m \u001b[0mself\u001b[0m\u001b[1;33m.\u001b[0m\u001b[0mdecodevalue\u001b[0m\u001b[1;33m(\u001b[0m\u001b[0mvalue\u001b[0m\u001b[1;33m)\u001b[0m\u001b[1;33m\u001b[0m\u001b[1;33m\u001b[0m\u001b[0m\n\u001b[0;32m    677\u001b[0m \u001b[1;33m\u001b[0m\u001b[0m\n",
      "\u001b[1;31mKeyError\u001b[0m: 'USER'"
     ]
    }
   ],
   "source": [
    "user = os.environ[\"USER\"] # Look for an specific user in the environment. Will give me the value of the current user that is logged to this machined"
   ]
  },
  {
   "cell_type": "code",
   "execution_count": 27,
   "metadata": {},
   "outputs": [
    {
     "ename": "TypeError",
     "evalue": "'module' object is not subscriptable",
     "output_type": "error",
     "traceback": [
      "\u001b[1;31m---------------------------------------------------------------------------\u001b[0m",
      "\u001b[1;31mTypeError\u001b[0m                                 Traceback (most recent call last)",
      "\u001b[1;32m<ipython-input-27-5c326dfbdcec>\u001b[0m in \u001b[0;36m<module>\u001b[1;34m\u001b[0m\n\u001b[1;32m----> 1\u001b[1;33m \u001b[0mos\u001b[0m\u001b[1;33m.\u001b[0m\u001b[0mpath\u001b[0m\u001b[1;33m[\u001b[0m\u001b[1;34m\"PATH\"\u001b[0m\u001b[1;33m]\u001b[0m\u001b[1;33m\u001b[0m\u001b[1;33m\u001b[0m\u001b[0m\n\u001b[0m",
      "\u001b[1;31mTypeError\u001b[0m: 'module' object is not subscriptable"
     ]
    }
   ],
   "source": [
    "os.path[\"PATH\"]"
   ]
  },
  {
   "cell_type": "code",
   "execution_count": 28,
   "metadata": {},
   "outputs": [
    {
     "data": {
      "text/plain": [
       "['.ipynb_checkpoints',\n",
       " '01_LocalAndGLobalVariables.ipynb',\n",
       " '02_ArgumentPAssignByValue.ipynb',\n",
       " '03_ArgumentPassignByReference.ipynb',\n",
       " '04_ImportingModules.ipynb']"
      ]
     },
     "execution_count": 28,
     "metadata": {},
     "output_type": "execute_result"
    }
   ],
   "source": [
    "os.listdir() # List all of the files and directories"
   ]
  },
  {
   "cell_type": "markdown",
   "metadata": {},
   "source": [
    "### Create a subfolder: os.mkdir(path)"
   ]
  },
  {
   "cell_type": "code",
   "execution_count": 30,
   "metadata": {},
   "outputs": [
    {
     "ename": "FileExistsError",
     "evalue": "[WinError 183] No se puede crear un archivo que ya existe: './my_temp_dir'",
     "output_type": "error",
     "traceback": [
      "\u001b[1;31m---------------------------------------------------------------------------\u001b[0m",
      "\u001b[1;31mFileExistsError\u001b[0m                           Traceback (most recent call last)",
      "\u001b[1;32m<ipython-input-30-e5120a456520>\u001b[0m in \u001b[0;36m<module>\u001b[1;34m\u001b[0m\n\u001b[1;32m----> 1\u001b[1;33m \u001b[0mos\u001b[0m\u001b[1;33m.\u001b[0m\u001b[0mmkdir\u001b[0m\u001b[1;33m(\u001b[0m\u001b[1;34m\"./my_temp_dir\"\u001b[0m\u001b[1;33m)\u001b[0m\u001b[1;33m\u001b[0m\u001b[1;33m\u001b[0m\u001b[0m\n\u001b[0m",
      "\u001b[1;31mFileExistsError\u001b[0m: [WinError 183] No se puede crear un archivo que ya existe: './my_temp_dir'"
     ]
    }
   ],
   "source": [
    "os.mkdir(\"./my_temp_dir\")"
   ]
  },
  {
   "cell_type": "code",
   "execution_count": 31,
   "metadata": {},
   "outputs": [
    {
     "data": {
      "text/plain": [
       "['.ipynb_checkpoints',\n",
       " '01_LocalAndGLobalVariables.ipynb',\n",
       " '02_ArgumentPAssignByValue.ipynb',\n",
       " '03_ArgumentPassignByReference.ipynb',\n",
       " '04_ImportingModules.ipynb',\n",
       " 'my_temp_dir']"
      ]
     },
     "execution_count": 31,
     "metadata": {},
     "output_type": "execute_result"
    }
   ],
   "source": [
    "os.listdir(\".\")"
   ]
  },
  {
   "cell_type": "code",
   "execution_count": 32,
   "metadata": {},
   "outputs": [],
   "source": [
    "os.rename(\"./my_temp_dir\", \"my_renamed_dir\")"
   ]
  },
  {
   "cell_type": "code",
   "execution_count": 33,
   "metadata": {},
   "outputs": [
    {
     "data": {
      "text/plain": [
       "['.ipynb_checkpoints',\n",
       " '01_LocalAndGLobalVariables.ipynb',\n",
       " '02_ArgumentPAssignByValue.ipynb',\n",
       " '03_ArgumentPassignByReference.ipynb',\n",
       " '04_ImportingModules.ipynb',\n",
       " 'my_renamed_dir']"
      ]
     },
     "execution_count": 33,
     "metadata": {},
     "output_type": "execute_result"
    }
   ],
   "source": [
    "os.listdir(\".\")"
   ]
  },
  {
   "cell_type": "code",
   "execution_count": 34,
   "metadata": {},
   "outputs": [],
   "source": [
    "os.rmdir(\"my_renamed_dir\")"
   ]
  },
  {
   "cell_type": "code",
   "execution_count": 35,
   "metadata": {},
   "outputs": [
    {
     "data": {
      "text/plain": [
       "['.ipynb_checkpoints',\n",
       " '01_LocalAndGLobalVariables.ipynb',\n",
       " '02_ArgumentPAssignByValue.ipynb',\n",
       " '03_ArgumentPassignByReference.ipynb',\n",
       " '04_ImportingModules.ipynb']"
      ]
     },
     "execution_count": 35,
     "metadata": {},
     "output_type": "execute_result"
    }
   ],
   "source": [
    "os.listdir(\".\")"
   ]
  },
  {
   "cell_type": "code",
   "execution_count": 36,
   "metadata": {},
   "outputs": [],
   "source": [
    "cwd = os.getcwd()"
   ]
  },
  {
   "cell_type": "code",
   "execution_count": 37,
   "metadata": {},
   "outputs": [
    {
     "data": {
      "text/plain": [
       "'C:\\\\Users\\\\n522278\\\\Jupyter\\\\Functions in Python\\\\3_Gaining a Deeper Understanding of Python Functions'"
      ]
     },
     "execution_count": 37,
     "metadata": {},
     "output_type": "execute_result"
    }
   ],
   "source": [
    "cwd"
   ]
  },
  {
   "cell_type": "code",
   "execution_count": 39,
   "metadata": {},
   "outputs": [
    {
     "data": {
      "text/plain": [
       "True"
      ]
     },
     "execution_count": 39,
     "metadata": {},
     "output_type": "execute_result"
    }
   ],
   "source": [
    "os.path.isdir(cwd) #Asqking if cwd is a directory or not (instead of a file)"
   ]
  },
  {
   "cell_type": "code",
   "execution_count": 40,
   "metadata": {},
   "outputs": [
    {
     "data": {
      "text/plain": [
       "False"
      ]
     },
     "execution_count": 40,
     "metadata": {},
     "output_type": "execute_result"
    }
   ],
   "source": [
    "os.path.isfile(cwd)"
   ]
  },
  {
   "cell_type": "code",
   "execution_count": 41,
   "metadata": {},
   "outputs": [],
   "source": [
    "from os import path #Avoiding usign os.path -> path"
   ]
  },
  {
   "cell_type": "code",
   "execution_count": 42,
   "metadata": {},
   "outputs": [
    {
     "data": {
      "text/plain": [
       "True"
      ]
     },
     "execution_count": 42,
     "metadata": {},
     "output_type": "execute_result"
    }
   ],
   "source": [
    "path.isdir(cwd)"
   ]
  },
  {
   "cell_type": "code",
   "execution_count": 43,
   "metadata": {},
   "outputs": [
    {
     "data": {
      "text/plain": [
       "False"
      ]
     },
     "execution_count": 43,
     "metadata": {},
     "output_type": "execute_result"
    }
   ],
   "source": [
    "path.isfile(cwd)"
   ]
  },
  {
   "cell_type": "code",
   "execution_count": 44,
   "metadata": {},
   "outputs": [
    {
     "data": {
      "text/plain": [
       "False"
      ]
     },
     "execution_count": 44,
     "metadata": {},
     "output_type": "execute_result"
    }
   ],
   "source": [
    "path.exists(\"my_renamed_dir\")"
   ]
  },
  {
   "cell_type": "markdown",
   "metadata": {},
   "source": [
    "## Random and Datetime Modules"
   ]
  },
  {
   "cell_type": "markdown",
   "metadata": {},
   "source": [
    "### Random"
   ]
  },
  {
   "cell_type": "code",
   "execution_count": 2,
   "metadata": {},
   "outputs": [],
   "source": [
    "import random"
   ]
  },
  {
   "cell_type": "code",
   "execution_count": 9,
   "metadata": {},
   "outputs": [
    {
     "data": {
      "text/plain": [
       "0.6490345646899054"
      ]
     },
     "execution_count": 9,
     "metadata": {},
     "output_type": "execute_result"
    }
   ],
   "source": [
    "random.random() # Give me a random number between 0 and 1"
   ]
  },
  {
   "cell_type": "code",
   "execution_count": 10,
   "metadata": {},
   "outputs": [
    {
     "data": {
      "text/plain": [
       "0.9480758180782356"
      ]
     },
     "execution_count": 10,
     "metadata": {},
     "output_type": "execute_result"
    }
   ],
   "source": [
    "random.random()"
   ]
  },
  {
   "cell_type": "code",
   "execution_count": 13,
   "metadata": {},
   "outputs": [
    {
     "data": {
      "text/plain": [
       "4"
      ]
     },
     "execution_count": 13,
     "metadata": {},
     "output_type": "execute_result"
    }
   ],
   "source": [
    "random.randint(0,10) # Generate random integers within a range"
   ]
  },
  {
   "cell_type": "code",
   "execution_count": 14,
   "metadata": {},
   "outputs": [],
   "source": [
    "my_list = [\"John\", \"Roy\", True, 34, \"Rose\", 12.9]"
   ]
  },
  {
   "cell_type": "code",
   "execution_count": 21,
   "metadata": {},
   "outputs": [
    {
     "data": {
      "text/plain": [
       "'Roy'"
      ]
     },
     "execution_count": 21,
     "metadata": {},
     "output_type": "execute_result"
    }
   ],
   "source": [
    "random.choice(my_list)# Pick random elements from a list"
   ]
  },
  {
   "cell_type": "code",
   "execution_count": 22,
   "metadata": {},
   "outputs": [
    {
     "data": {
      "text/plain": [
       "True"
      ]
     },
     "execution_count": 22,
     "metadata": {},
     "output_type": "execute_result"
    }
   ],
   "source": [
    "random.choice(my_list)"
   ]
  },
  {
   "cell_type": "markdown",
   "metadata": {},
   "source": [
    "### Datetime"
   ]
  },
  {
   "cell_type": "code",
   "execution_count": 23,
   "metadata": {},
   "outputs": [],
   "source": [
    "import datetime"
   ]
  },
  {
   "cell_type": "code",
   "execution_count": 29,
   "metadata": {},
   "outputs": [
    {
     "data": {
      "text/plain": [
       "(datetime.date, datetime.date(2021, 1, 21))"
      ]
     },
     "execution_count": 29,
     "metadata": {},
     "output_type": "execute_result"
    }
   ],
   "source": [
    "today = datetime.date.today()# Get the date of today\n",
    "type(today), today"
   ]
  },
  {
   "cell_type": "code",
   "execution_count": 38,
   "metadata": {},
   "outputs": [
    {
     "data": {
      "text/plain": [
       "datetime.datetime(2021, 1, 21, 8, 22, 16, 854457)"
      ]
     },
     "execution_count": 38,
     "metadata": {},
     "output_type": "execute_result"
    }
   ],
   "source": [
    "datetime.datetime.now() # Año, mes, dia, hora, min, sec, nanosec"
   ]
  },
  {
   "cell_type": "code",
   "execution_count": null,
   "metadata": {},
   "outputs": [],
   "source": []
  },
  {
   "cell_type": "code",
   "execution_count": null,
   "metadata": {},
   "outputs": [],
   "source": []
  },
  {
   "cell_type": "code",
   "execution_count": null,
   "metadata": {},
   "outputs": [],
   "source": []
  },
  {
   "cell_type": "code",
   "execution_count": null,
   "metadata": {},
   "outputs": [],
   "source": []
  },
  {
   "cell_type": "code",
   "execution_count": null,
   "metadata": {},
   "outputs": [],
   "source": []
  },
  {
   "cell_type": "code",
   "execution_count": null,
   "metadata": {},
   "outputs": [],
   "source": []
  },
  {
   "cell_type": "code",
   "execution_count": null,
   "metadata": {},
   "outputs": [],
   "source": []
  },
  {
   "cell_type": "code",
   "execution_count": null,
   "metadata": {},
   "outputs": [],
   "source": []
  },
  {
   "cell_type": "code",
   "execution_count": null,
   "metadata": {},
   "outputs": [],
   "source": []
  },
  {
   "cell_type": "code",
   "execution_count": null,
   "metadata": {},
   "outputs": [],
   "source": []
  },
  {
   "cell_type": "code",
   "execution_count": null,
   "metadata": {},
   "outputs": [],
   "source": []
  },
  {
   "cell_type": "code",
   "execution_count": null,
   "metadata": {},
   "outputs": [],
   "source": []
  },
  {
   "cell_type": "code",
   "execution_count": null,
   "metadata": {},
   "outputs": [],
   "source": []
  },
  {
   "cell_type": "code",
   "execution_count": null,
   "metadata": {},
   "outputs": [],
   "source": []
  },
  {
   "cell_type": "code",
   "execution_count": null,
   "metadata": {},
   "outputs": [],
   "source": []
  },
  {
   "cell_type": "code",
   "execution_count": null,
   "metadata": {},
   "outputs": [],
   "source": []
  },
  {
   "cell_type": "code",
   "execution_count": null,
   "metadata": {},
   "outputs": [],
   "source": []
  },
  {
   "cell_type": "code",
   "execution_count": null,
   "metadata": {},
   "outputs": [],
   "source": []
  },
  {
   "cell_type": "code",
   "execution_count": null,
   "metadata": {},
   "outputs": [],
   "source": []
  },
  {
   "cell_type": "code",
   "execution_count": null,
   "metadata": {},
   "outputs": [],
   "source": []
  },
  {
   "cell_type": "code",
   "execution_count": null,
   "metadata": {},
   "outputs": [],
   "source": []
  },
  {
   "cell_type": "code",
   "execution_count": null,
   "metadata": {},
   "outputs": [],
   "source": []
  },
  {
   "cell_type": "code",
   "execution_count": null,
   "metadata": {},
   "outputs": [],
   "source": []
  },
  {
   "cell_type": "code",
   "execution_count": null,
   "metadata": {},
   "outputs": [],
   "source": []
  },
  {
   "cell_type": "code",
   "execution_count": null,
   "metadata": {},
   "outputs": [],
   "source": []
  }
 ],
 "metadata": {
  "kernelspec": {
   "display_name": "Python 3",
   "language": "python",
   "name": "python3"
  },
  "language_info": {
   "codemirror_mode": {
    "name": "ipython",
    "version": 3
   },
   "file_extension": ".py",
   "mimetype": "text/x-python",
   "name": "python",
   "nbconvert_exporter": "python",
   "pygments_lexer": "ipython3",
   "version": "3.8.3"
  }
 },
 "nbformat": 4,
 "nbformat_minor": 4
}
