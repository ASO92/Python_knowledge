{
 "cells": [
  {
   "cell_type": "markdown",
   "metadata": {},
   "source": [
    "### Polymorphism - \n",
    "\n",
    "The ability of an object to take on many forms"
   ]
  },
  {
   "cell_type": "markdown",
   "metadata": {},
   "source": [
    "**Consider that communication and walk methods are defined in both, but the code for communication as well as walk are different in the base class from the instanciate class** "
   ]
  },
  {
   "cell_type": "code",
   "execution_count": 4,
   "metadata": {},
   "outputs": [],
   "source": [
    "class Hominidae():\n",
    "    \n",
    "    def communication(self):\n",
    "        print('They use auditory calls and visual cues.')\n",
    "    \n",
    "    def walk(self):\n",
    "        print('They are knuckle-walkers, used to hang and swing from one tree to another.')"
   ]
  },
  {
   "cell_type": "code",
   "execution_count": 5,
   "metadata": {},
   "outputs": [],
   "source": [
    "class Human(Hominidae):\n",
    "    \n",
    "    def communication(self):\n",
    "        print('They use language to communicate.')\n",
    "    \n",
    "    def walk(self):\n",
    "        print('They are bipeds.')"
   ]
  },
  {
   "cell_type": "code",
   "execution_count": 6,
   "metadata": {},
   "outputs": [],
   "source": [
    "class Gorrila(Hominidae):\n",
    "    \n",
    "    def communication(self):\n",
    "        print('They use twenty-five distinct vocalizations to communicate.')\n",
    "    \n",
    "    def walk(self):\n",
    "        print('They are knuckle-walkers.')"
   ]
  },
  {
   "cell_type": "code",
   "execution_count": 8,
   "metadata": {},
   "outputs": [],
   "source": [
    "hominidae_1 = Hominidae()\n",
    "human_1 = Human()\n",
    "gorrila_1 = Gorrila()"
   ]
  },
  {
   "cell_type": "code",
   "execution_count": 9,
   "metadata": {},
   "outputs": [
    {
     "name": "stdout",
     "output_type": "stream",
     "text": [
      "They use auditory calls and visual cues.\n",
      "They use language to communicate.\n",
      "They use twenty-five distinct vocalizations to communicate.\n"
     ]
    }
   ],
   "source": [
    "hominidae_1.communication()\n",
    "human_1.communication()\n",
    "gorrila_1.communication()"
   ]
  },
  {
   "cell_type": "markdown",
   "metadata": {},
   "source": [
    "This is polimorfism, they display hierarcically its method, overwrriting the others."
   ]
  },
  {
   "cell_type": "code",
   "execution_count": 10,
   "metadata": {},
   "outputs": [
    {
     "name": "stdout",
     "output_type": "stream",
     "text": [
      "They are knuckle-walkers, used to hang and swing from one tree to another.\n",
      "They are bipeds.\n",
      "They are knuckle-walkers.\n"
     ]
    }
   ],
   "source": [
    "hominidae_1.walk()\n",
    "human_1.walk()\n",
    "gorrila_1.walk()"
   ]
  },
  {
   "cell_type": "markdown",
   "metadata": {},
   "source": [
    "### Parte 2"
   ]
  },
  {
   "cell_type": "code",
   "execution_count": 13,
   "metadata": {},
   "outputs": [],
   "source": [
    "class BankAccount:\n",
    "    def __init__(self, balance):\n",
    "        self.__balance = balance\n",
    "        \n",
    "    def deposit(self, value):\n",
    "        self.__balance = self.__balance + value\n",
    "        print('Deposit amount:', value)\n",
    "        print('Balance after depositing:', self.__balance)\n",
    "        \n",
    "    def withdrawal(self, value):\n",
    "        self.__balance = self.__balance - value\n",
    "        print('Withdrawal amount:', value)\n",
    "        print('Balance after withdrawal:', self.__balance)\n",
    "        \n",
    "    "
   ]
  },
  {
   "cell_type": "code",
   "execution_count": 14,
   "metadata": {},
   "outputs": [
    {
     "name": "stdout",
     "output_type": "stream",
     "text": [
      "Deposit amount: 100\n",
      "Balance after depositing: 1600\n"
     ]
    }
   ],
   "source": [
    "b_1 = BankAccount(1500)\n",
    "b_1.deposit(100)"
   ]
  },
  {
   "cell_type": "code",
   "execution_count": 15,
   "metadata": {},
   "outputs": [
    {
     "name": "stdout",
     "output_type": "stream",
     "text": [
      "Withdrawal amount: 200\n",
      "Balance after withdrawal: 1400\n"
     ]
    }
   ],
   "source": [
    "b_1.withdrawal(200)"
   ]
  },
  {
   "cell_type": "code",
   "execution_count": 22,
   "metadata": {},
   "outputs": [],
   "source": [
    "class CurrentAccount(BankAccount):\n",
    "    \n",
    "    def __init__(self, balance):\n",
    "        super().__init__(balance) #OJO  que aquí al usar super(), no hay que meter el self\n",
    "        \n",
    "    def withdrawal(self, value):\n",
    "        if value > 1000:\n",
    "            print('Contact your branch manager')\n",
    "        else:\n",
    "            super().withdrawal(value)"
   ]
  },
  {
   "cell_type": "code",
   "execution_count": 23,
   "metadata": {},
   "outputs": [
    {
     "name": "stdout",
     "output_type": "stream",
     "text": [
      "Withdrawal amount: 100\n",
      "Balance after withdrawal: 1400\n"
     ]
    }
   ],
   "source": [
    "c_1 = CurrentAccount(1500)\n",
    "c_1.withdrawal(100)"
   ]
  },
  {
   "cell_type": "code",
   "execution_count": 24,
   "metadata": {},
   "outputs": [
    {
     "name": "stdout",
     "output_type": "stream",
     "text": [
      "Contact your branch manager\n"
     ]
    }
   ],
   "source": [
    "c_1.withdrawal(1400)"
   ]
  },
  {
   "cell_type": "code",
   "execution_count": 25,
   "metadata": {},
   "outputs": [],
   "source": [
    "class SavingsAccount(BankAccount):\n",
    "    \n",
    "    def __init__(self, balance):\n",
    "        super().__init__(balance) #OJO  que aquí al usar super(), no hay que meter el self\n",
    "        \n",
    "    def deposit(self, value):\n",
    "        value += 0.05 * value\n",
    "        super().deposit(value)"
   ]
  },
  {
   "cell_type": "code",
   "execution_count": 30,
   "metadata": {},
   "outputs": [
    {
     "name": "stdout",
     "output_type": "stream",
     "text": [
      "Deposit amount: 525.0\n",
      "Balance after depositing: 2525.0\n"
     ]
    }
   ],
   "source": [
    "s_1 = SavingsAccount(2000)\n",
    "s_1.deposit(500)"
   ]
  },
  {
   "cell_type": "code",
   "execution_count": null,
   "metadata": {},
   "outputs": [],
   "source": []
  },
  {
   "cell_type": "code",
   "execution_count": null,
   "metadata": {},
   "outputs": [],
   "source": []
  },
  {
   "cell_type": "code",
   "execution_count": null,
   "metadata": {},
   "outputs": [],
   "source": []
  },
  {
   "cell_type": "code",
   "execution_count": null,
   "metadata": {},
   "outputs": [],
   "source": []
  },
  {
   "cell_type": "code",
   "execution_count": null,
   "metadata": {},
   "outputs": [],
   "source": []
  },
  {
   "cell_type": "code",
   "execution_count": null,
   "metadata": {},
   "outputs": [],
   "source": []
  },
  {
   "cell_type": "code",
   "execution_count": null,
   "metadata": {},
   "outputs": [],
   "source": []
  },
  {
   "cell_type": "code",
   "execution_count": null,
   "metadata": {},
   "outputs": [],
   "source": []
  }
 ],
 "metadata": {
  "kernelspec": {
   "display_name": "Python 3",
   "language": "python",
   "name": "python3"
  },
  "language_info": {
   "codemirror_mode": {
    "name": "ipython",
    "version": 3
   },
   "file_extension": ".py",
   "mimetype": "text/x-python",
   "name": "python",
   "nbconvert_exporter": "python",
   "pygments_lexer": "ipython3",
   "version": "3.7.6"
  }
 },
 "nbformat": 4,
 "nbformat_minor": 4
}
