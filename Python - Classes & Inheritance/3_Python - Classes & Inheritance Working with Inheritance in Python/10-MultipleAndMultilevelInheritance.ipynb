{
 "cells": [
  {
   "cell_type": "markdown",
   "metadata": {},
   "source": [
    "Entities can have multiple is-a relationships. A dog is a canine and a dog is a mammal.\n",
    "\n",
    "**Se puede heredar de varias clases**"
   ]
  },
  {
   "cell_type": "code",
   "execution_count": 2,
   "metadata": {},
   "outputs": [],
   "source": [
    "class Father:\n",
    "    pass\n",
    "class Mother:\n",
    "    pass"
   ]
  },
  {
   "cell_type": "code",
   "execution_count": 3,
   "metadata": {},
   "outputs": [],
   "source": [
    "class Child1(Father, Mother):\n",
    "    pass"
   ]
  },
  {
   "cell_type": "code",
   "execution_count": 6,
   "metadata": {},
   "outputs": [
    {
     "name": "stdout",
     "output_type": "stream",
     "text": [
      "Help on class Child1 in module __main__:\n",
      "\n",
      "class Child1(Father, Mother)\n",
      " |  Method resolution order:\n",
      " |      Child1\n",
      " |      Father\n",
      " |      Mother\n",
      " |      builtins.object\n",
      " |  \n",
      " |  Data descriptors inherited from Father:\n",
      " |  \n",
      " |  __dict__\n",
      " |      dictionary for instance variables (if defined)\n",
      " |  \n",
      " |  __weakref__\n",
      " |      list of weak references to the object (if defined)\n",
      "\n"
     ]
    }
   ],
   "source": [
    "help(Child1)\n",
    "# - Look first Child1 -> Father -> MOther -> builtins.object\n",
    "# ¿Por qué padre va primero que madre? -> Por el orden en el que se han introducido en Child1(1ºFather, 2ºMother)"
   ]
  },
  {
   "cell_type": "code",
   "execution_count": 7,
   "metadata": {},
   "outputs": [],
   "source": [
    "class Child2(Mother, Father):\n",
    "    pass"
   ]
  },
  {
   "cell_type": "code",
   "execution_count": 8,
   "metadata": {},
   "outputs": [
    {
     "name": "stdout",
     "output_type": "stream",
     "text": [
      "Help on class Child2 in module __main__:\n",
      "\n",
      "class Child2(Mother, Father)\n",
      " |  Method resolution order:\n",
      " |      Child2\n",
      " |      Mother\n",
      " |      Father\n",
      " |      builtins.object\n",
      " |  \n",
      " |  Data descriptors inherited from Mother:\n",
      " |  \n",
      " |  __dict__\n",
      " |      dictionary for instance variables (if defined)\n",
      " |  \n",
      " |  __weakref__\n",
      " |      list of weak references to the object (if defined)\n",
      "\n"
     ]
    }
   ],
   "source": [
    "help(Child2)"
   ]
  },
  {
   "cell_type": "code",
   "execution_count": 3,
   "metadata": {},
   "outputs": [],
   "source": [
    "class Father:\n",
    "    \n",
    "    def height(self):\n",
    "        print('I have inherited my height from my father')\n",
    "        \n",
    "class Mother:\n",
    "        \n",
    "    def intelligence(self):\n",
    "        print('I have inherited my intelligence from my mother')"
   ]
  },
  {
   "cell_type": "code",
   "execution_count": 4,
   "metadata": {},
   "outputs": [],
   "source": [
    "class Child(Father, Mother):\n",
    "    \n",
    "    def experiences(self):\n",
    "        print('My experiencies are all my own')"
   ]
  },
  {
   "cell_type": "code",
   "execution_count": 9,
   "metadata": {},
   "outputs": [
    {
     "name": "stdout",
     "output_type": "stream",
     "text": [
      "I have inherited my height from my father\n",
      "I have inherited my intelligence from my mother\n",
      "My experiencies are all my own\n"
     ]
    }
   ],
   "source": [
    "c = Child()\n",
    "c.height()\n",
    "c.intelligence()\n",
    "c.experiences()"
   ]
  },
  {
   "cell_type": "markdown",
   "metadata": {},
   "source": [
    "Diferencia entre return para devolver datos y print"
   ]
  },
  {
   "cell_type": "code",
   "execution_count": 19,
   "metadata": {},
   "outputs": [],
   "source": [
    "class Employee:\n",
    "    \n",
    "    def __init__(self, name, age):\n",
    "        \n",
    "        self.__name = name\n",
    "        self.__age = age\n",
    "    \n",
    "    def show_name(self):\n",
    "        print(self.__name)\n",
    "    def show_age(self):\n",
    "        print(self.__age)\n",
    "        #return self.__age\n",
    "        "
   ]
  },
  {
   "cell_type": "code",
   "execution_count": 25,
   "metadata": {},
   "outputs": [],
   "source": [
    "class Employee2:\n",
    "    \n",
    "    def __init__(self, name, age):\n",
    "        \n",
    "        self.__name = name\n",
    "        self.__age = age\n",
    "    \n",
    "    def show_name(self):\n",
    "        return self.__name\n",
    "    def show_age(self):\n",
    "        return self.__age\n",
    "        #return self.__age"
   ]
  },
  {
   "cell_type": "code",
   "execution_count": 26,
   "metadata": {},
   "outputs": [
    {
     "name": "stdout",
     "output_type": "stream",
     "text": [
      "Alvaro\n",
      "56\n"
     ]
    },
    {
     "data": {
      "text/plain": [
       "(None, None, 'Alvaro', 56)"
      ]
     },
     "execution_count": 26,
     "metadata": {},
     "output_type": "execute_result"
    }
   ],
   "source": [
    "e = Employee('Alvaro', 56)\n",
    "e2 = Employee2('Alvaro', 56)\n",
    "e.show_name(), e.show_age(), e2.show_name(), e2.show_age()"
   ]
  },
  {
   "cell_type": "code",
   "execution_count": 40,
   "metadata": {},
   "outputs": [],
   "source": [
    "class Salary:\n",
    "    def __init__(self, salary):\n",
    "        self.__salary = salary\n",
    "    \n",
    "    def get_salary(self):\n",
    "        print(self.__salary)"
   ]
  },
  {
   "cell_type": "code",
   "execution_count": 41,
   "metadata": {},
   "outputs": [],
   "source": [
    "class Database(Employee, Salary):\n",
    "    \n",
    "    def __init__(self, name, age, salary):\n",
    "        Employee.__init__(self, name, age)\n",
    "        Salary.__init__(self, salary)"
   ]
  },
  {
   "cell_type": "code",
   "execution_count": 42,
   "metadata": {},
   "outputs": [],
   "source": [
    "empl = Database('Robin',26,98000)"
   ]
  },
  {
   "cell_type": "code",
   "execution_count": 43,
   "metadata": {},
   "outputs": [
    {
     "name": "stdout",
     "output_type": "stream",
     "text": [
      "Robin\n"
     ]
    }
   ],
   "source": [
    "empl.show_name()"
   ]
  },
  {
   "cell_type": "code",
   "execution_count": 44,
   "metadata": {},
   "outputs": [
    {
     "name": "stdout",
     "output_type": "stream",
     "text": [
      "26\n"
     ]
    }
   ],
   "source": [
    "empl.show_age()"
   ]
  },
  {
   "cell_type": "code",
   "execution_count": 45,
   "metadata": {},
   "outputs": [
    {
     "name": "stdout",
     "output_type": "stream",
     "text": [
      "98000\n"
     ]
    }
   ],
   "source": [
    "empl.get_salary()"
   ]
  },
  {
   "cell_type": "code",
   "execution_count": 46,
   "metadata": {},
   "outputs": [
    {
     "name": "stdout",
     "output_type": "stream",
     "text": [
      "Help on class Database in module __main__:\n",
      "\n",
      "class Database(Employee, Salary)\n",
      " |  Database(name, age, salary)\n",
      " |  \n",
      " |  Method resolution order:\n",
      " |      Database\n",
      " |      Employee\n",
      " |      Salary\n",
      " |      builtins.object\n",
      " |  \n",
      " |  Methods defined here:\n",
      " |  \n",
      " |  __init__(self, name, age, salary)\n",
      " |      Initialize self.  See help(type(self)) for accurate signature.\n",
      " |  \n",
      " |  ----------------------------------------------------------------------\n",
      " |  Methods inherited from Employee:\n",
      " |  \n",
      " |  show_age(self)\n",
      " |  \n",
      " |  show_name(self)\n",
      " |  \n",
      " |  ----------------------------------------------------------------------\n",
      " |  Data descriptors inherited from Employee:\n",
      " |  \n",
      " |  __dict__\n",
      " |      dictionary for instance variables (if defined)\n",
      " |  \n",
      " |  __weakref__\n",
      " |      list of weak references to the object (if defined)\n",
      " |  \n",
      " |  ----------------------------------------------------------------------\n",
      " |  Methods inherited from Salary:\n",
      " |  \n",
      " |  get_salary(self)\n",
      "\n"
     ]
    }
   ],
   "source": [
    "help(Database)"
   ]
  },
  {
   "cell_type": "markdown",
   "metadata": {},
   "source": [
    "## Multilevel inheritance"
   ]
  },
  {
   "cell_type": "code",
   "execution_count": 47,
   "metadata": {},
   "outputs": [],
   "source": [
    "class Grandparent:\n",
    "    \n",
    "    def height(self):\n",
    "        print('I have inherited my height from my grandparent')\n",
    "        \n",
    "class Parent(Grandparent):\n",
    "        \n",
    "    def intelligence(self):\n",
    "        print('I have inherited my intelligence from my parent')\n",
    "        \n",
    "class Child(Parent):\n",
    "    \n",
    "    def experiences(self):\n",
    "        print('My experiencies are all my own')"
   ]
  },
  {
   "cell_type": "code",
   "execution_count": 48,
   "metadata": {},
   "outputs": [
    {
     "name": "stdout",
     "output_type": "stream",
     "text": [
      "Help on class Child in module __main__:\n",
      "\n",
      "class Child(Parent)\n",
      " |  Method resolution order:\n",
      " |      Child\n",
      " |      Parent\n",
      " |      Grandparent\n",
      " |      builtins.object\n",
      " |  \n",
      " |  Methods defined here:\n",
      " |  \n",
      " |  experiences(self)\n",
      " |  \n",
      " |  ----------------------------------------------------------------------\n",
      " |  Methods inherited from Parent:\n",
      " |  \n",
      " |  intelligence(self)\n",
      " |  \n",
      " |  ----------------------------------------------------------------------\n",
      " |  Methods inherited from Grandparent:\n",
      " |  \n",
      " |  height(self)\n",
      " |  \n",
      " |  ----------------------------------------------------------------------\n",
      " |  Data descriptors inherited from Grandparent:\n",
      " |  \n",
      " |  __dict__\n",
      " |      dictionary for instance variables (if defined)\n",
      " |  \n",
      " |  __weakref__\n",
      " |      list of weak references to the object (if defined)\n",
      "\n"
     ]
    }
   ],
   "source": [
    "help(Child)"
   ]
  },
  {
   "cell_type": "code",
   "execution_count": 51,
   "metadata": {},
   "outputs": [
    {
     "name": "stdout",
     "output_type": "stream",
     "text": [
      "I have inherited my height from my grandparent\n",
      "I have inherited my intelligence from my parent\n",
      "My experiencies are all my own\n"
     ]
    }
   ],
   "source": [
    "c = Child()\n",
    "c.height()\n",
    "c.intelligence()\n",
    "c.experiences()"
   ]
  },
  {
   "cell_type": "code",
   "execution_count": 57,
   "metadata": {},
   "outputs": [],
   "source": [
    "class Grandparent:\n",
    "    \n",
    "    def __init__(self, city):\n",
    "        self.__city = city\n",
    "    \n",
    "    def get_city(self):\n",
    "        return self.__city\n",
    "    \n",
    "class Parent(Grandparent):\n",
    "        \n",
    "    def __init__(self, city, lastname): #Para construir este init. CONSEJO: copiar el init de la superclase y añadir nuevos inputs.\n",
    "        Grandparent.__init__(self, city) # Aquí es poner el nombre de la superclase y copiar directamente su init\n",
    "        \n",
    "        self.__lastname = lastname\n",
    "    \n",
    "    def get_lastname(self):\n",
    "        return self.__lastname\n",
    "        "
   ]
  },
  {
   "cell_type": "code",
   "execution_count": 54,
   "metadata": {},
   "outputs": [],
   "source": [
    "p1 = Parent(city = 'Palencia', lastname = 'Sanchez')"
   ]
  },
  {
   "cell_type": "code",
   "execution_count": 56,
   "metadata": {},
   "outputs": [
    {
     "data": {
      "text/plain": [
       "('Palencia', 'Sanchez')"
      ]
     },
     "execution_count": 56,
     "metadata": {},
     "output_type": "execute_result"
    }
   ],
   "source": [
    "p1.get_city(), p1.get_lastname()"
   ]
  },
  {
   "cell_type": "code",
   "execution_count": 62,
   "metadata": {},
   "outputs": [],
   "source": [
    "class Person(Parent):\n",
    "        \n",
    "    def __init__(self, city, lastname, firstname):\n",
    "        Parent.__init__(self, city, lastname)\n",
    "        \n",
    "        self.__firstname = firstname\n",
    "    \n",
    "    def get_firstname(self):\n",
    "        return self.__firstname"
   ]
  },
  {
   "cell_type": "code",
   "execution_count": 63,
   "metadata": {},
   "outputs": [],
   "source": [
    "person = Person('Palencia', 'Sanchez', 'Alvaro')"
   ]
  },
  {
   "cell_type": "code",
   "execution_count": 64,
   "metadata": {},
   "outputs": [
    {
     "data": {
      "text/plain": [
       "('Palencia', 'Sanchez', 'Alvaro')"
      ]
     },
     "execution_count": 64,
     "metadata": {},
     "output_type": "execute_result"
    }
   ],
   "source": [
    "person.get_city(),person.get_lastname(), person.get_firstname()"
   ]
  },
  {
   "cell_type": "code",
   "execution_count": 65,
   "metadata": {},
   "outputs": [
    {
     "name": "stdout",
     "output_type": "stream",
     "text": [
      "Help on Person in module __main__ object:\n",
      "\n",
      "class Person(Parent)\n",
      " |  Person(city, lastname, firstname)\n",
      " |  \n",
      " |  Method resolution order:\n",
      " |      Person\n",
      " |      Parent\n",
      " |      Grandparent\n",
      " |      builtins.object\n",
      " |  \n",
      " |  Methods defined here:\n",
      " |  \n",
      " |  __init__(self, city, lastname, firstname)\n",
      " |      Initialize self.  See help(type(self)) for accurate signature.\n",
      " |  \n",
      " |  get_firstname(self)\n",
      " |  \n",
      " |  ----------------------------------------------------------------------\n",
      " |  Methods inherited from Parent:\n",
      " |  \n",
      " |  get_lastname(self)\n",
      " |  \n",
      " |  ----------------------------------------------------------------------\n",
      " |  Methods inherited from Grandparent:\n",
      " |  \n",
      " |  get_city(self)\n",
      " |  \n",
      " |  ----------------------------------------------------------------------\n",
      " |  Data descriptors inherited from Grandparent:\n",
      " |  \n",
      " |  __dict__\n",
      " |      dictionary for instance variables (if defined)\n",
      " |  \n",
      " |  __weakref__\n",
      " |      list of weak references to the object (if defined)\n",
      "\n"
     ]
    }
   ],
   "source": [
    "help(person)"
   ]
  },
  {
   "cell_type": "markdown",
   "metadata": {},
   "source": [
    "Clase más compleja, notar que:\n",
    "- En get_introduction. Coge los atributos con super(), no hay que estar pensando de que superclase vienen!! It does not matter which base class has the definition for this method, you can simply use the super method in order to referr to any base class in this multilevel inheritance hierarchy\n",
    "- En get_information, también accede a el lastname y la city, pero simplemente llamando al self.\n"
   ]
  },
  {
   "cell_type": "code",
   "execution_count": 73,
   "metadata": {},
   "outputs": [],
   "source": [
    "class Person(Parent):\n",
    "        \n",
    "    def __init__(self, city, lastname, firstname):\n",
    "        Parent.__init__(self, city, lastname)\n",
    "        \n",
    "        self.__firstname = firstname\n",
    "    \n",
    "    def get_firstname(self):\n",
    "        return self.__firstname\n",
    "    \n",
    "    def get_introduction(self):\n",
    "        lastname = super().get_lastname()\n",
    "        city = super().get_city()\n",
    "        \n",
    "        print('Hi, I am %s %s from %s' % (self.__firstname, lastname, city))\n",
    "    \n",
    "    def get_information(self):\n",
    "        lastname = self.get_lastname()\n",
    "        city = self.get_city()\n",
    "        \n",
    "        print('Hi, I am %s %s from %s' % (self.__firstname, lastname, city))\n",
    "        \n",
    "        "
   ]
  },
  {
   "cell_type": "code",
   "execution_count": 75,
   "metadata": {},
   "outputs": [
    {
     "name": "stdout",
     "output_type": "stream",
     "text": [
      "Hi, I am Sanchez Alvaro from Palencia\n",
      "Hi, I am Sanchez Alvaro from Palencia\n"
     ]
    },
    {
     "data": {
      "text/plain": [
       "(None, None)"
      ]
     },
     "execution_count": 75,
     "metadata": {},
     "output_type": "execute_result"
    }
   ],
   "source": [
    "p = Person('Palencia', 'Alvaro', 'Sanchez')\n",
    "p.get_introduction(), p.get_information()"
   ]
  },
  {
   "cell_type": "code",
   "execution_count": null,
   "metadata": {},
   "outputs": [],
   "source": []
  },
  {
   "cell_type": "code",
   "execution_count": null,
   "metadata": {},
   "outputs": [],
   "source": []
  },
  {
   "cell_type": "code",
   "execution_count": null,
   "metadata": {},
   "outputs": [],
   "source": []
  },
  {
   "cell_type": "code",
   "execution_count": null,
   "metadata": {},
   "outputs": [],
   "source": []
  },
  {
   "cell_type": "code",
   "execution_count": null,
   "metadata": {},
   "outputs": [],
   "source": []
  }
 ],
 "metadata": {
  "kernelspec": {
   "display_name": "Python 3",
   "language": "python",
   "name": "python3"
  },
  "language_info": {
   "codemirror_mode": {
    "name": "ipython",
    "version": 3
   },
   "file_extension": ".py",
   "mimetype": "text/x-python",
   "name": "python",
   "nbconvert_exporter": "python",
   "pygments_lexer": "ipython3",
   "version": "3.7.9"
  }
 },
 "nbformat": 4,
 "nbformat_minor": 4
}
