{
 "cells": [
  {
   "cell_type": "code",
   "execution_count": null,
   "metadata": {},
   "outputs": [],
   "source": [
    "class Competition:\n",
    "    \n",
    "    __raise_amount = 1.1\n",
    "    \n",
    "    def __init__(self, name, prize):\n",
    "        self.__name = name\n",
    "        self.__prize = prize\n",
    "        \n",
    "    def get_name(self):\n",
    "        return self.__name\n",
    "    def get_prize(self):\n",
    "        return self.__prize\n",
    "    def raise_prize(self):\n",
    "        self.__prize = self.__prize * self.__raise_amount"
   ]
  },
  {
   "cell_type": "code",
   "execution_count": null,
   "metadata": {},
   "outputs": [],
   "source": [
    "race = Competition('race', 100)\n",
    "type(race)"
   ]
  },
  {
   "cell_type": "markdown",
   "metadata": {},
   "source": [
    "El método help nos permite nevegar dentro de la clase de forma esquemática. You can pass in a particular class that you've defined, in order to figure out attributes of this class.\n",
    "\n",
    "- Competition inherits from the built-in object class: Competition(builtins.object)"
   ]
  },
  {
   "cell_type": "code",
   "execution_count": null,
   "metadata": {},
   "outputs": [],
   "source": [
    "help(Competition)"
   ]
  },
  {
   "cell_type": "code",
   "execution_count": null,
   "metadata": {},
   "outputs": [],
   "source": [
    "Competition.__dict__"
   ]
  },
  {
   "cell_type": "code",
   "execution_count": null,
   "metadata": {},
   "outputs": [],
   "source": [
    "class Sprint(Competition):\n",
    "    pass"
   ]
  },
  {
   "cell_type": "code",
   "execution_count": null,
   "metadata": {},
   "outputs": [],
   "source": [
    "Si hacemos help en Sprint, veremos la class hierarchy\n",
    "- El metodo hereda de Competition\n",
    "- El method resolution order(class inheritance hierarchy). El orden será: look for the code for that particular method in Sprint--> Competition --> builins.object"
   ]
  },
  {
   "cell_type": "code",
   "execution_count": null,
   "metadata": {},
   "outputs": [],
   "source": [
    "help(Sprint)"
   ]
  },
  {
   "cell_type": "code",
   "execution_count": null,
   "metadata": {},
   "outputs": [],
   "source": [
    "Sprint.__dict__ # ES un pass, no tiene code defined in its body, it inherits all of the methods and classes"
   ]
  },
  {
   "cell_type": "code",
   "execution_count": null,
   "metadata": {},
   "outputs": [],
   "source": [
    "sprint = Sprint('100m' , 700)\n",
    "type(sprint)"
   ]
  },
  {
   "cell_type": "code",
   "execution_count": null,
   "metadata": {},
   "outputs": [],
   "source": [
    "sprint.__dict__"
   ]
  },
  {
   "cell_type": "code",
   "execution_count": null,
   "metadata": {},
   "outputs": [],
   "source": [
    "sprint.raise_prize()\n",
    "sprint.get_prize()"
   ]
  },
  {
   "cell_type": "code",
   "execution_count": null,
   "metadata": {},
   "outputs": [],
   "source": []
  },
  {
   "cell_type": "markdown",
   "metadata": {},
   "source": [
    "### El método super()\n",
    "\n",
    "- **super() References the parent of the current child class**. Es un method invokation\n",
    "\n",
    "-PAsos: 1 Pongo Competition entre paréntesis y luego super().__init__(superclass attributes)"
   ]
  },
  {
   "cell_type": "code",
   "execution_count": null,
   "metadata": {},
   "outputs": [],
   "source": [
    "class Competition:\n",
    "    \n",
    "    __raise_amount = 1.1\n",
    "    \n",
    "    def __init__(self, name, prize):\n",
    "        self.__name = name\n",
    "        self.__prize = prize\n",
    "        \n",
    "    def get_name(self):\n",
    "        return self.__name\n",
    "    def get_prize(self):\n",
    "        return self.__prize\n",
    "    def raise_prize(self):\n",
    "        self.__prize = self.__prize * self.__raise_amount"
   ]
  },
  {
   "cell_type": "code",
   "execution_count": null,
   "metadata": {},
   "outputs": [],
   "source": [
    "class Cycling(Competition):\n",
    "    \n",
    "    def __init__(self, name, prize, country): #NAme and prize are arguments of the __init__ method of the base competition class\n",
    "        super().__init__(name, prize)\n",
    "        \n",
    "        self.__country = country\n",
    "        \n",
    "    def get_country(self):\n",
    "        return self.__country\n",
    "        "
   ]
  },
  {
   "cell_type": "code",
   "execution_count": null,
   "metadata": {},
   "outputs": [],
   "source": [
    "cycling = Cycling('10km', 7500, 'USA')\n",
    "cycling.get_country()"
   ]
  },
  {
   "cell_type": "code",
   "execution_count": null,
   "metadata": {},
   "outputs": [],
   "source": [
    "cycling.get_name(), cycling.get_prize()"
   ]
  },
  {
   "cell_type": "code",
   "execution_count": null,
   "metadata": {},
   "outputs": [],
   "source": [
    "class Competition2:\n",
    "    \n",
    "    __raise_amount = 1.1\n",
    "    \n",
    "    def __init__(self, name):\n",
    "        self.__name = name\n",
    "\n",
    "    def get_name(self):\n",
    "        return self.__name\n",
    "    def get_prize(self):\n",
    "        return self.__prize\n",
    "    def raise_prize(self):\n",
    "        self.__prize = self.__prize * self.__raise_amount"
   ]
  },
  {
   "cell_type": "code",
   "execution_count": null,
   "metadata": {},
   "outputs": [],
   "source": [
    "class Cycling_2(Competition2):\n",
    "    \n",
    "    def __init__(self): #NAme and prize are arguments of the __init__ method of the base competition class\n",
    "        super().__init__(name = 'Alvaro')\n",
    "        self.__country = 'España' \n",
    "    def get_country(self):\n",
    "        return self.__country\n",
    "        "
   ]
  },
  {
   "cell_type": "code",
   "execution_count": null,
   "metadata": {},
   "outputs": [],
   "source": [
    "cycling2 = Cycling_2()\n",
    "cycling2.get_name(), cycling2.get_country()\n",
    "\n"
   ]
  },
  {
   "cell_type": "code",
   "execution_count": null,
   "metadata": {},
   "outputs": [],
   "source": []
  },
  {
   "cell_type": "markdown",
   "metadata": {},
   "source": [
    "**To check whether a particular class is a part of a certain hierarchy** --> issubclass"
   ]
  },
  {
   "cell_type": "code",
   "execution_count": null,
   "metadata": {},
   "outputs": [],
   "source": [
    "issubclass(Cycling, Competition)"
   ]
  },
  {
   "cell_type": "code",
   "execution_count": null,
   "metadata": {},
   "outputs": [],
   "source": [
    "class Shooting(): # IT does not dervie from competition\n",
    "    \n",
    "    def __init__(self, name):\n",
    "        self.first = name"
   ]
  },
  {
   "cell_type": "code",
   "execution_count": null,
   "metadata": {},
   "outputs": [],
   "source": [
    "issubclass(Shooting, Competition)"
   ]
  },
  {
   "cell_type": "code",
   "execution_count": null,
   "metadata": {},
   "outputs": [],
   "source": []
  },
  {
   "cell_type": "markdown",
   "metadata": {},
   "source": [
    "# Modulo appdata"
   ]
  },
  {
   "cell_type": "markdown",
   "metadata": {},
   "source": [
    "## ParseTicker"
   ]
  },
  {
   "cell_type": "code",
   "execution_count": 1,
   "metadata": {},
   "outputs": [],
   "source": [
    "class BaseParser():\n",
    "    \n",
    "    def __init__(self, source, target):\n",
    "        self.__source = source\n",
    "        self.__target = target\n",
    "        self.__exceptions ={('Wiki','YahooFinance'):{'IBEX35': '^IBEX','CAC40': '^FCHI','DAX30': '^GDAXI', 'SP500':'^GSPC'},\n",
    "                            ('Wiki','AlphaVantage'):{}}\n",
    "        \n",
    "    \n",
    "    def get_exceptions(self):\n",
    "        return self.__exceptions\n",
    "    \n",
    "    def set_source(self, source):\n",
    "        print(\"Set ticker source in parser\")\n",
    "        self.__source = source\n",
    "    \n",
    "    def get_source(self):\n",
    "        return self.__source\n",
    "    \n",
    "    def set_target(self, target):\n",
    "        print(\"Set ticker target in parser\")\n",
    "        self.__target = target\n",
    "    \n",
    "    def get_target(self):\n",
    "        return self.__target\n",
    "       \n",
    "    def parse(self, name, prefix, suffix, excedent_string):\n",
    "        key_tuple = (self.__source,self.__target) # Tuple key to select Source-Target exceptions\n",
    "        \n",
    "        exception_dict = self.__exceptions.get(key_tuple, {}) #FIX inform not properly loaded. Mirar longitud del dict.\n",
    "\n",
    "        if name in exception_dict:\n",
    "            return exception_dict.get(name, name) \n",
    "        \n",
    "        name = name.replace(excedent_string,'')\n",
    "        return prefix + name + suffix"
   ]
  },
  {
   "cell_type": "code",
   "execution_count": 2,
   "metadata": {},
   "outputs": [],
   "source": [
    "class WikiToYahooFinance_Parser(BaseParser):\n",
    "    \n",
    "    def __init__(self):\n",
    "        super().__init__(source='Wiki', target='YahooFinance')\n",
    "        \n",
    "        self.__parser_keys = {'IBEX35':{'maket':'IBEX35', 'prefix':'','suffix':'.MC','excedent_string':''},\n",
    "              'CAC40':{'maket':'CAC40','prefix':'','suffix':'.PA','excedent_string':'Euronext: '},\n",
    "              'DAX30':{'maket':'DAX30','prefix':'','suffix':'.DE', 'excedent_string':''},\n",
    "              'SP500':{'market':'SP500','prefix':'','suffix':'', 'excedent_string':''}}\n",
    "    \n",
    "    def parse_markets(self, raw_ticker): # Feeds tickers for Yahoo finance downloader based on market. Uses parse from BaseParser\n",
    "        if raw_ticker['market'] == 'IBEX35': #Fix: Repensar esto \n",
    "            return super().parse(raw_ticker['ticker'],\n",
    "                                 self.__parser_keys['IBEX35']['prefix'], \n",
    "                                 self.__parser_keys['IBEX35']['suffix'],\n",
    "                                 self.__parser_keys['IBEX35']['excedent_string'])\n",
    "        if raw_ticker['market'] == 'CAC40': \n",
    "            return super().parse(raw_ticker['ticker'], \n",
    "                                 self.__parser_keys['CAC40']['prefix'], \n",
    "                                 self.__parser_keys['CAC40']['suffix'],\n",
    "                                 self.__parser_keys['CAC40']['excedent_string'])\n",
    "        if raw_ticker['market'] == 'DAX30':\n",
    "            return  super().parse(raw_ticker['ticker'], \n",
    "                                  self.__parser_keys['DAX30']['prefix'], \n",
    "                                  self.__parser_keys['DAX30']['suffix'], \n",
    "                                  self.__parser_keys['DAX30']['excedent_string'])\n",
    "        if raw_ticker['market'] == 'SP500':\n",
    "            return  super().parse(raw_ticker['ticker'], \n",
    "                                  self.__parser_keys['SP500']['prefix'], \n",
    "                                  self.__parser_keys['SP500']['suffix'],\n",
    "                                  self.__parser_keys['SP500']['excedent_string'])\n",
    "        else:\n",
    "            return raw_ticker['ticker']\n",
    "        \n",
    "        \n",
    "    def feeder_ticker(self,feed_ticker): # Appends feeds to original dictionary, under 'feeds' label. Uses parse_market.\n",
    "        feed_ticker['feeds'] = {'name':self.get_target(),'ticker':self.parse_markets(feed_ticker)}\n",
    "        return feed_ticker\n",
    "    \n",
    "    \n",
    "    def parse_all(self, raw_ticker_list): # Loop of feeder_ticker to feed all the tickers in raw_ticker_list\n",
    "        feed_ticker_list = []\n",
    "        for raw_ticker in raw_ticker_list:\n",
    "            feed_ticker_list.append(self.feeder_ticker(raw_ticker))\n",
    "        print('All tickers fed')\n",
    "        return feed_ticker_list"
   ]
  },
  {
   "cell_type": "markdown",
   "metadata": {},
   "source": [
    "## Housekeeping module"
   ]
  },
  {
   "cell_type": "code",
   "execution_count": 16,
   "metadata": {},
   "outputs": [],
   "source": [
    "import os\n",
    "from os import path \n",
    "import json\n",
    "\n",
    "class data_housekeeper():\n",
    "    \n",
    "    def __init__(self):\n",
    "        pass\n",
    "\n",
    "        \n",
    "    @staticmethod\n",
    "    def create_dir(myDir):\n",
    "        if not path.exists(myDir):\n",
    "            print('Creating dir: ', myDir)\n",
    "            os.mkdir(myDir)\n",
    "    \n",
    "    @staticmethod\n",
    "    def create_nested_directories(dir_path):\n",
    "        myPath = ''\n",
    "        for directory in dir_path:\n",
    "            myPath += './' + directory\n",
    "            data_housekeeper.create_dir(myPath)\n",
    "        #print(myPath)\n",
    "        \n",
    "    @staticmethod\n",
    "    def list_dictionary_to_json(dir_path,file_name, dictionary_list):\n",
    "        data_housekeeper.create_nested_directories(dir_path)\n",
    "        file_path = './' + '/'.join(dir_path) +'/'+ file_name\n",
    "        with open(file_path, 'w') as json_file:\n",
    "            for ticker_data in dictionary_list:\n",
    "                #json.dump(ticker, json_file, separators=(\":\", \",\\n\"))\n",
    "                json.dump(ticker_data, json_file, separators=(\":\", \",\"))\n",
    "                json_file.write('\\n')\n",
    "    \n",
    "    def load_data(self):\n",
    "        pass"
   ]
  },
  {
   "cell_type": "markdown",
   "metadata": {},
   "source": [
    "## TickerManager module"
   ]
  },
  {
   "cell_type": "code",
   "execution_count": 21,
   "metadata": {},
   "outputs": [],
   "source": [
    "from abc import ABC, abstractmethod\n",
    "\n",
    "class TickerManager(ABC):\n",
    "\n",
    "    def __init__(self, tickermanager_id, tickers_list):\n",
    "        #Variables comunes a todos los tipos de tickermanager.\n",
    "        self.__tickermanager_id = tickermanager_id\n",
    "        self.__tickers_list = tickers_list # Lista de diccionarios. Ej:\n",
    "        # [{ \"ticker\":\"BBVA(raw)\", \"market\":\"IBEX35\", \"hora\":\"YYYY/MM/DD/HH/MM/SS\", \"source\":\"Wikipedia\", \"tickerYahoofinance\":\"BBVA.MC\", \"tickerAlphaVantage\":\"BBVA.BM(inventado)\"}]\n",
    "        self.__update_date = [] #FIX, eliminar, esta variable está incluida en el diccionario\n",
    "    \n",
    "    @abstractmethod\n",
    "    def get_raw_tickers(self):\n",
    "        pass\n",
    "\n",
    "    @abstractmethod\n",
    "    def get_parsed_tickers(self):\n",
    "        pass\n",
    "    \n",
    "    @abstractmethod\n",
    "    def get_save_tickers(self):\n",
    "        pass\n",
    "\n",
    "    def set_tickers_list(self, tickers_list):\n",
    "        # Sobreescribe la lista tickers_list\n",
    "        print(\"Set tickers_list\")\n",
    "        self.__tickers_list = tickers_list\n",
    "    \n",
    "    def get_tickers_list(self):\n",
    "        # Devuelve la lista tickers_list\n",
    "        print('Getting tickers_list')\n",
    "        return self.__tickers_list\n",
    "     \n",
    "    def get_num_tickers(self):\n",
    "        # Devuelve el número de diccionarios(uno por cada ticker) en la tickers_list\n",
    "        print(\"Number of tickers: {}\".format(len(self.__tickers_list)))\n",
    "        return len(self.__tickers_list)\n",
    "\n",
    "    def set_tickermanager_id(self, tickermanager_id):\n",
    "        # Actualiza el par-value del diccionario: source. Ej. \"source\":\"Wikipedia\"\n",
    "        print(\"Set tickermanager_id: {}\".format(tickermanager_id))\n",
    "        self.__tickermanager_id = tickermanager_id\n",
    "    \n",
    "    def get_tickermanager_id(self):\n",
    "        print(\"TickerManager id is: {}\".format(self.__tickermanager_id))\n",
    "        return self.__tickermanager_id\n",
    "    \n",
    "    def set_update_date(self, update_date):\n",
    "        # Actualiza el par-value del diccionario: \"hora\":\"YYYY/MM/DD/HH/MM/SS\"\n",
    "        print(\"Set date of update: {}\".format(update_date))\n",
    "        self.__update_date = update_date #FIX. Actualiza diccionario, no nueva variable\n",
    "\n",
    "    def get_update_date(self):\n",
    "        # Devuelve el par-value del diccionario: \"hora\":\"YYYY/MM/DD/HH/MM/SS\"\n",
    "        print(\"Last date of update id is: {}\".format(self.__update_date))\n",
    "        return self.__update_date\n",
    "    \n",
    "    def save_tickers_list(self):\n",
    "        # Guarda la ticker list. Guarda en JSON.\n",
    "        dir_path = ['Data']\n",
    "        file_name = 'tickers.txt'\n",
    "        data_housekeeper.list_dictionary_to_json(dir_path,file_name, self.get_tickers_list())\n",
    "        print(\"Save tickers list\")\n",
    "    "
   ]
  },
  {
   "cell_type": "code",
   "execution_count": 34,
   "metadata": {},
   "outputs": [],
   "source": [
    "import re\n",
    "import os\n",
    "import bs4 as bs\n",
    "import pandas as pd\n",
    "import requests\n",
    "from datetime import date\n",
    "from datetime import datetime\n",
    "\n",
    "\n",
    "class TickerManager_Wiki(TickerManager):\n",
    "\n",
    "    def __init__(self):\n",
    "        super().__init__(tickermanager_id = \"Wiki\", tickers_list=[])\n",
    "        #Variables que sólo sean características del tipo WIKI. Market, url y posiciones en la tabla wiki\n",
    "        #FIX \n",
    "        self.__wiki_metadata = [{'market':'IBEX35','url':'https://es.wikipedia.org/wiki/IBEX_35','pos_table':{'ticker':0, 'company':1,'sector':4,'entry_date':3,'ISIN':5}},\n",
    "                {'market':'DAX30','url':'https://de.wikipedia.org/wiki/DAX','pos_table':{'ticker':1, 'company':0,'sector':2,'entry_date':5}},\n",
    "                {'market':'CAC40','url':'https://es.wikipedia.org/wiki/CAC_40','pos_table':{'ticker':2,'company':0, 'sector':1}},\n",
    "                {'market':'SP500','url':'http://en.wikipedia.org/wiki/List_of_S%26P_500_companies','pos_table':{'ticker':0, 'company':1,'sector':3,'sub_industry':4,'entry_date':6,'CIK':7}}\n",
    "                ]\n",
    "        self.__paths = []\n",
    "        # Instanciar aquí el parser. Para este tickermanger, tener una lista de parsers.\n",
    "        self.__my_parser_W2YF = WikiToYahooFinance_Parser()\n",
    "        # El código puede ser genérico, \n",
    "    \n",
    "    #Métodos que sólo son característicos del tipo Wiki\n",
    "    def get_wikitable_from_url(self,wiki_metadata) -> dict:\n",
    "        #print(wiki_metadata), print(type(wiki_metadata))\n",
    "        resp = requests.get(wiki_metadata['url'])\n",
    "        soup = bs.BeautifulSoup(resp.text, 'lxml')\n",
    "        table = soup.find('table', {'class': 'wikitable sortable'})\n",
    "        wikitable_data = []\n",
    "        for row in table.findAll('tr')[1:]:\n",
    "            wikitable_dict = {}\n",
    "            for key in wiki_metadata['pos_table']:\n",
    "                data = row.findAll('td')[wiki_metadata['pos_table'][key]].text\n",
    "                wikitable_dict[key] = data.strip()\n",
    "            wikitable_dict['market'] = wiki_metadata['market']\n",
    "            wikitable_dict['active_type'] = 'stock'\n",
    "            wikitable_data.append(wikitable_dict)\n",
    "        wikitable_data.append({'ticker':wiki_metadata['market'] ,'market':wiki_metadata['market'], 'active_type':'ETF'})\n",
    "        return wikitable_data\n",
    "    \n",
    "    def get_raw_tickers(self):\n",
    "        # Actualiza los par-value del diccionario: Ticker:value, market:value, name:value.\n",
    "        # Descargar\n",
    "        raw_ticker_list = []\n",
    "        print('Start raw ticker data extraction from Wikipedia ')\n",
    "        for i,metadata in enumerate(self.__wiki_metadata):\n",
    "            print('Getting data from market:{}, site:{}'.format(metadata['market'], metadata['url']))\n",
    "            #print(i), print(metadata)\n",
    "            wikitable_data = self.get_wikitable_from_url(metadata)\n",
    "            raw_ticker_list += wikitable_data\n",
    "        print('Extraction completed')\n",
    "        super().set_tickers_list(raw_ticker_list)\n",
    "\n",
    "\n",
    "    #def get_parsed_tickers(self):\n",
    "    #    # Actualiza los par-value del diccionario: \"tickerYahoofinance\":\"value\", \"tickerAlphaVantage\":\"value\"\n",
    "    #    print('Activation: get_parsed_tickers')\n",
    "    \n",
    "    def get_parsed_tickers(self): # Función con la que hay que engancahr\n",
    "        # Actualiza los par-value del diccionario: \"tickerYahoofinance\":\"value\", \"tickerAlphaVantage\":\"value\"\n",
    "        print('Activation: get_parsed_tickers')\n",
    "        feeder_ticker_list = self.__my_parser_W2YF.parse_all(self.get_tickers_list())\n",
    "        self.set_tickers_list(feeder_ticker_list)\n",
    "        #return feeder_ticker_list\n",
    "        \n",
    "    def get_save_tickers_market(self,market):\n",
    "        print('Activation: get_save_tickers_market. Getting tickers with source in Wikipedia. Market: {}'.format(market))\n",
    "        pass\n",
    "        # Función alto nivel de la clase TickerManager_Wiki. \n",
    "        # Obtiene una lista de diccionarios, un diccionario por ticker con origen Wikipedia para el mercado especificado y lo guarda.\n",
    "    \n",
    "    def get_save_tickers(self):\n",
    "        print('Get tickers with source in Wikipedia. All markets')\n",
    "        pass\n",
    "        # Función alto nivel de la clase TickerManager_Wiki. \n",
    "        # Obtiene una lista de diccionarios, un diccionario por ticker con origen Wiki, para cada uno de los mercados que existen y lo guarda.\n",
    "        # Incluye los siguientes métodos"
   ]
  },
  {
   "cell_type": "code",
   "execution_count": 23,
   "metadata": {},
   "outputs": [
    {
     "name": "stdout",
     "output_type": "stream",
     "text": [
      "TickerManager id is: Wiki\n",
      "Set date of update: 1981\n",
      "Last date of update id is: 1981\n",
      "Set tickermanager_id: Wiki2\n",
      "TickerManager id is: Wiki2\n",
      "Number of tickers: 1\n",
      "Number of tickers: 1\n",
      "Activation: get_save_tickers_market. Getting tickers with source in Wikipedia. Market: IBEX35\n",
      "Get tickers with source in Wikipedia. All markets\n",
      "Start raw ticker data extraction from Wikipedia \n",
      "Getting data from market:IBEX35, site:https://es.wikipedia.org/wiki/IBEX_35\n",
      "Getting data from market:DAX30, site:https://de.wikipedia.org/wiki/DAX\n",
      "Getting data from market:CAC40, site:https://es.wikipedia.org/wiki/CAC_40\n",
      "Getting data from market:SP500, site:http://en.wikipedia.org/wiki/List_of_S%26P_500_companies\n",
      "Extraction completed\n",
      "Set tickers_list\n",
      "Activation: get_parsed_tickers\n",
      "Getting tickers_list\n",
      "All tickers fed\n",
      "Set tickers_list\n",
      "Getting tickers_list\n",
      "Save tickers list\n"
     ]
    }
   ],
   "source": [
    "tickerMan = TickerManager_Wiki()\n",
    "tickerMan.get_tickermanager_id()\n",
    "tickerMan.set_update_date('1981')\n",
    "tickerMan.get_update_date()\n",
    "tickerMan.set_tickermanager_id('Wiki2')\n",
    "tickerMan.get_tickermanager_id()\n",
    "tickerMan.get_num_tickers()\n",
    "tickerMan.get_num_tickers()\n",
    "tickerMan.get_save_tickers_market('IBEX35')\n",
    "tickerMan.get_save_tickers()\n",
    "tickerMan.get_raw_tickers()\n",
    "tickerMan.get_parsed_tickers()\n",
    "tickerMan.save_tickers_list()"
   ]
  },
  {
   "cell_type": "code",
   "execution_count": 35,
   "metadata": {},
   "outputs": [
    {
     "name": "stdout",
     "output_type": "stream",
     "text": [
      "Activation: get_parsed_tickers\n",
      "Getting tickers_list\n",
      "All tickers fed\n",
      "Set tickers_list\n"
     ]
    }
   ],
   "source": [
    "tickerMan = TickerManager_Wiki()\n",
    "tickerMan.get_parsed_tickers()"
   ]
  },
  {
   "cell_type": "code",
   "execution_count": 36,
   "metadata": {},
   "outputs": [
    {
     "name": "stdout",
     "output_type": "stream",
     "text": [
      "Getting tickers_list\n"
     ]
    },
    {
     "data": {
      "text/plain": [
       "[]"
      ]
     },
     "execution_count": 36,
     "metadata": {},
     "output_type": "execute_result"
    }
   ],
   "source": [
    "tickerMan.get_tickers_list()"
   ]
  },
  {
   "cell_type": "code",
   "execution_count": 37,
   "metadata": {},
   "outputs": [
    {
     "name": "stdout",
     "output_type": "stream",
     "text": [
      "Getting tickers_list\n",
      "empty\n"
     ]
    }
   ],
   "source": [
    "if not tickerMan.get_tickers_list():\n",
    "    print('empty')"
   ]
  },
  {
   "cell_type": "code",
   "execution_count": 15,
   "metadata": {},
   "outputs": [
    {
     "data": {
      "text/plain": [
       "3"
      ]
     },
     "execution_count": 15,
     "metadata": {},
     "output_type": "execute_result"
    }
   ],
   "source": [
    "list1 = [{\"Alvaro\":\"1.72\"},\n",
    "         {\"Ricardo\": \"1,79\"},\n",
    "         {\"Ferri\":\"1,7\"}\n",
    "        ]\n",
    "len(list1)"
   ]
  },
  {
   "cell_type": "code",
   "execution_count": null,
   "metadata": {},
   "outputs": [],
   "source": [
    "class TickerManagerFactory:\n",
    "    def __init__(self) -> object:\n",
    "        pass\n",
    "    \n",
    "    @staticmethod\n",
    "    def get_names() -> list:\n",
    "        tickermanager_names = []\n",
    "        tickermanager_names.append('TickerManager_Wiki')\n",
    "        return tickermanager_names\n",
    "    \n",
    "    @staticmethod\n",
    "    def create(tickermanager_name, *args) -> TickerManager :\n",
    "        if tickermanager_name == 'TickerManager_Wiki':\n",
    "            return TickerManager_Wiki()\n",
    "\n",
    "        else:\n",
    "            # TODO raise exception\n",
    "            print('Create TickerManager: Unknown Tickermanager {}'.format(tickermanager_name))\n",
    "            return None\n",
    "    \n",
    "    \n",
    "    "
   ]
  },
  {
   "cell_type": "code",
   "execution_count": null,
   "metadata": {},
   "outputs": [],
   "source": [
    "tickerMan2 = TickerManagerFactory.create('TickerManager_Wiki')"
   ]
  },
  {
   "cell_type": "code",
   "execution_count": null,
   "metadata": {},
   "outputs": [],
   "source": [
    "tickerMan2 = TickerManager_Wiki()\n",
    "tickerMan2.get_tickermanager_id()\n",
    "tickerMan2.set_update_date('1981')\n",
    "tickerMan2.get_update_date()\n",
    "tickerMan2.set_tickermanager_id('Wiki2')\n",
    "tickerMan2.get_tickermanager_id()\n",
    "tickerMan2.get_raw_tickers()\n",
    "tickerMan2.get_num_tickers()\n",
    "tickerMan2.get_num_tickers()\n",
    "tickerMan2.get_parsed_tickers()\n",
    "tickerMan2.save_tickers_list()\n",
    "tickerMan2.get_save_tickers_market('IBEX35')\n",
    "tickerMan2.get_save_tickers()"
   ]
  },
  {
   "cell_type": "code",
   "execution_count": null,
   "metadata": {},
   "outputs": [],
   "source": []
  },
  {
   "cell_type": "code",
   "execution_count": null,
   "metadata": {},
   "outputs": [],
   "source": []
  },
  {
   "cell_type": "code",
   "execution_count": null,
   "metadata": {},
   "outputs": [],
   "source": []
  },
  {
   "cell_type": "code",
   "execution_count": null,
   "metadata": {},
   "outputs": [],
   "source": []
  },
  {
   "cell_type": "code",
   "execution_count": null,
   "metadata": {},
   "outputs": [],
   "source": []
  },
  {
   "cell_type": "code",
   "execution_count": null,
   "metadata": {},
   "outputs": [],
   "source": []
  },
  {
   "cell_type": "code",
   "execution_count": null,
   "metadata": {},
   "outputs": [],
   "source": []
  },
  {
   "cell_type": "code",
   "execution_count": null,
   "metadata": {},
   "outputs": [],
   "source": []
  },
  {
   "cell_type": "code",
   "execution_count": null,
   "metadata": {},
   "outputs": [],
   "source": []
  },
  {
   "cell_type": "code",
   "execution_count": null,
   "metadata": {},
   "outputs": [],
   "source": []
  },
  {
   "cell_type": "code",
   "execution_count": null,
   "metadata": {},
   "outputs": [],
   "source": []
  },
  {
   "cell_type": "code",
   "execution_count": null,
   "metadata": {},
   "outputs": [],
   "source": []
  },
  {
   "cell_type": "code",
   "execution_count": null,
   "metadata": {},
   "outputs": [],
   "source": []
  }
 ],
 "metadata": {
  "kernelspec": {
   "display_name": "Python 3",
   "language": "python",
   "name": "python3"
  },
  "language_info": {
   "codemirror_mode": {
    "name": "ipython",
    "version": 3
   },
   "file_extension": ".py",
   "mimetype": "text/x-python",
   "name": "python",
   "nbconvert_exporter": "python",
   "pygments_lexer": "ipython3",
   "version": "3.8.3"
  }
 },
 "nbformat": 4,
 "nbformat_minor": 4
}
