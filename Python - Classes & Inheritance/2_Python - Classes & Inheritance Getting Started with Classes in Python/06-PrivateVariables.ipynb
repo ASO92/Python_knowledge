{
 "cells": [
  {
   "cell_type": "code",
   "execution_count": 1,
   "metadata": {},
   "outputs": [],
   "source": [
    "class Dog:\n",
    "    \n",
    "    def __init__(self, name, breed):\n",
    "        \n",
    "        self.name = name\n",
    "        self.breed = breed\n",
    "        \n",
    "    def print_details(self):\n",
    "        \n",
    "        print('My name is %s and I am a %s' % (self.name, self.breed))"
   ]
  },
  {
   "cell_type": "markdown",
   "metadata": {},
   "source": [
    "Name and breed instance varaibles are data associatesd with any instance of a Dog class, **but this data can be updated by code which lives outside of the Dog class** Pretty significant!!\n",
    "\n",
    "This means that the instance varaibles and even the class varaibles inside a class are not private. They are public and can be accessed by code outside the class."
   ]
  },
  {
   "cell_type": "code",
   "execution_count": 2,
   "metadata": {},
   "outputs": [
    {
     "name": "stdout",
     "output_type": "stream",
     "text": [
      "My name is Oba and I am a Labrador\n"
     ]
    }
   ],
   "source": [
    "d1 = Dog('Oba', 'Labrador')\n",
    "d1.print_details()"
   ]
  },
  {
   "cell_type": "code",
   "execution_count": 3,
   "metadata": {},
   "outputs": [
    {
     "name": "stdout",
     "output_type": "stream",
     "text": [
      "My name is Nemo and I am a Labrador\n"
     ]
    }
   ],
   "source": [
    "d1.name = 'Nemo'\n",
    "d1.print_details()"
   ]
  },
  {
   "cell_type": "markdown",
   "metadata": {},
   "source": [
    "## Data encapsulation\n",
    "\n",
    "Data which lives inside a class should not be accesible to code outside"
   ]
  },
  {
   "cell_type": "code",
   "execution_count": 4,
   "metadata": {},
   "outputs": [
    {
     "data": {
      "text/plain": [
       "mappingproxy({'__module__': '__main__',\n",
       "              '__init__': <function __main__.Dog.__init__(self, name, breed)>,\n",
       "              'print_details': <function __main__.Dog.print_details(self)>,\n",
       "              '__dict__': <attribute '__dict__' of 'Dog' objects>,\n",
       "              '__weakref__': <attribute '__weakref__' of 'Dog' objects>,\n",
       "              '__doc__': None})"
      ]
     },
     "execution_count": 4,
     "metadata": {},
     "output_type": "execute_result"
    }
   ],
   "source": [
    "Dog.__dict__"
   ]
  },
  {
   "cell_type": "markdown",
   "metadata": {},
   "source": [
    "There are other keys which are part of the class dictionary, such as the module, the doc, the weakref and so on. Those are internal to python. There is nothing that we need to worry about at this point in time.\n",
    "\n",
    "The dicctionary is as well associated to the class as well as with an instance."
   ]
  },
  {
   "cell_type": "code",
   "execution_count": 6,
   "metadata": {},
   "outputs": [
    {
     "data": {
      "text/plain": [
       "{'name': 'Nemo', 'breed': 'Labrador'}"
      ]
     },
     "execution_count": 6,
     "metadata": {},
     "output_type": "execute_result"
    }
   ],
   "source": [
    "d1.__dict__"
   ]
  },
  {
   "cell_type": "markdown",
   "metadata": {},
   "source": [
    "There is a way to hack variables to be private in Python. This is completely a hack. But is an important hack and is a standard practice followed by python programmers."
   ]
  },
  {
   "cell_type": "code",
   "execution_count": 12,
   "metadata": {},
   "outputs": [],
   "source": [
    "class Dog:\n",
    "    \n",
    "    def __init__(self, name, breed):\n",
    "        \n",
    "        self.__name = name # Variables preceeded by the double underscore\n",
    "        self.__breed = breed\n",
    "        \n",
    "    def print_details(self):\n",
    "        \n",
    "        print('My name is %s and I am a %s' % (self.__name, self.__breed))"
   ]
  },
  {
   "cell_type": "code",
   "execution_count": 13,
   "metadata": {},
   "outputs": [
    {
     "name": "stdout",
     "output_type": "stream",
     "text": [
      "My name is Moje and I am a Golden Retriever\n"
     ]
    }
   ],
   "source": [
    "d1 = Dog('Moje', 'Golden Retriever')\n",
    "d1.print_details()"
   ]
  },
  {
   "cell_type": "markdown",
   "metadata": {},
   "source": [
    "Como la clase es diferente, esto prevents someone of modifying inadvertly data associated with the class instance "
   ]
  },
  {
   "cell_type": "code",
   "execution_count": 15,
   "metadata": {},
   "outputs": [
    {
     "data": {
      "text/plain": [
       "{'_Dog__name': 'Moje', '_Dog__breed': 'Golden Retriever'}"
      ]
     },
     "execution_count": 15,
     "metadata": {},
     "output_type": "execute_result"
    }
   ],
   "source": [
    "d1.__dict__ #The keys of the dictionary have changed. Tienen el nombre de la clase incluido también."
   ]
  },
  {
   "cell_type": "markdown",
   "metadata": {},
   "source": [
    "Como se puede ver en el siguiente ejemplo, el nombre no cambia. Esto es porque el nombre de la propiedad __name no es la misma que la que se accede desde dentro de la clase"
   ]
  },
  {
   "cell_type": "code",
   "execution_count": 16,
   "metadata": {},
   "outputs": [
    {
     "name": "stdout",
     "output_type": "stream",
     "text": [
      "My name is Moje and I am a Golden Retriever\n"
     ]
    }
   ],
   "source": [
    "d1.__name = \"Alvaro\"\n",
    "d1.print_details()"
   ]
  },
  {
   "cell_type": "markdown",
   "metadata": {},
   "source": [
    "Como se puede ver se ha creado una nueva variable __name, que no tiene nada que ver con el nombre del perro"
   ]
  },
  {
   "cell_type": "code",
   "execution_count": 18,
   "metadata": {},
   "outputs": [
    {
     "data": {
      "text/plain": [
       "{'_Dog__name': 'Moje', '_Dog__breed': 'Golden Retriever', '__name': 'Alvaro'}"
      ]
     },
     "execution_count": 18,
     "metadata": {},
     "output_type": "execute_result"
    }
   ],
   "source": [
    "d1.__dict__"
   ]
  },
  {
   "cell_type": "markdown",
   "metadata": {},
   "source": [
    "Using the _ is a hack. If you really want to, you can change instance varaibles from outside the class"
   ]
  },
  {
   "cell_type": "code",
   "execution_count": 19,
   "metadata": {},
   "outputs": [
    {
     "name": "stdout",
     "output_type": "stream",
     "text": [
      "My name is Moje and I am a Husky\n"
     ]
    }
   ],
   "source": [
    "d1._Dog__breed = 'Husky'\n",
    "d1.print_details()"
   ]
  },
  {
   "cell_type": "markdown",
   "metadata": {},
   "source": [
    "## Getters and setters\n",
    "\n",
    "In general it is not a good practice to update instance variables from outside. **Es mejor usar métodos para cambiar dichas varaibles**. That specific functions as known as setters."
   ]
  },
  {
   "cell_type": "code",
   "execution_count": 21,
   "metadata": {},
   "outputs": [],
   "source": [
    "class Dog:\n",
    "    \n",
    "    def __init__(self, name, breed):\n",
    "        \n",
    "        self.__name = name\n",
    "        self.__breed = breed\n",
    "        \n",
    "    def print_details(self):\n",
    "        print('My name is %s and I am a %s' % (self.__name, self.__breed))\n",
    "    \n",
    "    def change_name(self, name):\n",
    "        self.__name = name"
   ]
  },
  {
   "cell_type": "code",
   "execution_count": 22,
   "metadata": {},
   "outputs": [
    {
     "name": "stdout",
     "output_type": "stream",
     "text": [
      "My name is Ferri and I am a Husky\n"
     ]
    }
   ],
   "source": [
    "d1 = Dog('Ferri', 'Husky')\n",
    "d1.print_details()"
   ]
  },
  {
   "cell_type": "code",
   "execution_count": 23,
   "metadata": {},
   "outputs": [
    {
     "name": "stdout",
     "output_type": "stream",
     "text": [
      "My name is Alvaro and I am a Husky\n"
     ]
    }
   ],
   "source": [
    "d1.change_name('Alvaro')\n",
    "d1.print_details()"
   ]
  },
  {
   "cell_type": "markdown",
   "metadata": {},
   "source": [
    "Clase bien elaborada\n",
    "- Class variables: all dogs are of the species canine. Species is associated with the dog itself.\n",
    "- Instance varaibles: los trucos que sabe hacer un perro, sólo los sabe hacer ese perro.\n"
   ]
  },
  {
   "cell_type": "code",
   "execution_count": 33,
   "metadata": {},
   "outputs": [],
   "source": [
    "class Dog:\n",
    "    \n",
    "    __species = 'canine'\n",
    "    \n",
    "    def __init__(self, name, breed):\n",
    "        self.__name = name\n",
    "        self.__breed = breed\n",
    "        self.__tricks = []\n",
    "            \n",
    "    def get_name(self):# GEtter function, to access the values\n",
    "        return self.__name\n",
    "    \n",
    "    def set_name(self,name): # SEtter function\n",
    "        self.__name = name\n",
    "    \n",
    "    def get_breed(self): # Getter function\n",
    "        return self.__breed\n",
    "    \n",
    "    def set_breed(self, breed): # SEtter function\n",
    "        self.__breed = breed\n",
    "    \n",
    "    def add_trick(self, trick):\n",
    "        self.__tricks.append(trick)\n",
    "        \n",
    "    def print_details(self):\n",
    "        print('My name is %s and I am a %s and I can do tricks! %s' % (self.__name, self.__breed, self.__tricks))\n",
    "\n",
    "        \n",
    "        "
   ]
  },
  {
   "cell_type": "code",
   "execution_count": 34,
   "metadata": {},
   "outputs": [
    {
     "name": "stdout",
     "output_type": "stream",
     "text": [
      "My name is Moje and I am a Golden Retriever and I can do tricks! []\n"
     ]
    }
   ],
   "source": [
    "d1 = Dog('Moje', 'Golden Retriever')\n",
    "d1.print_details()"
   ]
  },
  {
   "cell_type": "code",
   "execution_count": 35,
   "metadata": {},
   "outputs": [
    {
     "name": "stdout",
     "output_type": "stream",
     "text": [
      "My name is Moje and I am a Golden Retriever and I can do tricks! ['roll over']\n"
     ]
    }
   ],
   "source": [
    "d1.add_trick('roll over')\n",
    "d1.print_details()"
   ]
  },
  {
   "cell_type": "code",
   "execution_count": 37,
   "metadata": {},
   "outputs": [
    {
     "name": "stdout",
     "output_type": "stream",
     "text": [
      "My name is Moje and I am a LAbrador and I can do tricks! ['roll over']\n"
     ]
    }
   ],
   "source": [
    "d1.set_breed('LAbrador')\n",
    "d1.print_details()"
   ]
  },
  {
   "cell_type": "markdown",
   "metadata": {},
   "source": [
    "New things: documentation(class explanation),\n",
    "- Documentation: typically in a multi-line string which means you need to include using triple quotes\n",
    "- \n",
    "- Se construyen funciones unas reusando otras. Es posible desde una función de tu clase, invokar otros métodos. Ejemplo change_name_and_breed. Inclye change_name y change_breed\n"
   ]
  },
  {
   "cell_type": "code",
   "execution_count": 41,
   "metadata": {},
   "outputs": [],
   "source": [
    "class Dog:\n",
    "    \n",
    "    \"\"\"This is a class which defines a dog\n",
    "       This includes cute dogs as well as ferocious dogs\n",
    "    \"\"\"\n",
    "    \n",
    "    __species = 'canine'\n",
    "    \n",
    "    def __init__(self, name, breed):\n",
    "        self.__name = name\n",
    "        self.__breed = breed\n",
    "        self.__tricks = []\n",
    "        \n",
    "    def print_details(self):\n",
    "        print('My name is %s and I am a %s' % (self.__name, self.__breed)) \n",
    "        print('Here are the tricks I can do %s' % (self.__tricks))\n",
    "        \n",
    "    def change_name(self,name): # Setter function, using a more user friendly name\n",
    "        self.__name = name\n",
    "    \n",
    "    def change_breed(self, breed): # SEtter function\n",
    "        self.__breed = breed\n",
    "        \n",
    "    def change_name_and_breed(self,name, breed): # Setter function, using a more user friendly name\n",
    "        self.change_name(name)\n",
    "        self.change_breed(breed)\n",
    "    \n",
    "    def get_name(self):# GEtter function, to access the values\n",
    "        return self.__name\n",
    "    \n",
    "    \n",
    "    \n",
    "    def get_breed(self): # Getter function\n",
    "        return self.__breed\n",
    "    \n",
    "    \n",
    "    \n",
    "    def add_trick(self, trick):\n",
    "        self.__tricks.append(trick)\n",
    "        \n",
    "    \n",
    "\n",
    "        "
   ]
  },
  {
   "cell_type": "code",
   "execution_count": 42,
   "metadata": {},
   "outputs": [
    {
     "name": "stdout",
     "output_type": "stream",
     "text": [
      "My name is Moje and I am a Golden Retriever\n",
      "Here are the tricks I can do []\n"
     ]
    }
   ],
   "source": [
    "d1 = Dog('Moje', 'Golden Retriever')\n",
    "d1.print_details()"
   ]
  },
  {
   "cell_type": "code",
   "execution_count": 43,
   "metadata": {},
   "outputs": [
    {
     "name": "stdout",
     "output_type": "stream",
     "text": [
      "My name is Oba and I am a Labrador\n",
      "Here are the tricks I can do []\n"
     ]
    }
   ],
   "source": [
    "d1.change_name_and_breed('Oba','Labrador')\n",
    "d1.print_details()"
   ]
  },
  {
   "cell_type": "code",
   "execution_count": null,
   "metadata": {},
   "outputs": [],
   "source": []
  },
  {
   "cell_type": "code",
   "execution_count": null,
   "metadata": {},
   "outputs": [],
   "source": []
  },
  {
   "cell_type": "code",
   "execution_count": null,
   "metadata": {},
   "outputs": [],
   "source": []
  },
  {
   "cell_type": "code",
   "execution_count": null,
   "metadata": {},
   "outputs": [],
   "source": []
  },
  {
   "cell_type": "code",
   "execution_count": null,
   "metadata": {},
   "outputs": [],
   "source": []
  },
  {
   "cell_type": "code",
   "execution_count": null,
   "metadata": {},
   "outputs": [],
   "source": []
  },
  {
   "cell_type": "code",
   "execution_count": null,
   "metadata": {},
   "outputs": [],
   "source": []
  }
 ],
 "metadata": {
  "kernelspec": {
   "display_name": "Python 3",
   "language": "python",
   "name": "python3"
  },
  "language_info": {
   "codemirror_mode": {
    "name": "ipython",
    "version": 3
   },
   "file_extension": ".py",
   "mimetype": "text/x-python",
   "name": "python",
   "nbconvert_exporter": "python",
   "pygments_lexer": "ipython3",
   "version": "3.7.9"
  }
 },
 "nbformat": 4,
 "nbformat_minor": 4
}
