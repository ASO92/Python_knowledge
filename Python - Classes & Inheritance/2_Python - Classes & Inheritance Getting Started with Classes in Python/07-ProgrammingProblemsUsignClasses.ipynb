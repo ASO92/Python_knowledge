{
 "cells": [
  {
   "cell_type": "markdown",
   "metadata": {},
   "source": [
    "### Mi solución "
   ]
  },
  {
   "cell_type": "code",
   "execution_count": 13,
   "metadata": {},
   "outputs": [],
   "source": [
    "class Student:\n",
    "    \n",
    "    def __init__(self, name, gpa, state):\n",
    "        self.__name = name\n",
    "        self.__gpa = gpa\n",
    "        self.__clubs = []\n",
    "        self.__state = state\n",
    "    \n",
    "    def change_name(self,name):\n",
    "        self.__name = name\n",
    "    \n",
    "    def change_gpa(self,gpa):\n",
    "        self.__gpa = gpa\n",
    "    \n",
    "    def change_state(self, state):\n",
    "        self.__state = state\n",
    "    \n",
    "    def change_name_and_gpa(self,name,gpa):\n",
    "        self.__name = self.change_name(name)\n",
    "        self.__gpa = self.change_gpa(gpa)\n",
    "    \n",
    "    def add_club(self, club):\n",
    "        self.__clubs.append(club)\n",
    "    \n",
    "    def print_details(self):\n",
    "        print('Hi, my name is %s and I have a gpa of: %s, and I am in a %s state' % (self.__name, self.__gpa, self.__state))\n",
    "        print('I belong to the following clubs: %s' % (self.__clubs))\n",
    "        "
   ]
  },
  {
   "cell_type": "code",
   "execution_count": 14,
   "metadata": {},
   "outputs": [
    {
     "name": "stdout",
     "output_type": "stream",
     "text": [
      "Hi, my name is Alvaro and I have a gpa of: 6,7, and I am in a Active state\n",
      "I belong to the following clubs: []\n"
     ]
    }
   ],
   "source": [
    "s1 = Student('Alvaro', '6,7', 'Active')\n",
    "s1.print_details()"
   ]
  },
  {
   "cell_type": "code",
   "execution_count": 15,
   "metadata": {},
   "outputs": [
    {
     "name": "stdout",
     "output_type": "stream",
     "text": [
      "Hi, my name is Alvaro and I have a gpa of: 6,7, and I am in a Active state\n",
      "I belong to the following clubs: ['MAristas']\n"
     ]
    }
   ],
   "source": [
    "s1.add_club('MAristas')\n",
    "s1.print_details()"
   ]
  },
  {
   "cell_type": "markdown",
   "metadata": {},
   "source": [
    "## Su solución"
   ]
  },
  {
   "cell_type": "code",
   "execution_count": 29,
   "metadata": {},
   "outputs": [],
   "source": [
    "class Student:\n",
    "    \n",
    "    def __init__(self, name, gpa): # State no es una variable de entrada\n",
    "        self.__name = name\n",
    "        self.__gpa = gpa\n",
    "        self.__clubs = set() # OJO aquí hace un set, no una lista.\n",
    "        # Un set es un complex datatype (built-in class in python). Es tipo de datos que impide que el alumno pertenezca a un club dos veces\n",
    "        self.__active = True # Es un boolean, y se comienza por default en active. Me ahorro memoria de ambos pasos.\n",
    "    \n",
    "    def change_name(self,name):\n",
    "        self.__name = name\n",
    "    \n",
    "    def change_gpa(self,gpa):\n",
    "        self.__gpa = gpa\n",
    "    \n",
    "    def add_club(self, club):\n",
    "        self.__clubs.add(club) # Se usa add, de la función set\n",
    "        \n",
    "    def remove_club(self, club): # Tiene que haber una función remove\n",
    "        self.__clubs.remove(club)\n",
    "    \n",
    "    def set_active(self, state):\n",
    "        self.__active = True\n",
    "    \n",
    "    def change_name_and_gpa(self,name,gpa):\n",
    "        self.__name = self.change_name(name)\n",
    "        self.__gpa = self.change_gpa(gpa)\n",
    "    \n",
    "    def print_details(self):\n",
    "        print('Hi, my name is %s and I have a gpa of: %s' % (self.__name, self.__gpa))\n",
    "        print('I belong to the following clubs: %s' % (self.__clubs))"
   ]
  },
  {
   "cell_type": "markdown",
   "metadata": {},
   "source": [
    "### Parse student data from a dictionary \n",
    "\n",
    "Parse details of each student from the list of dictionaries"
   ]
  },
  {
   "cell_type": "code",
   "execution_count": 30,
   "metadata": {},
   "outputs": [],
   "source": [
    " student_details_list = [\n",
    "     {'name': 'Alvaro', 'gpa': 3.6, 'clubs': ['tennis','chess']},\n",
    "     {'name': 'Ricardo', 'gpa': 4.6, 'clubs': ['tennis'], 'active': False},\n",
    "     {'name': 'Ferri', 'gpa': 2.6, 'clubs': ['football','chess']},\n",
    "     {'name': 'Jacinto', 'gpa': 4.2, 'is_honors_student': True}\n",
    " ]"
   ]
  },
  {
   "cell_type": "code",
   "execution_count": 31,
   "metadata": {},
   "outputs": [],
   "source": [
    "def get_students(student_details_list):\n",
    "    \n",
    "    students_list = [] # Lista que va a incluir a los objetos estudiantes de la class student\n",
    "    \n",
    "    for student_details in student_details_list:\n",
    "        \n",
    "        if 'name' not in student_details or 'gpa' not in student_details: # Argumentos de entrada obligatorios para la clase\n",
    "            continue # Me salto la entrada que no tenga name o gpa. Skip that particular student\n",
    "        \n",
    "        s = Student(student_details['name'], student_details['gpa']) # En caso de tener gpa y name, lo instancio\n",
    "        \n",
    "        if 'clubs' is student_details: # Si tiene clubs, lo añado a la instancia\n",
    "            for club in student_details['clubs']:\n",
    "                s.add_club(club)\n",
    "        \n",
    "        if 'active' in student_details: # Si está activo (active = True) le meto un active\n",
    "            s.set_active(student_details['active'])\n",
    "        \n",
    "        students_list.append(s)\n",
    "    \n",
    "    return students_list"
   ]
  },
  {
   "cell_type": "code",
   "execution_count": 32,
   "metadata": {},
   "outputs": [],
   "source": [
    "students = get_students(student_details_list)"
   ]
  },
  {
   "cell_type": "code",
   "execution_count": 33,
   "metadata": {},
   "outputs": [
    {
     "data": {
      "text/plain": [
       "[<__main__.Student at 0x2744118db08>,\n",
       " <__main__.Student at 0x2744118d788>,\n",
       " <__main__.Student at 0x2744118d348>,\n",
       " <__main__.Student at 0x274408e9948>]"
      ]
     },
     "execution_count": 33,
     "metadata": {},
     "output_type": "execute_result"
    }
   ],
   "source": [
    "students"
   ]
  },
  {
   "cell_type": "code",
   "execution_count": 34,
   "metadata": {},
   "outputs": [
    {
     "name": "stdout",
     "output_type": "stream",
     "text": [
      "Hi, my name is Alvaro and I have a gpa of: 3.6\n",
      "I belong to the following clubs: set()\n",
      "Hi, my name is Ricardo and I have a gpa of: 4.6\n",
      "I belong to the following clubs: set()\n",
      "Hi, my name is Ferri and I have a gpa of: 2.6\n",
      "I belong to the following clubs: set()\n",
      "Hi, my name is Jacinto and I have a gpa of: 4.2\n",
      "I belong to the following clubs: set()\n"
     ]
    }
   ],
   "source": [
    "for student in students:\n",
    "    student.print_details()"
   ]
  },
  {
   "cell_type": "markdown",
   "metadata": {},
   "source": [
    "### Create a class to represent a circle"
   ]
  },
  {
   "cell_type": "code",
   "execution_count": 44,
   "metadata": {},
   "outputs": [],
   "source": [
    "import math\n",
    "\n",
    "class Circle:\n",
    "    \n",
    "    def __init__(self, radius):\n",
    "        self.__radius = radius\n",
    "        \n",
    "    def get_area(self):\n",
    "        return math.pi * self.__radius * self.__radius\n",
    "    \n",
    "    def get_perimeter(self):\n",
    "        return 2 * math.pi * self.__radius"
   ]
  },
  {
   "cell_type": "code",
   "execution_count": 45,
   "metadata": {},
   "outputs": [],
   "source": [
    "c1 = Circle(4)"
   ]
  },
  {
   "cell_type": "code",
   "execution_count": 46,
   "metadata": {},
   "outputs": [
    {
     "data": {
      "text/plain": [
       "50.26548245743669"
      ]
     },
     "execution_count": 46,
     "metadata": {},
     "output_type": "execute_result"
    }
   ],
   "source": [
    "c1.get_area()"
   ]
  },
  {
   "cell_type": "code",
   "execution_count": 47,
   "metadata": {},
   "outputs": [
    {
     "name": "stdout",
     "output_type": "stream",
     "text": [
      "The area of the perimeter is 50.26548245743669\n"
     ]
    }
   ],
   "source": [
    "print('The area of the perimeter is %s' % (c1.get_area()))"
   ]
  },
  {
   "cell_type": "code",
   "execution_count": null,
   "metadata": {},
   "outputs": [],
   "source": []
  },
  {
   "cell_type": "code",
   "execution_count": null,
   "metadata": {},
   "outputs": [],
   "source": []
  },
  {
   "cell_type": "code",
   "execution_count": null,
   "metadata": {},
   "outputs": [],
   "source": []
  },
  {
   "cell_type": "code",
   "execution_count": null,
   "metadata": {},
   "outputs": [],
   "source": []
  },
  {
   "cell_type": "code",
   "execution_count": null,
   "metadata": {},
   "outputs": [],
   "source": []
  },
  {
   "cell_type": "code",
   "execution_count": null,
   "metadata": {},
   "outputs": [],
   "source": []
  },
  {
   "cell_type": "code",
   "execution_count": null,
   "metadata": {},
   "outputs": [],
   "source": []
  }
 ],
 "metadata": {
  "kernelspec": {
   "display_name": "Python 3",
   "language": "python",
   "name": "python3"
  },
  "language_info": {
   "codemirror_mode": {
    "name": "ipython",
    "version": 3
   },
   "file_extension": ".py",
   "mimetype": "text/x-python",
   "name": "python",
   "nbconvert_exporter": "python",
   "pygments_lexer": "ipython3",
   "version": "3.7.9"
  }
 },
 "nbformat": 4,
 "nbformat_minor": 4
}
