{
 "cells": [
  {
   "cell_type": "markdown",
   "metadata": {},
   "source": [
    "### Instance methods\n",
    "\n",
    "**Can reference and update instance state**\n",
    "\n",
    "Instance methods have access to instance variables of a class and can updte the state of these instance varaibles as well.\n",
    "\n",
    "### Class methods and static methods\n",
    "\n",
    "Two other types of methods that are associated with classes\n",
    "\n",
    "### Class method\n",
    "\n",
    "Associated with the class itself, but not a specific instance or object of a class.\n",
    "\n",
    "\n",
    "The way Python identifies class methods as beings class methods and not instance methods is by the use of the decorator @classmethod.\n",
    "\n",
    "El input argument of a classmethod es cls. It is a reference to the class. in this case this is a reference to the class Competition and not to an object or instance of the class Competition.\n",
    "\n",
    "Class methods can access the state within a class, not within an object or instance, which means it can access the class varaible __raise_amount."
   ]
  },
  {
   "cell_type": "code",
   "execution_count": 6,
   "metadata": {},
   "outputs": [],
   "source": [
    "class Competition:\n",
    "    \n",
    "    __raise_amount = 1.04\n",
    "    \n",
    "    def __init__(self, name, prize):\n",
    "        self.__name = name\n",
    "        self.__prize = prize\n",
    "    \n",
    "    def raise_prize(self):\n",
    "        self.__prize = self.__prize * self.__raise_amount\n",
    "    \n",
    "    def print_details(self): # Input argument is self. Which is the object itself.\n",
    "        print(\"Name: {}, prize: {}\".format(self.__name, self.__prize))\n",
    "    \n",
    "    # Class methods. Defined here to set and get the __raise_amount varaible associated to the class.\n",
    "    @classmethod\n",
    "    def get_raise_amount(cls):\n",
    "        return cls.__raise_amount\n",
    "    \n",
    "    @classmethod\n",
    "    def set_raise_amount(cls, amount):\n",
    "        cls.__raise_amount = amount\n",
    "    "
   ]
  },
  {
   "cell_type": "code",
   "execution_count": 7,
   "metadata": {},
   "outputs": [],
   "source": [
    "sprint = Competition('Sprint', 10000)"
   ]
  },
  {
   "cell_type": "code",
   "execution_count": 8,
   "metadata": {},
   "outputs": [
    {
     "data": {
      "text/plain": [
       "1.04"
      ]
     },
     "execution_count": 8,
     "metadata": {},
     "output_type": "execute_result"
    }
   ],
   "source": [
    "Competition.get_raise_amount()"
   ]
  },
  {
   "cell_type": "code",
   "execution_count": 9,
   "metadata": {},
   "outputs": [],
   "source": [
    "sprint.set_raise_amount(1.06)"
   ]
  },
  {
   "cell_type": "code",
   "execution_count": 10,
   "metadata": {},
   "outputs": [
    {
     "data": {
      "text/plain": [
       "1.06"
      ]
     },
     "execution_count": 10,
     "metadata": {},
     "output_type": "execute_result"
    }
   ],
   "source": [
    "sprint.get_raise_amount()"
   ]
  },
  {
   "cell_type": "code",
   "execution_count": 11,
   "metadata": {},
   "outputs": [
    {
     "data": {
      "text/plain": [
       "1.06"
      ]
     },
     "execution_count": 11,
     "metadata": {},
     "output_type": "execute_result"
    }
   ],
   "source": [
    "Competition.get_raise_amount()"
   ]
  },
  {
   "cell_type": "markdown",
   "metadata": {},
   "source": [
    "**Class methods are often useful as builder functions, functions which return an instance of a class by parsing some data**"
   ]
  },
  {
   "cell_type": "code",
   "execution_count": 12,
   "metadata": {},
   "outputs": [],
   "source": [
    "swimming_str = 'Swimming-8000'"
   ]
  },
  {
   "cell_type": "code",
   "execution_count": 13,
   "metadata": {},
   "outputs": [],
   "source": [
    "name, prize = swimming_str.split('-')"
   ]
  },
  {
   "cell_type": "code",
   "execution_count": 14,
   "metadata": {},
   "outputs": [],
   "source": [
    "swimming = Competition(name, prize)"
   ]
  },
  {
   "cell_type": "code",
   "execution_count": 15,
   "metadata": {},
   "outputs": [
    {
     "name": "stdout",
     "output_type": "stream",
     "text": [
      "Name: Swimming, prize: 8000\n"
     ]
    }
   ],
   "source": [
    "swimming.print_details()"
   ]
  },
  {
   "cell_type": "markdown",
   "metadata": {},
   "source": [
    "The from_str method returns an instance of a competition class by parsing the string that we pass in.\n",
    "\n",
    "**This creates a competition object from an input string**. The input arguments to this from_str class method is the reference to the class itself, that is the first cls varaible. Thes second argument is the string.\n",
    "\n",
    "We use the cls reference to the class to create an object of that class."
   ]
  },
  {
   "cell_type": "code",
   "execution_count": 21,
   "metadata": {},
   "outputs": [],
   "source": [
    "class Competition:\n",
    "    \n",
    "    __raise_amount = 1.04\n",
    "    \n",
    "    def __init__(self, name, prize):\n",
    "        self.__name = name\n",
    "        self.__prize = prize\n",
    "    \n",
    "    def raise_prize(self):\n",
    "        self.__prize = self.__prize * self.__raise_amount\n",
    "    \n",
    "    def print_details(self): # Input argument is self. Which is the object itself.\n",
    "        print(\"Name: {}, prize: {}\".format(self.__name, self.__prize))\n",
    "    \n",
    "    # Class methods. Defined here to set and get the __raise_amount varaible associated to the class.\n",
    "    @classmethod\n",
    "    def get_raise_amount(cls):\n",
    "        return cls.__raise_amount\n",
    "    \n",
    "    @classmethod\n",
    "    def set_raise_amount(cls, amount):\n",
    "        cls.__raise_amount = amount\n",
    "    \n",
    "    @classmethod\n",
    "    def from_str(cls, competition_str):\n",
    "        name, prize = competition_str.split('-')\n",
    "        \n",
    "        return cls(name, prize) # cls is a reference to the class itself\n",
    "    "
   ]
  },
  {
   "cell_type": "code",
   "execution_count": 22,
   "metadata": {},
   "outputs": [],
   "source": [
    "archery_str = 'Archery-8000'"
   ]
  },
  {
   "cell_type": "code",
   "execution_count": 27,
   "metadata": {},
   "outputs": [],
   "source": [
    "archery = Competition.from_str(archery_str)"
   ]
  },
  {
   "cell_type": "code",
   "execution_count": 28,
   "metadata": {},
   "outputs": [
    {
     "name": "stdout",
     "output_type": "stream",
     "text": [
      "Name: Archery, prize: 8000\n"
     ]
    }
   ],
   "source": [
    "archery.print_details()"
   ]
  },
  {
   "cell_type": "markdown",
   "metadata": {},
   "source": [
    "## Static methods\n",
    "\n",
    "**Static methods, much like class methods, are methods that are bound to a class rather than its object. They do not require a class instance creation. So, they are not dependent on the state of the object.**\n",
    "\n",
    "**They are know also as utility methods**\n",
    "\n",
    "The difference between a static method and a class method is:\n",
    "\n",
    "- Static method knows nothing about the class and just deals with the parameters.\n",
    "- Class method works with the class since its parameter is always the class itself.\n",
    "\n",
    "\n",
    "\n",
    "Static methods are class methods in that they are defined within a class but they are utility methods. Static methods cannot access the state associated with the class. That means, if you have class variables within a class, they can't access to them.\n",
    "\n",
    "Class methods have a reference to the class itself. Static methods have nothing, no reference to the class, nothing.\n",
    "These are simply **utility mehtods**, which make sense as a part of a class, but nothing to do with the class itself.\n",
    "\n"
   ]
  },
  {
   "cell_type": "code",
   "execution_count": 29,
   "metadata": {},
   "outputs": [],
   "source": [
    "class Rectangle:\n",
    "    \n",
    "    def area(x,y):\n",
    "        return x * y"
   ]
  },
  {
   "cell_type": "code",
   "execution_count": 30,
   "metadata": {},
   "outputs": [],
   "source": [
    "Rectangle.area = staticmethod(Rectangle.area)"
   ]
  },
  {
   "cell_type": "code",
   "execution_count": 32,
   "metadata": {},
   "outputs": [
    {
     "name": "stdout",
     "output_type": "stream",
     "text": [
      "area of the rectangle is: 240\n"
     ]
    }
   ],
   "source": [
    "print('area of the rectangle is:', Rectangle.area(15,16)) # Static methods CANNOT access class varaibles"
   ]
  },
  {
   "cell_type": "markdown",
   "metadata": {},
   "source": [
    "**Create a static method not in a mannual way. Usign a decorator instead**"
   ]
  },
  {
   "cell_type": "code",
   "execution_count": 34,
   "metadata": {},
   "outputs": [],
   "source": [
    "class Rectangle:\n",
    "    \n",
    "    @staticmethod\n",
    "    def area(x,y):\n",
    "        return x * y"
   ]
  },
  {
   "cell_type": "code",
   "execution_count": 35,
   "metadata": {},
   "outputs": [
    {
     "name": "stdout",
     "output_type": "stream",
     "text": [
      "area of the rectangle is: 240\n"
     ]
    }
   ],
   "source": [
    "print('area of the rectangle is:', Rectangle.area(15,16)) # Static methods CANNOT access class varaibles"
   ]
  },
  {
   "cell_type": "code",
   "execution_count": null,
   "metadata": {},
   "outputs": [],
   "source": []
  },
  {
   "cell_type": "code",
   "execution_count": null,
   "metadata": {},
   "outputs": [],
   "source": []
  },
  {
   "cell_type": "code",
   "execution_count": null,
   "metadata": {},
   "outputs": [],
   "source": []
  },
  {
   "cell_type": "code",
   "execution_count": null,
   "metadata": {},
   "outputs": [],
   "source": []
  },
  {
   "cell_type": "code",
   "execution_count": null,
   "metadata": {},
   "outputs": [],
   "source": []
  },
  {
   "cell_type": "code",
   "execution_count": null,
   "metadata": {},
   "outputs": [],
   "source": []
  },
  {
   "cell_type": "code",
   "execution_count": null,
   "metadata": {},
   "outputs": [],
   "source": []
  },
  {
   "cell_type": "code",
   "execution_count": null,
   "metadata": {},
   "outputs": [],
   "source": []
  },
  {
   "cell_type": "code",
   "execution_count": null,
   "metadata": {},
   "outputs": [],
   "source": []
  },
  {
   "cell_type": "code",
   "execution_count": null,
   "metadata": {},
   "outputs": [],
   "source": []
  },
  {
   "cell_type": "code",
   "execution_count": null,
   "metadata": {},
   "outputs": [],
   "source": []
  },
  {
   "cell_type": "code",
   "execution_count": null,
   "metadata": {},
   "outputs": [],
   "source": []
  },
  {
   "cell_type": "code",
   "execution_count": null,
   "metadata": {},
   "outputs": [],
   "source": []
  },
  {
   "cell_type": "code",
   "execution_count": null,
   "metadata": {},
   "outputs": [],
   "source": []
  }
 ],
 "metadata": {
  "kernelspec": {
   "display_name": "Python 3",
   "language": "python",
   "name": "python3"
  },
  "language_info": {
   "codemirror_mode": {
    "name": "ipython",
    "version": 3
   },
   "file_extension": ".py",
   "mimetype": "text/x-python",
   "name": "python",
   "nbconvert_exporter": "python",
   "pygments_lexer": "ipython3",
   "version": "3.8.3"
  }
 },
 "nbformat": 4,
 "nbformat_minor": 4
}
