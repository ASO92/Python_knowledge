{
 "cells": [
  {
   "cell_type": "markdown",
   "metadata": {},
   "source": [
    "# Housekeeper module"
   ]
  },
  {
   "cell_type": "markdown",
   "metadata": {},
   "source": [
    "#### Minimum code"
   ]
  },
  {
   "cell_type": "code",
   "execution_count": 11,
   "metadata": {},
   "outputs": [],
   "source": [
    "import os\n",
    "from os import path \n",
    "import pandas as pd\n",
    "import csv\n",
    "import json\n",
    "import shutil\n",
    "\n",
    "class data_housekeeper():\n",
    "    \n",
    "    def __init__(self):\n",
    "        pass\n",
    "\n",
    "        \n",
    "    @staticmethod\n",
    "    def create_dir(myDir):\n",
    "        try:\n",
    "            if not path.exists(myDir):\n",
    "                print('Creating dir: ', myDir)\n",
    "                os.mkdir(myDir)\n",
    "        except AccessDeniedError as err:\n",
    "            print('No dir created: ', err)\n",
    "\n",
    "    @staticmethod\n",
    "    def delete_dir(myDir):\n",
    "        try:\n",
    "            if path.exists(myDir):\n",
    "                print('Deleting dir: ', myDir)\n",
    "                os.rmdir(myDir)\n",
    "            else:\n",
    "                print('Inexistent folder')\n",
    "        except AccessDeniedError as err:\n",
    "            print('No dir deleted: ', err)\n",
    "\n",
    "    @staticmethod\n",
    "    def delete_non_empty_dir(myDir):\n",
    "        try:\n",
    "            if path.exists(myDir):\n",
    "                print('Deleting dir: ', myDir)\n",
    "                shutil.rmtree(myDir)\n",
    "        except:\n",
    "            print('No dir deleted: ')        \n",
    "\n",
    "    @staticmethod\n",
    "    def create_nested_dir_path(dir_list):\n",
    "        nested_path = '/' + '/'.join(dir_list)\n",
    "        return nested_path\n",
    "    \n",
    "    \n",
    "    @staticmethod\n",
    "    def create_file_path_in_nested_dir(dir_list, file_name):\n",
    "        nested_dir_path_ = data_housekeeper.create_nested_dir_path(dir_list)\n",
    "        #print('nested_dir_path: ', nested_dir_path_)\n",
    "        file_path_in_nested_dir_ = nested_dir_path_ + '/' + file_name\n",
    "        return file_path_in_nested_dir_\n",
    "    \n",
    "\n",
    "    @staticmethod\n",
    "    def create_nested_dir(dir_path):\n",
    "        try:\n",
    "            myPath = ''\n",
    "            for directory in dir_path:\n",
    "                myPath += './' + directory\n",
    "                data_housekeeper.create_dir(myPath)\n",
    "            #print(myPath)\n",
    "        except:\n",
    "            print('No nested dir created')\n",
    "            #print(myPath)\n",
    "\n",
    "    @staticmethod\n",
    "    def create_nested_dir_in_parent_dir(dir_path , n):\n",
    "        try:\n",
    "            origin_wd = os.getcwd()\n",
    "            for n in range(n):\n",
    "                path_parent = os.path.dirname(os.getcwd())\n",
    "                os.chdir(path_parent)\n",
    "            root_dir = os.getcwd()\n",
    "            print('Root dir: ', root_dir)\n",
    "            data_housekeeper.create_nested_dir(dir_path)\n",
    "            os.chdir(origin_wd)\n",
    "            return root_dir\n",
    "        except:\n",
    "            os.chdir(origin_wd)\n",
    "            print('Error: No directory created. Posible causes: \\nWrong type imput arguments \\nUnable to access to nested dir')\n",
    "            return os.getcwds()\n",
    "                \n",
    "    \n",
    "    \n",
    "    @staticmethod\n",
    "    def list_dict_to_json(dir_list,upper_stages,file_name, dictionary_list): \n",
    "        parent_dir_path = data_housekeeper.create_nested_dir_in_parent_dir(dir_list,upper_stages)\n",
    "        print('parent_dir_path: ', parent_dir_path)\n",
    "        print('dir_list: ', dir_list)\n",
    "        file_path = parent_dir_path + data_housekeeper.create_file_path_in_nested_dir(dir_list, file_name)\n",
    "        print('file path: ', file_path)\n",
    "        with open(file_path, 'w') as json_file:\n",
    "            json.dump(dictionary_list, json_file, indent=4)\n",
    "\n",
    "    @staticmethod\n",
    "    def load_json_to_list(dir_list, file_name): #FIX cambiar el nombre a json_to_list \n",
    "        relative_file_path_ = '.' + data_housekeeper.create_file_path_in_nested_dir(dir_list, file_name)\n",
    "        print(relative_file_path_)\n",
    "        with open(relative_file_path_) as json_file:\n",
    "            data = json.load(json_file)\n",
    "        return data\n",
    "    \n",
    "    @staticmethod\n",
    "    def list_to_csv(dir_list, upper_stages, file_name, data):\n",
    "        relative_file_path_ = '.' + data_housekeeper.create_file_path_in_nested_dir(dir_list, file_name)\n",
    "        print(relative_file_path_)\n",
    "        with open(relative_file_path_, 'w', newline='') as file:\n",
    "            write = csv.writer(file)\n",
    "            write.writerows(data)\n",
    "    \n",
    "    @staticmethod\n",
    "    def df_to_csv(dir_list, upper_stages, file_name, data):\n",
    "        relative_file_path_ = '.' + data_housekeeper.create_file_path_in_nested_dir(dir_list, file_name) + '.csv'\n",
    "        print(relative_file_path_)\n",
    "        data.to_csv(relative_file_path_)\n",
    "    \n",
    "    @staticmethod\n",
    "    def csv_to_df(dir_list, file_name):\n",
    "        relative_file_path_ = '.' + data_housekeeper.create_file_path_in_nested_dir(dir_list, file_name) + '.csv'\n",
    "        print(relative_file_path_)\n",
    "        return pd.read_csv(relative_file_path_)\n",
    "            \n",
    "        \n",
    "def instance_class():\n",
    "    myHousekeeper = data_housekeeper()\n",
    "    return myHousekeeper"
   ]
  },
  {
   "cell_type": "code",
   "execution_count": 12,
   "metadata": {},
   "outputs": [
    {
     "name": "stdout",
     "output_type": "stream",
     "text": [
      "./Data/Tickers/Dummy1/ANA.MC.TT.csv\n"
     ]
    },
    {
     "data": {
      "text/html": [
       "<div>\n",
       "<style scoped>\n",
       "    .dataframe tbody tr th:only-of-type {\n",
       "        vertical-align: middle;\n",
       "    }\n",
       "\n",
       "    .dataframe tbody tr th {\n",
       "        vertical-align: top;\n",
       "    }\n",
       "\n",
       "    .dataframe thead th {\n",
       "        text-align: right;\n",
       "    }\n",
       "</style>\n",
       "<table border=\"1\" class=\"dataframe\">\n",
       "  <thead>\n",
       "    <tr style=\"text-align: right;\">\n",
       "      <th></th>\n",
       "      <th>Unnamed: 0</th>\n",
       "      <th>Date</th>\n",
       "      <th>Open</th>\n",
       "      <th>High</th>\n",
       "      <th>Low</th>\n",
       "      <th>Close</th>\n",
       "      <th>Adj Close</th>\n",
       "      <th>Volume</th>\n",
       "    </tr>\n",
       "  </thead>\n",
       "  <tbody>\n",
       "    <tr>\n",
       "      <th>0</th>\n",
       "      <td>0</td>\n",
       "      <td>2000-01-03</td>\n",
       "      <td>55.599998</td>\n",
       "      <td>57.049999</td>\n",
       "      <td>54.500000</td>\n",
       "      <td>57.000000</td>\n",
       "      <td>0.068148</td>\n",
       "      <td>184093</td>\n",
       "    </tr>\n",
       "    <tr>\n",
       "      <th>1</th>\n",
       "      <td>1</td>\n",
       "      <td>2000-01-04</td>\n",
       "      <td>56.500000</td>\n",
       "      <td>56.500000</td>\n",
       "      <td>52.099998</td>\n",
       "      <td>53.000000</td>\n",
       "      <td>0.063366</td>\n",
       "      <td>192154</td>\n",
       "    </tr>\n",
       "    <tr>\n",
       "      <th>2</th>\n",
       "      <td>2</td>\n",
       "      <td>2000-01-05</td>\n",
       "      <td>52.099998</td>\n",
       "      <td>52.099998</td>\n",
       "      <td>50.349998</td>\n",
       "      <td>50.750000</td>\n",
       "      <td>0.060676</td>\n",
       "      <td>86948</td>\n",
       "    </tr>\n",
       "    <tr>\n",
       "      <th>3</th>\n",
       "      <td>3</td>\n",
       "      <td>2000-01-07</td>\n",
       "      <td>50.900002</td>\n",
       "      <td>53.000000</td>\n",
       "      <td>50.049999</td>\n",
       "      <td>52.400002</td>\n",
       "      <td>0.062648</td>\n",
       "      <td>111870</td>\n",
       "    </tr>\n",
       "    <tr>\n",
       "      <th>4</th>\n",
       "      <td>4</td>\n",
       "      <td>2000-01-10</td>\n",
       "      <td>52.150002</td>\n",
       "      <td>53.400002</td>\n",
       "      <td>51.250000</td>\n",
       "      <td>52.500000</td>\n",
       "      <td>0.062768</td>\n",
       "      <td>149926</td>\n",
       "    </tr>\n",
       "    <tr>\n",
       "      <th>...</th>\n",
       "      <td>...</td>\n",
       "      <td>...</td>\n",
       "      <td>...</td>\n",
       "      <td>...</td>\n",
       "      <td>...</td>\n",
       "      <td>...</td>\n",
       "      <td>...</td>\n",
       "      <td>...</td>\n",
       "    </tr>\n",
       "    <tr>\n",
       "      <th>5385</th>\n",
       "      <td>5385</td>\n",
       "      <td>2021-03-26</td>\n",
       "      <td>139.600006</td>\n",
       "      <td>141.399994</td>\n",
       "      <td>138.500000</td>\n",
       "      <td>140.699997</td>\n",
       "      <td>140.699997</td>\n",
       "      <td>125694</td>\n",
       "    </tr>\n",
       "    <tr>\n",
       "      <th>5386</th>\n",
       "      <td>5386</td>\n",
       "      <td>2021-03-29</td>\n",
       "      <td>140.600006</td>\n",
       "      <td>141.399994</td>\n",
       "      <td>138.699997</td>\n",
       "      <td>140.800003</td>\n",
       "      <td>140.800003</td>\n",
       "      <td>154630</td>\n",
       "    </tr>\n",
       "    <tr>\n",
       "      <th>5387</th>\n",
       "      <td>5387</td>\n",
       "      <td>2021-03-30</td>\n",
       "      <td>140.800003</td>\n",
       "      <td>143.199997</td>\n",
       "      <td>139.600006</td>\n",
       "      <td>142.399994</td>\n",
       "      <td>142.399994</td>\n",
       "      <td>134488</td>\n",
       "    </tr>\n",
       "    <tr>\n",
       "      <th>5388</th>\n",
       "      <td>5388</td>\n",
       "      <td>2021-03-31</td>\n",
       "      <td>142.899994</td>\n",
       "      <td>145.800003</td>\n",
       "      <td>141.899994</td>\n",
       "      <td>142.899994</td>\n",
       "      <td>142.899994</td>\n",
       "      <td>115726</td>\n",
       "    </tr>\n",
       "    <tr>\n",
       "      <th>5389</th>\n",
       "      <td>5389</td>\n",
       "      <td>2021-04-01</td>\n",
       "      <td>142.399994</td>\n",
       "      <td>144.199997</td>\n",
       "      <td>141.899994</td>\n",
       "      <td>142.899994</td>\n",
       "      <td>142.899994</td>\n",
       "      <td>26549</td>\n",
       "    </tr>\n",
       "  </tbody>\n",
       "</table>\n",
       "<p>5390 rows × 8 columns</p>\n",
       "</div>"
      ],
      "text/plain": [
       "      Unnamed: 0        Date        Open        High         Low       Close  \\\n",
       "0              0  2000-01-03   55.599998   57.049999   54.500000   57.000000   \n",
       "1              1  2000-01-04   56.500000   56.500000   52.099998   53.000000   \n",
       "2              2  2000-01-05   52.099998   52.099998   50.349998   50.750000   \n",
       "3              3  2000-01-07   50.900002   53.000000   50.049999   52.400002   \n",
       "4              4  2000-01-10   52.150002   53.400002   51.250000   52.500000   \n",
       "...          ...         ...         ...         ...         ...         ...   \n",
       "5385        5385  2021-03-26  139.600006  141.399994  138.500000  140.699997   \n",
       "5386        5386  2021-03-29  140.600006  141.399994  138.699997  140.800003   \n",
       "5387        5387  2021-03-30  140.800003  143.199997  139.600006  142.399994   \n",
       "5388        5388  2021-03-31  142.899994  145.800003  141.899994  142.899994   \n",
       "5389        5389  2021-04-01  142.399994  144.199997  141.899994  142.899994   \n",
       "\n",
       "       Adj Close  Volume  \n",
       "0       0.068148  184093  \n",
       "1       0.063366  192154  \n",
       "2       0.060676   86948  \n",
       "3       0.062648  111870  \n",
       "4       0.062768  149926  \n",
       "...          ...     ...  \n",
       "5385  140.699997  125694  \n",
       "5386  140.800003  154630  \n",
       "5387  142.399994  134488  \n",
       "5388  142.899994  115726  \n",
       "5389  142.899994   26549  \n",
       "\n",
       "[5390 rows x 8 columns]"
      ]
     },
     "execution_count": 12,
     "metadata": {},
     "output_type": "execute_result"
    }
   ],
   "source": [
    "DH = data_housekeeper()\n",
    "DH.csv_to_df(['Data', 'Tickers', 'Dummy1'],'ANA.MC.TT')"
   ]
  },
  {
   "cell_type": "code",
   "execution_count": null,
   "metadata": {},
   "outputs": [],
   "source": [
    "'''\n",
    "nums =  [[10,20,30],\n",
    "        [40,50,60],\n",
    "        [70,80,90]]\n",
    "mypath3 = 'data_file/number.csv'\n",
    "file = open(mypath3, 'w')\n",
    "\n",
    "with file:\n",
    "    write = csv.writer(file)\n",
    "    write.writerows(nums) # Rather than iterating over the individual rows, and then writing them to the file using the write.row function, we simply call the write.rows funtcion with an S in order\n",
    "\n",
    "'''"
   ]
  },
  {
   "cell_type": "markdown",
   "metadata": {},
   "source": [
    "#### Testing module"
   ]
  },
  {
   "cell_type": "code",
   "execution_count": null,
   "metadata": {},
   "outputs": [],
   "source": []
  },
  {
   "cell_type": "code",
   "execution_count": null,
   "metadata": {},
   "outputs": [],
   "source": [
    "import yfinance as yf\n",
    "import pandas as pd\n",
    "\n",
    "data_csv = yf.download('ACX.MC')\n",
    "data_csv.insert(loc=0, column='Date', value=pd.to_datetime(data_csv.index, errors='coerce'))\n",
    "data_csv['Date'] = [time.date() for time in data_csv['Date']]\n",
    "data_csv.reset_index(drop=True, inplace=True)"
   ]
  },
  {
   "cell_type": "code",
   "execution_count": null,
   "metadata": {},
   "outputs": [],
   "source": [
    "type(data)"
   ]
  },
  {
   "cell_type": "code",
   "execution_count": null,
   "metadata": {},
   "outputs": [],
   "source": [
    "# Config parameters to save\n",
    "dir_list = ['Data', 'Tickers']\n",
    "upper_stages = 0\n",
    "file_name = 'data_df.csv'\n",
    "data = data_csv"
   ]
  },
  {
   "cell_type": "code",
   "execution_count": null,
   "metadata": {},
   "outputs": [],
   "source": [
    "def df_to_csv(dir_list, upper_stages, file_name, data):\n",
    "        relative_file_path_ = '.' + data_housekeeper.create_file_path_in_nested_dir(dir_list, file_name)\n",
    "        print(relative_file_path_)\n",
    "        #Dataframe\n",
    "        data.to_csv(relative_file_path_)"
   ]
  },
  {
   "cell_type": "code",
   "execution_count": null,
   "metadata": {},
   "outputs": [],
   "source": [
    "df_to_csv(dir_list, upper_stages, file_name, data)"
   ]
  },
  {
   "cell_type": "markdown",
   "metadata": {},
   "source": [
    "## Aprender a subir de directorio en la ruta"
   ]
  },
  {
   "cell_type": "markdown",
   "metadata": {},
   "source": [
    "# Development layer "
   ]
  },
  {
   "cell_type": "code",
   "execution_count": null,
   "metadata": {},
   "outputs": [],
   "source": [
    "nums =  [[10,20,30],\n",
    "        [40,50,60],\n",
    "        [70,80,90]]\n",
    "\n",
    "def list_to_csv(dir_list, upper_stages, file_name, data):\n",
    "        relative_file_path_ = '.' + data_housekeeper.create_file_path_in_nested_dir(dir_list, file_name)\n",
    "        print(relative_file_path_)\n",
    "        with open(relative_file_path_, 'w', newline='') as file:\n",
    "            write = csv.writer(file)\n",
    "            write.writerows(data)"
   ]
  },
  {
   "cell_type": "code",
   "execution_count": null,
   "metadata": {},
   "outputs": [],
   "source": [
    "data_housekeeper.list_to_csv(dir_list, upper_stages, file_name, nums)"
   ]
  },
  {
   "cell_type": "code",
   "execution_count": null,
   "metadata": {},
   "outputs": [],
   "source": [
    "# Config parameters to save\n",
    "dir_list = ['Data', 'Tickers']\n",
    "upper_stages = 0\n",
    "file_name = 'tickers_test.json'\n",
    "dictionary_list = [{'key11':'value11', 'key12':'value12','key13':{'subkey131':'subvalue131'} }, {'key21':'value21', 'key22':'value22','key23':{'subkey231':'subvalue231'}}]"
   ]
  },
  {
   "cell_type": "code",
   "execution_count": null,
   "metadata": {},
   "outputs": [],
   "source": [
    "data_housekeeper.list_dict_to_json(dir_list,upper_stages,file_name,dictionary_list)"
   ]
  },
  {
   "cell_type": "code",
   "execution_count": null,
   "metadata": {},
   "outputs": [],
   "source": [
    "data = data_housekeeper.load_json_to_list(dir_list, file_name)\n",
    "data"
   ]
  },
  {
   "cell_type": "code",
   "execution_count": null,
   "metadata": {},
   "outputs": [],
   "source": [
    "myPath =data_housekeeper.create_nested_path(['Data', 'Tickers'])\n",
    "myPath"
   ]
  },
  {
   "cell_type": "code",
   "execution_count": null,
   "metadata": {},
   "outputs": [],
   "source": [
    "data_housekeeper.create_nested_dir(['Data', 'Tickers'])"
   ]
  },
  {
   "cell_type": "code",
   "execution_count": null,
   "metadata": {},
   "outputs": [],
   "source": []
  },
  {
   "cell_type": "code",
   "execution_count": null,
   "metadata": {},
   "outputs": [],
   "source": []
  },
  {
   "cell_type": "code",
   "execution_count": null,
   "metadata": {},
   "outputs": [],
   "source": []
  },
  {
   "cell_type": "code",
   "execution_count": null,
   "metadata": {},
   "outputs": [],
   "source": []
  },
  {
   "cell_type": "code",
   "execution_count": null,
   "metadata": {},
   "outputs": [],
   "source": []
  },
  {
   "cell_type": "code",
   "execution_count": null,
   "metadata": {},
   "outputs": [],
   "source": [
    "def delete_dir(myDir):\n",
    "        try:\n",
    "            if path.exists(myDir):\n",
    "                print('Deleting dir: ', myDir)\n",
    "                os.rmdir(myDir)\n",
    "        except AccessDeniedError as err:\n",
    "            print('No dir deleted: ', err)"
   ]
  },
  {
   "cell_type": "code",
   "execution_count": null,
   "metadata": {},
   "outputs": [],
   "source": [
    "data_housekeeper.delete_dir('./Data2')"
   ]
  },
  {
   "cell_type": "code",
   "execution_count": null,
   "metadata": {},
   "outputs": [],
   "source": [
    "def delete_non_empty_dir(myDir):\n",
    "        try:\n",
    "            if path.exists(myDir):\n",
    "                print('Deleting dir: ', myDir)\n",
    "                shutil.rmtree(myDir)\n",
    "        except AccessDeniedError as err:\n",
    "            print('No dir deleted: ', err)"
   ]
  },
  {
   "cell_type": "code",
   "execution_count": null,
   "metadata": {},
   "outputs": [],
   "source": [
    "data_housekeeper.delete_non_empty_dir('./Data')"
   ]
  },
  {
   "cell_type": "code",
   "execution_count": null,
   "metadata": {},
   "outputs": [],
   "source": [
    "data_housekeeper.create_dir(dir_list[0])"
   ]
  },
  {
   "cell_type": "code",
   "execution_count": null,
   "metadata": {},
   "outputs": [],
   "source": [
    "tickers_dir_path = ['Data', 'Tickers']\n",
    "file_name = 'hola.txt'\n",
    "file_path = './' + '/'.join(tickers_dir_path) +'/'+file_name\n",
    "#file_path = './' + '/'.join(tickers_dir_path)"
   ]
  },
  {
   "cell_type": "code",
   "execution_count": null,
   "metadata": {},
   "outputs": [],
   "source": [
    "file_path"
   ]
  },
  {
   "cell_type": "code",
   "execution_count": null,
   "metadata": {},
   "outputs": [],
   "source": [
    "import os\n",
    "import sys\n",
    "from os import path "
   ]
  },
  {
   "cell_type": "code",
   "execution_count": null,
   "metadata": {},
   "outputs": [],
   "source": [
    "script_dir = os.getcwd()\n",
    "script_dir"
   ]
  },
  {
   "cell_type": "code",
   "execution_count": null,
   "metadata": {},
   "outputs": [],
   "source": [
    "path_parent = os.path.dirname(script_dir)\n",
    "path_parent\n",
    "os.chdir(script_dir)"
   ]
  },
  {
   "cell_type": "code",
   "execution_count": null,
   "metadata": {},
   "outputs": [],
   "source": [
    "os.chdir(script_dir)\n",
    "os.getcwd()"
   ]
  },
  {
   "cell_type": "code",
   "execution_count": null,
   "metadata": {},
   "outputs": [],
   "source": [
    "n = 4\n",
    "for n in range(n):\n",
    "    origin_wd = os.getcwd()\n",
    "    print(n)\n",
    "    path_parent = os.path.dirname(os.getcwd())\n",
    "    os.chdir(path_parent)\n",
    "os.getcwd()"
   ]
  },
  {
   "cell_type": "code",
   "execution_count": null,
   "metadata": {},
   "outputs": [],
   "source": [
    "os.chdir(script_dir)"
   ]
  },
  {
   "cell_type": "code",
   "execution_count": null,
   "metadata": {},
   "outputs": [],
   "source": [
    "import os\n",
    "import sys\n",
    "from os import path \n",
    "import json\n",
    "\n",
    "def create_dir(myDir):\n",
    "    try:\n",
    "        if not path.exists(myDir):\n",
    "            print('Creating dir: ', myDir)\n",
    "            os.mkdir(myDir)\n",
    "    except AccessDeniedError as err:\n",
    "        print('No dir created: ', err)"
   ]
  },
  {
   "cell_type": "code",
   "execution_count": null,
   "metadata": {},
   "outputs": [],
   "source": [
    "def create_nested_dir(dir_path):\n",
    "    try:\n",
    "        myPath = ''\n",
    "        for directory in dir_path:\n",
    "            myPath += './' + directory\n",
    "            create_dir(myPath)\n",
    "        #print(myPath)\n",
    "    except AccessDeniedError as err:\n",
    "        print('No nested dir created: ', err)\n",
    "        #print(myPath)\n",
    "        \n",
    "        \n",
    "#file_path = './' + '/'.join(dir_path) +'/'+ file_name"
   ]
  },
  {
   "cell_type": "code",
   "execution_count": null,
   "metadata": {},
   "outputs": [],
   "source": [
    "def create_nested_dir_in_parent_dir(dir_path , n):\n",
    "    try:\n",
    "        origin_wd = os.getcwd()\n",
    "        for n in range(n):\n",
    "            path_parent = os.path.dirname(os.getcwd())\n",
    "            os.chdir(path_parent)\n",
    "        root_dir = os.getcwd()\n",
    "        print('Root dir: ', root_dir)\n",
    "        create_nested_dir(dir_path)\n",
    "        os.chdir(origin_wd)\n",
    "        return root_dir\n",
    "    except:\n",
    "        os.chdir(origin_wd)\n",
    "        print('Error: No directory created. Posible causes: \\nWrong type imput arguments \\nUnable to access to nested dir')\n",
    "        return os.getcwds()"
   ]
  },
  {
   "cell_type": "code",
   "execution_count": null,
   "metadata": {},
   "outputs": [],
   "source": [
    "def list_dict_to_json(dir_list,upper_stages,file_name, dictionary_list):\n",
    "    dir_path = create_nested_dir_in_parent_dir(dir_list,upper_stages)\n",
    "    print('dir_path: ', dir_path)\n",
    "    print('dir_list: ', dir_list)\n",
    "    nested_path = '/' + '/'.join(dir_list) +'/'\n",
    "    print('nested_path: ', nested_path)\n",
    "    file_path = dir_path + nested_path+ file_name\n",
    "    print('file path: ', file_path)\n",
    "    with open(file_path, 'w') as json_file:\n",
    "        for ticker in dictionary_list:\n",
    "            #json.dump(ticker, json_file, separators=(\":\", \",\\n\"))\n",
    "            json.dump(ticker, json_file, separators=(\":\", \",\"))\n",
    "            json_file.write('\\n')"
   ]
  },
  {
   "cell_type": "code",
   "execution_count": null,
   "metadata": {},
   "outputs": [],
   "source": [
    "dir_list = ['Data', 'Tickers']\n",
    "#dir_list = True\n",
    "upper_stages = 0\n",
    "file_name = 'tickers.txt'\n",
    "dictionary_list = ['hola', 'mundo']\n",
    "list_dict_to_json(dir_list, upper_stages, file_name, dictionary_list)"
   ]
  },
  {
   "cell_type": "code",
   "execution_count": null,
   "metadata": {},
   "outputs": [],
   "source": [
    "#data_housekeeper.list_dict_to_json(tickers_dir_path,1,'tickers.txt',list_to_write)\n",
    "#def list_dict_to_json(dir_list,upper_stages,file_name, dictionary_list):\n",
    "dir_list = ['Data', 'Tickers']\n",
    "upper_stages = 1\n",
    "file_name = 'tickers.txt'\n",
    "dictionary_list = ['hola', 'mundo']\n",
    "\n",
    "dir_path = create_nested_dir_in_parent_dir(dir_list,upper_stages)\n",
    "print('dir_path: ', dir_path)\n",
    "print('dir_list: ', dir_list)\n",
    "nested_path = '/' + '/'.join(dir_list) +'/'\n",
    "print('nested_path: ', nested_path)\n"
   ]
  },
  {
   "cell_type": "code",
   "execution_count": null,
   "metadata": {},
   "outputs": [],
   "source": [
    "#file_path = './' + '/'.join(dir_path) +'/'+ file_name\n",
    "file_path = dir_path + nested_path+ file_name\n",
    "print('file path: ', file_path)\n",
    "#with open(file_path, 'w') as json_file:\n",
    "#'./Data/Tickers/tickers.txt'\n",
    "#with open('.\\Data\\Tickers\\tickers.txt', 'w') as json_file:\n"
   ]
  },
  {
   "cell_type": "code",
   "execution_count": null,
   "metadata": {},
   "outputs": [],
   "source": [
    "with open(file_path, 'w') as json_file:\n",
    "    for ticker in dictionary_list:\n",
    "        #json.dump(ticker, json_file, separators=(\":\", \",\\n\"))\n",
    "        json.dump(ticker, json_file, separators=(\":\", \",\"))\n",
    "        json_file.write('\\n')"
   ]
  },
  {
   "cell_type": "code",
   "execution_count": null,
   "metadata": {},
   "outputs": [],
   "source": []
  },
  {
   "cell_type": "code",
   "execution_count": null,
   "metadata": {},
   "outputs": [],
   "source": [
    "dir_list = ['Data', 'Tickers']\n",
    "upper_stages = 2\n",
    "file_name = 'tickers.txt'\n",
    "dictionary_list = ['hola', 'mundo']\n",
    "\n",
    "dir_path = create_nested_dir_in_parent_dir(dir_list,upper_stages)\n",
    "print('dir_path: ', dir_path)\n",
    "print('dir_list: ', dir_list)\n",
    "nested_path = '/' + '/'.join(dir_list) +'/'\n",
    "print('nested_path: ', nested_path)\n",
    "file_path = dir_path + nested_path+ file_name\n",
    "print('file path: ', file_path)\n",
    "with open(file_path, 'w') as json_file:\n",
    "    for ticker in dictionary_list:\n",
    "        #json.dump(ticker, json_file, separators=(\":\", \",\\n\"))\n",
    "        json.dump(ticker, json_file, separators=(\":\", \",\"))\n",
    "        json_file.write('\\n')"
   ]
  },
  {
   "cell_type": "code",
   "execution_count": null,
   "metadata": {},
   "outputs": [],
   "source": []
  },
  {
   "cell_type": "code",
   "execution_count": null,
   "metadata": {},
   "outputs": [],
   "source": []
  },
  {
   "cell_type": "code",
   "execution_count": null,
   "metadata": {},
   "outputs": [],
   "source": []
  },
  {
   "cell_type": "code",
   "execution_count": null,
   "metadata": {},
   "outputs": [],
   "source": []
  },
  {
   "cell_type": "code",
   "execution_count": null,
   "metadata": {},
   "outputs": [],
   "source": []
  },
  {
   "cell_type": "code",
   "execution_count": null,
   "metadata": {},
   "outputs": [],
   "source": []
  },
  {
   "cell_type": "code",
   "execution_count": null,
   "metadata": {},
   "outputs": [],
   "source": []
  },
  {
   "cell_type": "code",
   "execution_count": null,
   "metadata": {},
   "outputs": [],
   "source": [
    "n =1\n",
    "create_nested_dir_in_parent_dir(['Data', 'Tickers'],0)"
   ]
  },
  {
   "cell_type": "code",
   "execution_count": null,
   "metadata": {},
   "outputs": [],
   "source": []
  },
  {
   "cell_type": "code",
   "execution_count": null,
   "metadata": {},
   "outputs": [],
   "source": [
    "create_nested_dir(['Data', 'Tickers'])"
   ]
  },
  {
   "cell_type": "code",
   "execution_count": null,
   "metadata": {},
   "outputs": [],
   "source": [
    "os.getcwd()"
   ]
  },
  {
   "cell_type": "code",
   "execution_count": null,
   "metadata": {},
   "outputs": [],
   "source": [
    "os.getcwd()"
   ]
  },
  {
   "cell_type": "code",
   "execution_count": null,
   "metadata": {},
   "outputs": [],
   "source": [
    "os.path.dirname(os.getcwd())"
   ]
  },
  {
   "cell_type": "code",
   "execution_count": null,
   "metadata": {},
   "outputs": [],
   "source": [
    "path_parent = os.path.dirname(os.getcwd())"
   ]
  },
  {
   "cell_type": "code",
   "execution_count": null,
   "metadata": {},
   "outputs": [],
   "source": [
    "os.chdir(path_parent) #Change directory"
   ]
  },
  {
   "cell_type": "code",
   "execution_count": null,
   "metadata": {},
   "outputs": [],
   "source": []
  },
  {
   "cell_type": "markdown",
   "metadata": {},
   "source": [
    "**This takes the filename of your script, converts it to an absolute path, then extracts the directory of that path, then changes into that directory.**\n"
   ]
  },
  {
   "cell_type": "code",
   "execution_count": null,
   "metadata": {},
   "outputs": [],
   "source": [
    "abspath = os.path.abspath(__file__)\n",
    "dname = os.path.dirname(abspath)\n",
    "os.chdir(dname)"
   ]
  },
  {
   "cell_type": "code",
   "execution_count": null,
   "metadata": {},
   "outputs": [],
   "source": [
    "os.path.abspath(__file__)"
   ]
  },
  {
   "cell_type": "markdown",
   "metadata": {},
   "source": [
    "**Going to directory where the python packages are installed**"
   ]
  },
  {
   "cell_type": "code",
   "execution_count": null,
   "metadata": {},
   "outputs": [],
   "source": [
    "import sys\n",
    "os.chdir(os.path.dirname(sys.argv[0]))\n"
   ]
  },
  {
   "cell_type": "code",
   "execution_count": null,
   "metadata": {},
   "outputs": [],
   "source": [
    "os.getcwd()"
   ]
  },
  {
   "cell_type": "code",
   "execution_count": null,
   "metadata": {},
   "outputs": [],
   "source": []
  },
  {
   "cell_type": "code",
   "execution_count": null,
   "metadata": {},
   "outputs": [],
   "source": [
    "abspath = os.path.abspath(sys.argv[0])\n",
    "abspath"
   ]
  },
  {
   "cell_type": "code",
   "execution_count": null,
   "metadata": {},
   "outputs": [],
   "source": [
    "dname = os.path.dirname(abspath)"
   ]
  },
  {
   "cell_type": "code",
   "execution_count": null,
   "metadata": {},
   "outputs": [],
   "source": [
    "os.chdir(dname)"
   ]
  },
  {
   "cell_type": "code",
   "execution_count": null,
   "metadata": {},
   "outputs": [],
   "source": [
    "os.getcwd()"
   ]
  },
  {
   "cell_type": "code",
   "execution_count": null,
   "metadata": {},
   "outputs": [],
   "source": []
  },
  {
   "cell_type": "code",
   "execution_count": null,
   "metadata": {},
   "outputs": [],
   "source": []
  },
  {
   "cell_type": "code",
   "execution_count": null,
   "metadata": {},
   "outputs": [],
   "source": []
  },
  {
   "cell_type": "code",
   "execution_count": null,
   "metadata": {},
   "outputs": [],
   "source": []
  },
  {
   "cell_type": "code",
   "execution_count": null,
   "metadata": {},
   "outputs": [],
   "source": []
  },
  {
   "cell_type": "code",
   "execution_count": null,
   "metadata": {},
   "outputs": [],
   "source": []
  },
  {
   "cell_type": "code",
   "execution_count": null,
   "metadata": {},
   "outputs": [],
   "source": []
  },
  {
   "cell_type": "code",
   "execution_count": null,
   "metadata": {},
   "outputs": [],
   "source": []
  },
  {
   "cell_type": "code",
   "execution_count": null,
   "metadata": {},
   "outputs": [],
   "source": []
  },
  {
   "cell_type": "code",
   "execution_count": null,
   "metadata": {},
   "outputs": [],
   "source": []
  },
  {
   "cell_type": "code",
   "execution_count": null,
   "metadata": {},
   "outputs": [],
   "source": []
  },
  {
   "cell_type": "code",
   "execution_count": null,
   "metadata": {},
   "outputs": [],
   "source": []
  }
 ],
 "metadata": {
  "kernelspec": {
   "display_name": "Python 3",
   "language": "python",
   "name": "python3"
  },
  "language_info": {
   "codemirror_mode": {
    "name": "ipython",
    "version": 3
   },
   "file_extension": ".py",
   "mimetype": "text/x-python",
   "name": "python",
   "nbconvert_exporter": "python",
   "pygments_lexer": "ipython3",
   "version": "3.7.9"
  }
 },
 "nbformat": 4,
 "nbformat_minor": 4
}
