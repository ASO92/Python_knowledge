{
 "cells": [
  {
   "cell_type": "markdown",
   "metadata": {},
   "source": [
    "# Housekeeper module"
   ]
  },
  {
   "cell_type": "markdown",
   "metadata": {},
   "source": [
    "#### Minimum code"
   ]
  },
  {
   "cell_type": "code",
   "execution_count": 75,
   "metadata": {},
   "outputs": [],
   "source": [
    "import os\n",
    "from os import path \n",
    "import json\n",
    "import shutil\n",
    "\n",
    "class data_housekeeper():\n",
    "    \n",
    "    def __init__(self):\n",
    "        pass\n",
    "\n",
    "        \n",
    "    @staticmethod\n",
    "    def create_dir(myDir):\n",
    "        try:\n",
    "            if not path.exists(myDir):\n",
    "                print('Creating dir: ', myDir)\n",
    "                os.mkdir(myDir)\n",
    "        except AccessDeniedError as err:\n",
    "            print('No dir created: ', err)\n",
    "\n",
    "    @staticmethod\n",
    "    def delete_dir(myDir):\n",
    "        try:\n",
    "            if path.exists(myDir):\n",
    "                print('Deleting dir: ', myDir)\n",
    "                os.rmdir(myDir)\n",
    "            else:\n",
    "                print('Inexistent folder')\n",
    "        except AccessDeniedError as err:\n",
    "            print('No dir deleted: ', err)\n",
    "\n",
    "    @staticmethod\n",
    "    def delete_non_empty_dir(myDir):\n",
    "        try:\n",
    "            if path.exists(myDir):\n",
    "                print('Deleting dir: ', myDir)\n",
    "                shutil.rmtree(myDir)\n",
    "        except:\n",
    "            print('No dir deleted: ')        \n",
    "\n",
    "    @staticmethod\n",
    "    def create_my_path(dir_path):\n",
    "        myPath = '.'\n",
    "        for directory in dir_path:\n",
    "                myPath += '/' +  directory\n",
    "        return myPath\n",
    "            \n",
    "    @staticmethod\n",
    "    def create_nested_dir(dir_path):\n",
    "        try:\n",
    "            myPath = ''\n",
    "            for directory in dir_path:\n",
    "                myPath += './' + directory\n",
    "                data_housekeeper.create_dir(myPath)\n",
    "            #print(myPath)\n",
    "        except:\n",
    "            print('No nested dir created')\n",
    "            #print(myPath)\n",
    "\n",
    "    @staticmethod\n",
    "    def create_nested_dir_in_parent_dir(dir_path , n):\n",
    "        try:\n",
    "            origin_wd = os.getcwd()\n",
    "            for n in range(n):\n",
    "                path_parent = os.path.dirname(os.getcwd())\n",
    "                os.chdir(path_parent)\n",
    "            root_dir = os.getcwd()\n",
    "            print('Root dir: ', root_dir)\n",
    "            data_housekeeper.create_nested_dir(dir_path)\n",
    "            os.chdir(origin_wd)\n",
    "            return root_dir\n",
    "        except:\n",
    "            os.chdir(origin_wd)\n",
    "            print('Error: No directory created. Posible causes: \\nWrong type imput arguments \\nUnable to access to nested dir')\n",
    "            return os.getcwds()\n",
    "                \n",
    "    @staticmethod\n",
    "    def list_dict_to_json(dir_list,upper_stages,file_name, dictionary_list):\n",
    "        dir_path = data_housekeeper.create_nested_dir_in_parent_dir(dir_list,upper_stages)\n",
    "        print('dir_path: ', dir_path)\n",
    "        print('dir_list: ', dir_list)\n",
    "        nested_path = '/' + '/'.join(dir_list) +'/'\n",
    "        print('nested_path: ', nested_path)\n",
    "        file_path = dir_path + nested_path+ file_name\n",
    "        print('file path: ', file_path)\n",
    "        with open(file_path, 'w') as json_file:\n",
    "            json.dump(dictionary_list, json_file, indent=4)\n",
    "\n",
    "    @staticmethod\n",
    "    def load_json_to_list(dir_list, file_name):\n",
    "        dir_path = data_housekeeper.create_my_path(dir_list)\n",
    "        print(dir_path)\n",
    "        file_path = dir_path + '/' +file_name\n",
    "        print(file_path)\n",
    "        with open(file_path) as json_file:\n",
    "            data = json.load(json_file)\n",
    "        return data"
   ]
  },
  {
   "cell_type": "markdown",
   "metadata": {},
   "source": [
    "#### Testing module"
   ]
  },
  {
   "cell_type": "code",
   "execution_count": 1,
   "metadata": {},
   "outputs": [],
   "source": [
    "# Config parameters to save\n",
    "dir_list = ['Data', 'Tickers']\n",
    "upper_stages = 0\n",
    "file_name = 'tickers.json'\n",
    "dictionary_list = [{'key11':'value11', 'key12':'value12','key13':{'subkey131':'subvalue131'} }, {'key21':'value21', 'key22':'value22','key23':{'subkey231':'subvalue231'}}]"
   ]
  },
  {
   "cell_type": "code",
   "execution_count": 83,
   "metadata": {},
   "outputs": [
    {
     "name": "stdout",
     "output_type": "stream",
     "text": [
      "Root dir:  C:\\Users\\alvaro\\Repos\\Python_knowledge\\Appdatabase project\n",
      "dir_path:  C:\\Users\\alvaro\\Repos\\Python_knowledge\\Appdatabase project\n",
      "dir_list:  ['Data', 'Tickers']\n",
      "nested_path:  /Data/Tickers/\n",
      "file path:  C:\\Users\\alvaro\\Repos\\Python_knowledge\\Appdatabase project/Data/Tickers/tickers.json\n"
     ]
    }
   ],
   "source": [
    "data_housekeeper.list_dict_to_json(dir_list,upper_stages,file_name,dictionary_list)"
   ]
  },
  {
   "cell_type": "code",
   "execution_count": 84,
   "metadata": {},
   "outputs": [
    {
     "name": "stdout",
     "output_type": "stream",
     "text": [
      "./Data/Tickers\n",
      "./Data/Tickers/tickers.json\n"
     ]
    },
    {
     "data": {
      "text/plain": [
       "[{'key11': 'value11',\n",
       "  'key12': 'value12',\n",
       "  'key13': {'subkey131': 'subvalue131'}},\n",
       " {'key21': 'value21',\n",
       "  'key22': 'value22',\n",
       "  'key23': {'subkey231': 'subvalue231'}}]"
      ]
     },
     "execution_count": 84,
     "metadata": {},
     "output_type": "execute_result"
    }
   ],
   "source": [
    "data = data_housekeeper.load_json_to_list(dir_list, file_name)\n",
    "data"
   ]
  },
  {
   "cell_type": "code",
   "execution_count": null,
   "metadata": {},
   "outputs": [],
   "source": []
  },
  {
   "cell_type": "code",
   "execution_count": 33,
   "metadata": {},
   "outputs": [
    {
     "name": "stdout",
     "output_type": "stream",
     "text": [
      "Creating dir:  ./Data\n",
      "Creating dir:  ./Data./Ticker\n"
     ]
    }
   ],
   "source": [
    "data_housekeeper.create_nested_dir(['Data', 'Ticker'])"
   ]
  },
  {
   "cell_type": "code",
   "execution_count": null,
   "metadata": {},
   "outputs": [],
   "source": [
    "def save_tickers_list(self):\n",
    "        # Guarda la ticker list. Guarda en JSON.\n",
    "        print(\"Save tickers list\")"
   ]
  },
  {
   "cell_type": "markdown",
   "metadata": {},
   "source": [
    "## Aprender a subir de directorio en la ruta"
   ]
  },
  {
   "cell_type": "markdown",
   "metadata": {},
   "source": [
    "# Development layer "
   ]
  },
  {
   "cell_type": "code",
   "execution_count": 46,
   "metadata": {},
   "outputs": [
    {
     "data": {
      "text/plain": [
       "'./Data/Tickers'"
      ]
     },
     "execution_count": 46,
     "metadata": {},
     "output_type": "execute_result"
    }
   ],
   "source": [
    "myPath =data_housekeeper.create_my_path(['Data', 'Tickers'])\n",
    "myPath"
   ]
  },
  {
   "cell_type": "code",
   "execution_count": 32,
   "metadata": {},
   "outputs": [
    {
     "name": "stdout",
     "output_type": "stream",
     "text": [
      "Creating dir:  ./Data\n",
      "Creating dir:  ./Data./Tickers\n"
     ]
    }
   ],
   "source": [
    "data_housekeeper.create_nested_dir(['Data', 'Tickers'])"
   ]
  },
  {
   "cell_type": "code",
   "execution_count": null,
   "metadata": {},
   "outputs": [],
   "source": []
  },
  {
   "cell_type": "code",
   "execution_count": null,
   "metadata": {},
   "outputs": [],
   "source": []
  },
  {
   "cell_type": "code",
   "execution_count": null,
   "metadata": {},
   "outputs": [],
   "source": []
  },
  {
   "cell_type": "code",
   "execution_count": null,
   "metadata": {},
   "outputs": [],
   "source": []
  },
  {
   "cell_type": "code",
   "execution_count": null,
   "metadata": {},
   "outputs": [],
   "source": []
  },
  {
   "cell_type": "code",
   "execution_count": null,
   "metadata": {},
   "outputs": [],
   "source": [
    "def delete_dir(myDir):\n",
    "        try:\n",
    "            if path.exists(myDir):\n",
    "                print('Deleting dir: ', myDir)\n",
    "                os.rmdir(myDir)\n",
    "        except AccessDeniedError as err:\n",
    "            print('No dir deleted: ', err)"
   ]
  },
  {
   "cell_type": "code",
   "execution_count": null,
   "metadata": {},
   "outputs": [],
   "source": [
    "data_housekeeper.delete_dir('./Data2')"
   ]
  },
  {
   "cell_type": "code",
   "execution_count": null,
   "metadata": {},
   "outputs": [],
   "source": [
    "def delete_non_empty_dir(myDir):\n",
    "        try:\n",
    "            if path.exists(myDir):\n",
    "                print('Deleting dir: ', myDir)\n",
    "                shutil.rmtree(myDir)\n",
    "        except AccessDeniedError as err:\n",
    "            print('No dir deleted: ', err)"
   ]
  },
  {
   "cell_type": "code",
   "execution_count": null,
   "metadata": {},
   "outputs": [],
   "source": [
    "data_housekeeper.delete_non_empty_dir('./Data')"
   ]
  },
  {
   "cell_type": "code",
   "execution_count": null,
   "metadata": {},
   "outputs": [],
   "source": [
    "data_housekeeper.create_dir(dir_list[0])"
   ]
  },
  {
   "cell_type": "code",
   "execution_count": null,
   "metadata": {},
   "outputs": [],
   "source": [
    "tickers_dir_path = ['Data', 'Tickers']\n",
    "file_name = 'hola.txt'\n",
    "file_path = './' + '/'.join(tickers_dir_path) +'/'+file_name\n",
    "#file_path = './' + '/'.join(tickers_dir_path)"
   ]
  },
  {
   "cell_type": "code",
   "execution_count": null,
   "metadata": {},
   "outputs": [],
   "source": [
    "file_path"
   ]
  },
  {
   "cell_type": "code",
   "execution_count": null,
   "metadata": {},
   "outputs": [],
   "source": [
    "import os\n",
    "import sys\n",
    "from os import path "
   ]
  },
  {
   "cell_type": "code",
   "execution_count": null,
   "metadata": {},
   "outputs": [],
   "source": [
    "script_dir = os.getcwd()\n",
    "script_dir"
   ]
  },
  {
   "cell_type": "code",
   "execution_count": null,
   "metadata": {},
   "outputs": [],
   "source": [
    "path_parent = os.path.dirname(script_dir)\n",
    "path_parent\n",
    "os.chdir(script_dir)"
   ]
  },
  {
   "cell_type": "code",
   "execution_count": null,
   "metadata": {},
   "outputs": [],
   "source": [
    "os.chdir(script_dir)\n",
    "os.getcwd()"
   ]
  },
  {
   "cell_type": "code",
   "execution_count": null,
   "metadata": {},
   "outputs": [],
   "source": [
    "n = 4\n",
    "for n in range(n):\n",
    "    origin_wd = os.getcwd()\n",
    "    print(n)\n",
    "    path_parent = os.path.dirname(os.getcwd())\n",
    "    os.chdir(path_parent)\n",
    "os.getcwd()"
   ]
  },
  {
   "cell_type": "code",
   "execution_count": null,
   "metadata": {},
   "outputs": [],
   "source": [
    "os.chdir(script_dir)"
   ]
  },
  {
   "cell_type": "code",
   "execution_count": null,
   "metadata": {},
   "outputs": [],
   "source": [
    "import os\n",
    "import sys\n",
    "from os import path \n",
    "import json\n",
    "\n",
    "def create_dir(myDir):\n",
    "    try:\n",
    "        if not path.exists(myDir):\n",
    "            print('Creating dir: ', myDir)\n",
    "            os.mkdir(myDir)\n",
    "    except AccessDeniedError as err:\n",
    "        print('No dir created: ', err)"
   ]
  },
  {
   "cell_type": "code",
   "execution_count": null,
   "metadata": {},
   "outputs": [],
   "source": [
    "def create_nested_dir(dir_path):\n",
    "    try:\n",
    "        myPath = ''\n",
    "        for directory in dir_path:\n",
    "            myPath += './' + directory\n",
    "            create_dir(myPath)\n",
    "        #print(myPath)\n",
    "    except AccessDeniedError as err:\n",
    "        print('No nested dir created: ', err)\n",
    "        #print(myPath)\n",
    "        \n",
    "        \n",
    "#file_path = './' + '/'.join(dir_path) +'/'+ file_name"
   ]
  },
  {
   "cell_type": "code",
   "execution_count": null,
   "metadata": {},
   "outputs": [],
   "source": [
    "def create_nested_dir_in_parent_dir(dir_path , n):\n",
    "    try:\n",
    "        origin_wd = os.getcwd()\n",
    "        for n in range(n):\n",
    "            path_parent = os.path.dirname(os.getcwd())\n",
    "            os.chdir(path_parent)\n",
    "        root_dir = os.getcwd()\n",
    "        print('Root dir: ', root_dir)\n",
    "        create_nested_dir(dir_path)\n",
    "        os.chdir(origin_wd)\n",
    "        return root_dir\n",
    "    except:\n",
    "        os.chdir(origin_wd)\n",
    "        print('Error: No directory created. Posible causes: \\nWrong type imput arguments \\nUnable to access to nested dir')\n",
    "        return os.getcwds()"
   ]
  },
  {
   "cell_type": "code",
   "execution_count": null,
   "metadata": {},
   "outputs": [],
   "source": [
    "def list_dict_to_json(dir_list,upper_stages,file_name, dictionary_list):\n",
    "    dir_path = create_nested_dir_in_parent_dir(dir_list,upper_stages)\n",
    "    print('dir_path: ', dir_path)\n",
    "    print('dir_list: ', dir_list)\n",
    "    nested_path = '/' + '/'.join(dir_list) +'/'\n",
    "    print('nested_path: ', nested_path)\n",
    "    file_path = dir_path + nested_path+ file_name\n",
    "    print('file path: ', file_path)\n",
    "    with open(file_path, 'w') as json_file:\n",
    "        for ticker in dictionary_list:\n",
    "            #json.dump(ticker, json_file, separators=(\":\", \",\\n\"))\n",
    "            json.dump(ticker, json_file, separators=(\":\", \",\"))\n",
    "            json_file.write('\\n')"
   ]
  },
  {
   "cell_type": "code",
   "execution_count": null,
   "metadata": {},
   "outputs": [],
   "source": [
    "dir_list = ['Data', 'Tickers']\n",
    "#dir_list = True\n",
    "upper_stages = 0\n",
    "file_name = 'tickers.txt'\n",
    "dictionary_list = ['hola', 'mundo']\n",
    "list_dict_to_json(dir_list, upper_stages, file_name, dictionary_list)"
   ]
  },
  {
   "cell_type": "code",
   "execution_count": null,
   "metadata": {},
   "outputs": [],
   "source": [
    "#data_housekeeper.list_dict_to_json(tickers_dir_path,1,'tickers.txt',list_to_write)\n",
    "#def list_dict_to_json(dir_list,upper_stages,file_name, dictionary_list):\n",
    "dir_list = ['Data', 'Tickers']\n",
    "upper_stages = 1\n",
    "file_name = 'tickers.txt'\n",
    "dictionary_list = ['hola', 'mundo']\n",
    "\n",
    "dir_path = create_nested_dir_in_parent_dir(dir_list,upper_stages)\n",
    "print('dir_path: ', dir_path)\n",
    "print('dir_list: ', dir_list)\n",
    "nested_path = '/' + '/'.join(dir_list) +'/'\n",
    "print('nested_path: ', nested_path)\n"
   ]
  },
  {
   "cell_type": "code",
   "execution_count": null,
   "metadata": {},
   "outputs": [],
   "source": [
    "#file_path = './' + '/'.join(dir_path) +'/'+ file_name\n",
    "file_path = dir_path + nested_path+ file_name\n",
    "print('file path: ', file_path)\n",
    "#with open(file_path, 'w') as json_file:\n",
    "#'./Data/Tickers/tickers.txt'\n",
    "#with open('.\\Data\\Tickers\\tickers.txt', 'w') as json_file:\n"
   ]
  },
  {
   "cell_type": "code",
   "execution_count": null,
   "metadata": {},
   "outputs": [],
   "source": [
    "with open(file_path, 'w') as json_file:\n",
    "    for ticker in dictionary_list:\n",
    "        #json.dump(ticker, json_file, separators=(\":\", \",\\n\"))\n",
    "        json.dump(ticker, json_file, separators=(\":\", \",\"))\n",
    "        json_file.write('\\n')"
   ]
  },
  {
   "cell_type": "code",
   "execution_count": null,
   "metadata": {},
   "outputs": [],
   "source": []
  },
  {
   "cell_type": "code",
   "execution_count": null,
   "metadata": {},
   "outputs": [],
   "source": [
    "dir_list = ['Data', 'Tickers']\n",
    "upper_stages = 2\n",
    "file_name = 'tickers.txt'\n",
    "dictionary_list = ['hola', 'mundo']\n",
    "\n",
    "dir_path = create_nested_dir_in_parent_dir(dir_list,upper_stages)\n",
    "print('dir_path: ', dir_path)\n",
    "print('dir_list: ', dir_list)\n",
    "nested_path = '/' + '/'.join(dir_list) +'/'\n",
    "print('nested_path: ', nested_path)\n",
    "file_path = dir_path + nested_path+ file_name\n",
    "print('file path: ', file_path)\n",
    "with open(file_path, 'w') as json_file:\n",
    "    for ticker in dictionary_list:\n",
    "        #json.dump(ticker, json_file, separators=(\":\", \",\\n\"))\n",
    "        json.dump(ticker, json_file, separators=(\":\", \",\"))\n",
    "        json_file.write('\\n')"
   ]
  },
  {
   "cell_type": "code",
   "execution_count": null,
   "metadata": {},
   "outputs": [],
   "source": []
  },
  {
   "cell_type": "code",
   "execution_count": null,
   "metadata": {},
   "outputs": [],
   "source": []
  },
  {
   "cell_type": "code",
   "execution_count": null,
   "metadata": {},
   "outputs": [],
   "source": []
  },
  {
   "cell_type": "code",
   "execution_count": null,
   "metadata": {},
   "outputs": [],
   "source": []
  },
  {
   "cell_type": "code",
   "execution_count": null,
   "metadata": {},
   "outputs": [],
   "source": []
  },
  {
   "cell_type": "code",
   "execution_count": null,
   "metadata": {},
   "outputs": [],
   "source": []
  },
  {
   "cell_type": "code",
   "execution_count": null,
   "metadata": {},
   "outputs": [],
   "source": []
  },
  {
   "cell_type": "code",
   "execution_count": null,
   "metadata": {},
   "outputs": [],
   "source": [
    "n =1\n",
    "create_nested_dir_in_parent_dir(['Data', 'Tickers'],0)"
   ]
  },
  {
   "cell_type": "code",
   "execution_count": null,
   "metadata": {},
   "outputs": [],
   "source": []
  },
  {
   "cell_type": "code",
   "execution_count": null,
   "metadata": {},
   "outputs": [],
   "source": [
    "create_nested_dir(['Data', 'Tickers'])"
   ]
  },
  {
   "cell_type": "code",
   "execution_count": null,
   "metadata": {},
   "outputs": [],
   "source": [
    "os.getcwd()"
   ]
  },
  {
   "cell_type": "code",
   "execution_count": null,
   "metadata": {},
   "outputs": [],
   "source": [
    "os.getcwd()"
   ]
  },
  {
   "cell_type": "code",
   "execution_count": null,
   "metadata": {},
   "outputs": [],
   "source": [
    "os.path.dirname(os.getcwd())"
   ]
  },
  {
   "cell_type": "code",
   "execution_count": null,
   "metadata": {},
   "outputs": [],
   "source": [
    "path_parent = os.path.dirname(os.getcwd())"
   ]
  },
  {
   "cell_type": "code",
   "execution_count": null,
   "metadata": {},
   "outputs": [],
   "source": [
    "os.chdir(path_parent) #Change directory"
   ]
  },
  {
   "cell_type": "code",
   "execution_count": null,
   "metadata": {},
   "outputs": [],
   "source": []
  },
  {
   "cell_type": "markdown",
   "metadata": {},
   "source": [
    "**This takes the filename of your script, converts it to an absolute path, then extracts the directory of that path, then changes into that directory.**\n"
   ]
  },
  {
   "cell_type": "code",
   "execution_count": null,
   "metadata": {},
   "outputs": [],
   "source": [
    "abspath = os.path.abspath(__file__)\n",
    "dname = os.path.dirname(abspath)\n",
    "os.chdir(dname)"
   ]
  },
  {
   "cell_type": "code",
   "execution_count": null,
   "metadata": {},
   "outputs": [],
   "source": [
    "os.path.abspath(__file__)"
   ]
  },
  {
   "cell_type": "markdown",
   "metadata": {},
   "source": [
    "**Going to directory where the python packages are installed**"
   ]
  },
  {
   "cell_type": "code",
   "execution_count": null,
   "metadata": {},
   "outputs": [],
   "source": [
    "import sys\n",
    "os.chdir(os.path.dirname(sys.argv[0]))\n"
   ]
  },
  {
   "cell_type": "code",
   "execution_count": null,
   "metadata": {},
   "outputs": [],
   "source": [
    "os.getcwd()"
   ]
  },
  {
   "cell_type": "code",
   "execution_count": null,
   "metadata": {},
   "outputs": [],
   "source": []
  },
  {
   "cell_type": "code",
   "execution_count": null,
   "metadata": {},
   "outputs": [],
   "source": [
    "abspath = os.path.abspath(sys.argv[0])\n",
    "abspath"
   ]
  },
  {
   "cell_type": "code",
   "execution_count": null,
   "metadata": {},
   "outputs": [],
   "source": [
    "dname = os.path.dirname(abspath)"
   ]
  },
  {
   "cell_type": "code",
   "execution_count": null,
   "metadata": {},
   "outputs": [],
   "source": [
    "os.chdir(dname)"
   ]
  },
  {
   "cell_type": "code",
   "execution_count": null,
   "metadata": {},
   "outputs": [],
   "source": [
    "os.getcwd()"
   ]
  },
  {
   "cell_type": "code",
   "execution_count": null,
   "metadata": {},
   "outputs": [],
   "source": []
  },
  {
   "cell_type": "code",
   "execution_count": null,
   "metadata": {},
   "outputs": [],
   "source": []
  },
  {
   "cell_type": "code",
   "execution_count": null,
   "metadata": {},
   "outputs": [],
   "source": []
  },
  {
   "cell_type": "code",
   "execution_count": null,
   "metadata": {},
   "outputs": [],
   "source": []
  },
  {
   "cell_type": "code",
   "execution_count": null,
   "metadata": {},
   "outputs": [],
   "source": []
  },
  {
   "cell_type": "code",
   "execution_count": null,
   "metadata": {},
   "outputs": [],
   "source": []
  },
  {
   "cell_type": "code",
   "execution_count": null,
   "metadata": {},
   "outputs": [],
   "source": []
  },
  {
   "cell_type": "code",
   "execution_count": null,
   "metadata": {},
   "outputs": [],
   "source": []
  },
  {
   "cell_type": "code",
   "execution_count": null,
   "metadata": {},
   "outputs": [],
   "source": []
  },
  {
   "cell_type": "code",
   "execution_count": null,
   "metadata": {},
   "outputs": [],
   "source": []
  },
  {
   "cell_type": "code",
   "execution_count": null,
   "metadata": {},
   "outputs": [],
   "source": []
  },
  {
   "cell_type": "code",
   "execution_count": null,
   "metadata": {},
   "outputs": [],
   "source": []
  }
 ],
 "metadata": {
  "kernelspec": {
   "display_name": "Python 3",
   "language": "python",
   "name": "python3"
  },
  "language_info": {
   "codemirror_mode": {
    "name": "ipython",
    "version": 3
   },
   "file_extension": ".py",
   "mimetype": "text/x-python",
   "name": "python",
   "nbconvert_exporter": "python",
   "pygments_lexer": "ipython3",
   "version": "3.7.9"
  }
 },
 "nbformat": 4,
 "nbformat_minor": 4
}
