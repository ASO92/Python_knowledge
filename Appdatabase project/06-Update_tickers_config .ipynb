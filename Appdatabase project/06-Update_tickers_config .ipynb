{
 "cells": [
  {
   "cell_type": "code",
   "execution_count": null,
   "metadata": {},
   "outputs": [],
   "source": []
  },
  {
   "cell_type": "code",
   "execution_count": null,
   "metadata": {},
   "outputs": [],
   "source": []
  },
  {
   "cell_type": "code",
   "execution_count": 11,
   "metadata": {},
   "outputs": [],
   "source": [
    "import get_tickers_from_url as url\n",
    "import parsers\n",
    "import os\n",
    "from os import path\n",
    "#from housekeeper import data_housekeeper\n",
    "import housekeeper\n",
    "\n",
    "#instance object\n",
    "myHousekeeper = housekeeper.instance_class() "
   ]
  },
  {
   "cell_type": "code",
   "execution_count": 12,
   "metadata": {},
   "outputs": [],
   "source": [
    "def compare_tickers_config(tickers_new, tickers_config):\n",
    "    tickerKey_list_config = [d['tickerKey'] for d in tickers_config]\n",
    "    tickerKey_list_new = [d['tickerKey'] for d in tickers_new]\n",
    "    timestamp_new_values =  tickers_new[0]['timestamp']\n",
    "\n",
    "    # Loop in tickers_config. Update coincident tickers\n",
    "    for ticker_config in tickers_config:\n",
    "        ticker_config['active_flag'] = False # By default false \n",
    "        if ticker_config.get('active_type') == 'stock': # Tickers of stock type. \n",
    "            if ticker_config['tickerKey'] in tickerKey_list_new: #In case appear in new vales. Update Timestamp and active flag\n",
    "                ticker_config['timestamp'] = timestamp_new_values # deepcopy\n",
    "                ticker_config['active_flag'] = True # deepcopy\n",
    "        if ticker_config.get('active_type') == 'ETF':\n",
    "            ticker_config['active_flag'] = True # Siempre true, no pueden desaparecer. deepcopy\n",
    "            \n",
    "            \n",
    "    # Loop in new_tickers. Update new tickers tickers of stock type. Add full ticker.\n",
    "    for ticker in tickers_new:\n",
    "        if ticker['tickerKey'] not in tickerKey_list_config:\n",
    "            tickers_config.append(ticker)\n",
    "    return tickers_config\n"
   ]
  },
  {
   "cell_type": "code",
   "execution_count": 13,
   "metadata": {},
   "outputs": [],
   "source": [
    "def update_tickers_config():\n",
    "    #Initialize names of variables\n",
    "    dir_list_tickers_config = ['Data']\n",
    "    upper_stages_tickers_config = 0\n",
    "    #file_name_tickers_config = 'tickers_config_dummy.json'\n",
    "    file_name_tickers_config = 'tickers_config.json'\n",
    "    file_path_tickers_config =  '.' + myHousekeeper.create_file_path_in_nested_dir(dir_list_tickers_config, file_name_tickers_config)\n",
    "    #file_name_tickers_config_updated = 'tickers_config_updated.json'\n",
    "    \n",
    "    \n",
    "    # Download new set of tickers\n",
    "    raw_ticker_list = url.get_raw_ticker_list()\n",
    "    new_tickers = parsers.get_parsed_tickers(raw_ticker_list)\n",
    "    #data = tickers_list\n",
    "    \n",
    "    # Load previous tickers_config. If not present, then create from scratch\n",
    "    if not path.isfile(file_path_tickers_config):\n",
    "        print('No file tickers_config detected, creating..')\n",
    "        #FIX: aquí va la función self.save_tickers_config(), NO VA myHousekeeper.list_dict_to_json\n",
    "        myHousekeeper.list_dict_to_json(dir_list_tickers_config,upper_stages_tickers_config,file_name_tickers_config,new_tickers)\n",
    "        print('Created tickers_config')\n",
    "        return\n",
    "    tickers_config = myHousekeeper.load_json_to_list(dir_list_tickers_config, file_name_tickers_config)\n",
    "    tickers_config = tickers_config['data']\n",
    "    \n",
    "    # Compare new tickers with tickers_config\n",
    "    tickers_config = compare_tickers_config(new_tickers, tickers_config)\n",
    "    # Save updated tickers config\n",
    "    \n",
    "    #myHousekeeper.list_dict_to_json(dir_list_tickers_config,upper_stages_tickers_config,file_name_tickers_config_updated,tickers_config)\n",
    "    myHousekeeper.list_dict_to_json(dir_list_tickers_config,upper_stages_tickers_config,file_name_tickers_config,tickers_config)\n"
   ]
  },
  {
   "cell_type": "code",
   "execution_count": 14,
   "metadata": {},
   "outputs": [
    {
     "name": "stdout",
     "output_type": "stream",
     "text": [
      "nested_dir_path:  /Data\n",
      "Start raw ticker data extraction from Wikipedia \n",
      "Getting data from market:IBEX35, site:https://es.wikipedia.org/wiki/IBEX_35\n",
      "Getting data from market:DAX30, site:https://de.wikipedia.org/wiki/DAX\n",
      "Getting data from market:CAC40, site:https://es.wikipedia.org/wiki/CAC_40\n",
      "Getting data from market:SP500, site:http://en.wikipedia.org/wiki/List_of_S%26P_500_companies\n",
      "Extraction completed\n",
      "Activation: get_parsed_tickers\n",
      "All tickers fed\n",
      "No file tickers_config detected, creating..\n",
      "Root dir:  C:\\Users\\alvaro\\Repos\\Python_knowledge\\Appdatabase project\n",
      "parent_dir_path:  C:\\Users\\alvaro\\Repos\\Python_knowledge\\Appdatabase project\n",
      "dir_list:  ['Data']\n",
      "nested_dir_path:  /Data\n",
      "file path:  C:\\Users\\alvaro\\Repos\\Python_knowledge\\Appdatabase project/Data/tickers_config.json\n",
      "Created tickers_config\n"
     ]
    }
   ],
   "source": [
    "update_tickers_config()"
   ]
  },
  {
   "cell_type": "markdown",
   "metadata": {},
   "source": [
    "### Update_tickers_config\n",
    "- Generate new set of tickers\n",
    "- Load previous tickers_config\n",
    "        - In case not exist --> directly to save tickers_config\n",
    "- Compare new/old tickers config\n",
    "- Save tickers_config"
   ]
  },
  {
   "cell_type": "code",
   "execution_count": 5,
   "metadata": {},
   "outputs": [
    {
     "name": "stdout",
     "output_type": "stream",
     "text": [
      "Start raw ticker data extraction from Wikipedia \n",
      "Getting data from market:IBEX35, site:https://es.wikipedia.org/wiki/IBEX_35\n",
      "Getting data from market:DAX30, site:https://de.wikipedia.org/wiki/DAX\n",
      "Getting data from market:CAC40, site:https://es.wikipedia.org/wiki/CAC_40\n",
      "Getting data from market:SP500, site:http://en.wikipedia.org/wiki/List_of_S%26P_500_companies\n",
      "Extraction completed\n",
      "Activation: get_parsed_tickers\n",
      "All tickers fed\n",
      "Root dir:  C:\\Users\\alvaro\\Repos\\Python_knowledge\\Appdatabase project\n",
      "parent_dir_path:  C:\\Users\\alvaro\\Repos\\Python_knowledge\\Appdatabase project\n",
      "dir_list:  ['Data']\n",
      "nested_dir_path:  /Data\n",
      "file path:  C:\\Users\\alvaro\\Repos\\Python_knowledge\\Appdatabase project/Data/tickers_test.json\n"
     ]
    }
   ],
   "source": [
    "raw_ticker_list = url.get_raw_ticker_list()\n",
    "tickers_list = parsers.get_parsed_tickers(raw_ticker_list)\n",
    "data = tickers_list\n",
    "\n",
    "#Save new tickers in tickers_test\n",
    "myHousekeeper = housekeeper.instance_class() \n",
    "dir_list = ['Data']\n",
    "file_name = 'tickers_test.json'\n",
    "upper_stages = 0\n",
    "myHousekeeper.list_dict_to_json(dir_list,upper_stages,file_name,tickers_list)\n"
   ]
  },
  {
   "cell_type": "code",
   "execution_count": 6,
   "metadata": {},
   "outputs": [
    {
     "name": "stdout",
     "output_type": "stream",
     "text": [
      "nested_dir_path:  /Data\n",
      "nested_dir_path:  /Data\n",
      "./Data/tickers_config_dummy.json\n"
     ]
    },
    {
     "ename": "TypeError",
     "evalue": "list indices must be integers or slices, not str",
     "output_type": "error",
     "traceback": [
      "\u001b[1;31m---------------------------------------------------------------------------\u001b[0m",
      "\u001b[1;31mTypeError\u001b[0m                                 Traceback (most recent call last)",
      "\u001b[1;32m<ipython-input-6-6c5683434105>\u001b[0m in \u001b[0;36m<module>\u001b[1;34m\u001b[0m\n\u001b[0;32m      6\u001b[0m     \u001b[1;31m#return\u001b[0m\u001b[1;33m\u001b[0m\u001b[1;33m\u001b[0m\u001b[1;33m\u001b[0m\u001b[0m\n\u001b[0;32m      7\u001b[0m \u001b[0mdata_dummy\u001b[0m \u001b[1;33m=\u001b[0m \u001b[0mmyHousekeeper\u001b[0m\u001b[1;33m.\u001b[0m\u001b[0mload_json_to_list\u001b[0m\u001b[1;33m(\u001b[0m\u001b[0mdir_list\u001b[0m\u001b[1;33m,\u001b[0m \u001b[0mfile_name_tickers_config\u001b[0m\u001b[1;33m)\u001b[0m\u001b[1;33m\u001b[0m\u001b[1;33m\u001b[0m\u001b[0m\n\u001b[1;32m----> 8\u001b[1;33m \u001b[0mdata_dummy\u001b[0m \u001b[1;33m=\u001b[0m \u001b[0mdata_dummy\u001b[0m\u001b[1;33m[\u001b[0m\u001b[1;34m'data'\u001b[0m\u001b[1;33m]\u001b[0m\u001b[1;33m\u001b[0m\u001b[1;33m\u001b[0m\u001b[0m\n\u001b[0m",
      "\u001b[1;31mTypeError\u001b[0m: list indices must be integers or slices, not str"
     ]
    }
   ],
   "source": [
    "path_ =  '.' + myHousekeeper.create_file_path_in_nested_dir(dir_list, file_name)\n",
    "file_name_tickers_config = 'tickers_config_dummy.json'\n",
    "if not path.isfile(path_):\n",
    "    print('no file, creting')\n",
    "    myHousekeeper.list_dict_to_json(dir_list,upper_stages,file_name,tickers_list)\n",
    "    #return\n",
    "data_dummy = myHousekeeper.load_json_to_list(dir_list, file_name_tickers_config)\n",
    "data_dummy = data_dummy['data']"
   ]
  },
  {
   "cell_type": "markdown",
   "metadata": {},
   "source": [
    "- Quitar cabeceras de metadata tickers_config. OK\n",
    "- Coger set de markets.\n",
    "- filtrar por market(de momento, porque luego puede haber más), tanto data como en dummy\n",
    "- Funcion loop para comparar markets. (Reutilizable por markets)\n",
    "-\n",
    "-\n"
   ]
  },
  {
   "cell_type": "code",
   "execution_count": null,
   "metadata": {},
   "outputs": [],
   "source": [
    "#data_dummy\n",
    "#data"
   ]
  },
  {
   "cell_type": "code",
   "execution_count": null,
   "metadata": {},
   "outputs": [],
   "source": [
    "def compare_tickers_config(tickers_new, tickers_config):\n",
    "    tickerKey_list_config = [d['tickerKey'] for d in tickers_config]\n",
    "    tickerKey_list_new = [d['tickerKey'] for d in tickers_new]\n",
    "    timestamp_new_values =  tickers_new[0]['timestamp']\n",
    "\n",
    "    # Loop in tickers_config. Update coincident tickers\n",
    "    for ticker_config in tickers_config:\n",
    "        ticker_config['active_flag'] = False # By default false \n",
    "        if ticker_config.get('active_type') == 'stock': # Tickers of stock type. \n",
    "            if ticker_config['tickerKey'] in tickerKey_list_new: #In case appear in new vales. Update Timestamp and active flag\n",
    "                ticker_config['timestamp'] = timestamp_new_values # deepcopy\n",
    "                ticker_config['active_flag'] = True # deepcopy\n",
    "        if ticker_config.get('active_type') == 'ETF':\n",
    "            ticker_config['active_flag'] = True # Siempre true, no pueden desaparecer. deepcopy\n",
    "            \n",
    "            \n",
    "    # Loop in new_tickers. Update new tickers tickers of stock type. Add full ticker.\n",
    "    for ticker in tickers_new:\n",
    "        if ticker['tickerKey'] not in tickerKey_list_config:\n",
    "            tickers_config.append(ticker)\n",
    "    return tickers_config\n",
    "\n"
   ]
  },
  {
   "cell_type": "code",
   "execution_count": null,
   "metadata": {},
   "outputs": [],
   "source": [
    "data_dummy = compare_tickers_config(data, data_dummy)"
   ]
  },
  {
   "cell_type": "code",
   "execution_count": null,
   "metadata": {},
   "outputs": [],
   "source": [
    "dir_list = ['Data']\n",
    "file_name_updated = 'tickers_config_updated.json'\n",
    "upper_stages = 0\n",
    "myHousekeeper.list_dict_to_json(dir_list,upper_stages,file_name_updated,data_dummy)"
   ]
  },
  {
   "cell_type": "code",
   "execution_count": null,
   "metadata": {},
   "outputs": [],
   "source": [
    "data_dummy"
   ]
  },
  {
   "cell_type": "code",
   "execution_count": null,
   "metadata": {},
   "outputs": [],
   "source": [
    "data"
   ]
  },
  {
   "cell_type": "code",
   "execution_count": null,
   "metadata": {},
   "outputs": [],
   "source": []
  },
  {
   "cell_type": "code",
   "execution_count": null,
   "metadata": {},
   "outputs": [],
   "source": [
    "'''\n",
    ">>> exampleSet = [{'type':'type1'},{'type':'type2'},{'type':'type2'}, {'type':'type3'}]\n",
    ">>> keyValList = ['type2','type3']\n",
    ">>> expectedResult = [d for d in exampleSet if d['type'] in keyValList]\n",
    ">>> expectedResult\n",
    "[{'type': 'type2'}, {'type': 'type2'}, {'type': 'type3'}]\n",
    "'''"
   ]
  },
  {
   "cell_type": "code",
   "execution_count": null,
   "metadata": {},
   "outputs": [],
   "source": []
  },
  {
   "cell_type": "code",
   "execution_count": null,
   "metadata": {},
   "outputs": [],
   "source": []
  },
  {
   "cell_type": "markdown",
   "metadata": {},
   "source": [
    "### Generate new set of tickers and save it"
   ]
  },
  {
   "cell_type": "code",
   "execution_count": null,
   "metadata": {},
   "outputs": [],
   "source": [
    "raw_ticker_list = url.get_raw_ticker_list()"
   ]
  },
  {
   "cell_type": "code",
   "execution_count": null,
   "metadata": {},
   "outputs": [],
   "source": [
    "tickers_list = parsers.get_parsed_tickers(raw_ticker_list)"
   ]
  },
  {
   "cell_type": "code",
   "execution_count": null,
   "metadata": {},
   "outputs": [],
   "source": [
    "#tickers_list"
   ]
  },
  {
   "cell_type": "markdown",
   "metadata": {},
   "source": [
    "### Load previous tickers_config"
   ]
  },
  {
   "cell_type": "code",
   "execution_count": null,
   "metadata": {},
   "outputs": [],
   "source": [
    "dir_list = ['Data']\n",
    "file_name = 'tickers_config_dummy.json'"
   ]
  },
  {
   "cell_type": "code",
   "execution_count": null,
   "metadata": {},
   "outputs": [],
   "source": [
    "myHousekeeper = housekeeper.instance_class() \n",
    "data_load = myHousekeeper.load_json_to_list(dir_list, file_name)\n",
    "#data"
   ]
  },
  {
   "cell_type": "code",
   "execution_count": null,
   "metadata": {},
   "outputs": [],
   "source": [
    "data_load"
   ]
  },
  {
   "cell_type": "markdown",
   "metadata": {},
   "source": [
    "## Development layer"
   ]
  },
  {
   "cell_type": "code",
   "execution_count": null,
   "metadata": {},
   "outputs": [],
   "source": [
    "def check_differences_between_list_dictionaries(dict_1, dict_2):\n",
    "    for i in dict_1:\n",
    "        if i not in dict_2:\n",
    "            print(i)"
   ]
  },
  {
   "cell_type": "code",
   "execution_count": null,
   "metadata": {},
   "outputs": [],
   "source": [
    "check_differences_between_list_dictionaries(ticker_config_updated, data_dummy)"
   ]
  },
  {
   "cell_type": "code",
   "execution_count": null,
   "metadata": {},
   "outputs": [],
   "source": [
    "#[d['value'] for d in l]\n",
    "\n",
    "# Update coincident tickers\n",
    "for ticker_config in data_dummy:\n",
    "    #print(ticker_config['timestamp'])\n",
    "    ticker_config['active_flag'] = False\n",
    "    for ticker in data:\n",
    "        # Tickers of stock type. Timestamp and active flag. \n",
    "        if ticker_config.get('active_type') == ticker.get('active_type') == 'stock' and ticker_config.get('tickerKey') == ticker.get('tickerKey') :\n",
    "            #Update ticker in ticker config\n",
    "            ticker_config['timestamp'] = ticker['timestamp'] #deep copy\n",
    "            ticker_config['active_flag'] = ticker['active_flag'] #deepcopy\n",
    "        # Tickers of ETF type. Timestamp.     \n",
    "        if ticker_config.get('active_type') == ticker.get('active_type') == 'ETF' and ticker_config.get('tickerKey') == ticker.get('tickerKey'):\n",
    "            ticker_config['timestamp'] = ticker['timestamp'] #deep copy\n",
    "            \n",
    "                    \n",
    "# Update new tickers tickers of stock type. Add full ticker.\n",
    "tickerKey_list = [d['tickerKey'] for d in data_dummy]\n",
    "for ticker in data:\n",
    "    if ticker['tickerKey'] not in tickerKey_list:\n",
    "        data_dummy.append(ticker)\n",
    "\n",
    "#[d['value'] for d in l]\n"
   ]
  },
  {
   "cell_type": "code",
   "execution_count": null,
   "metadata": {},
   "outputs": [],
   "source": [
    "tickerKey_list_config = [d['tickerKey'] for d in data_dummy]\n",
    "tickerKey_list_new = [d['tickerKey'] for d in data]\n",
    "\n",
    "\n",
    "# Update coincident tickers\n",
    "for ticker_config in data_dummy:\n",
    "    #print(ticker_config['timestamp'])\n",
    "    ticker_config['active_flag'] = False\n",
    "    for ticker in data:\n",
    "        # Tickers of stock type. Timestamp and active flag. \n",
    "        if ticker_config.get('active_type') == ticker.get('active_type') == 'stock' and ticker_config.get('tickerKey') == ticker.get('tickerKey') :\n",
    "            #Update ticker in ticker config\n",
    "            ticker_config['timestamp'] = ticker['timestamp'] #deep copy\n",
    "            ticker_config['active_flag'] = ticker['active_flag'] #deepcopy\n",
    "        # Tickers of ETF type. Timestamp.     \n",
    "        if ticker_config.get('active_type') == ticker.get('active_type') == 'ETF' and ticker_config.get('tickerKey') == ticker.get('tickerKey'):\n",
    "            ticker_config['timestamp'] = ticker['timestamp'] #deep copy\n",
    "            \n",
    "                    \n",
    "# Update new tickers tickers of stock type. Add full ticker.\n",
    "\n",
    "for ticker in data:\n",
    "    if ticker['tickerKey'] not in tickerKey_list_config:\n",
    "        data_dummy.append(ticker)\n",
    "\n",
    "#[d['value'] for d in l]\n"
   ]
  },
  {
   "cell_type": "code",
   "execution_count": null,
   "metadata": {},
   "outputs": [],
   "source": [
    "ticker_config_updated = []\n",
    "for ticker_config in data_dummy:\n",
    "    #print(ticker_config['timestamp'])\n",
    "    ticker_config['active_flag'] = False\n",
    "    for ticker in data:\n",
    "        if ticker_config.get('active_type') == ticker.get('active_type') == 'stock' and ticker_config.get('tickerKey') == ticker.get('tickerKey') :\n",
    "            #Update ticker in ticker config\n",
    "            ticker_config['timestamp'] = ticker['timestamp'] #deep copy\n",
    "            ticker_config['active_flag'] = ticker['active_flag'] #deepcopy\n",
    "        if ticker_config.get('active_type') == ticker.get('active_type') == 'ETF' and ticker_config.get('tickerKey') == ticker.get('tickerKey'):\n",
    "            ticker_config['timestamp'] = ticker['timestamp'] #deep copy\n",
    "            \n",
    "    ticker_config_updated.append(ticker_config)\n",
    "        \n",
    "    #print(ticker.get('tickerKey'))\n",
    "\n",
    "    \n",
    "    \n",
    "    "
   ]
  },
  {
   "cell_type": "code",
   "execution_count": null,
   "metadata": {},
   "outputs": [],
   "source": [
    "ticker_new = {\n",
    "            \"ticker\": \"Dummy1\",\n",
    "            \"company\": \"Dummy1\",\n",
    "            \"sector\": \"Piruletas\",\n",
    "            \"entry_date\": \"2015\",\n",
    "            \"ISIN\": \"ISINDummy\",\n",
    "            \"market\": \"IBEX35\",\n",
    "            \"active_type\": \"stock\",\n",
    "            \"active_flag\": True,\n",
    "            \"timestamp\": \"11-02-2021\",\n",
    "            \"tickerKey\": \"Dummy1.MC.TT\",\n",
    "            \"feeds\": {\n",
    "                \"name\": \"YahooFinance\",\n",
    "                \"ticker\": \"Dummy1.MC\"\n",
    "            }\n",
    "        }\n",
    "ticker_old = {\n",
    "            \"ticker\": \"Dummy1\",\n",
    "            \"company\": \"Dummy1\",\n",
    "            \"sector\": \"Piruletas\",\n",
    "            \"entry_date\": \"2015\",\n",
    "            \"ISIN\": \"ISINDummy\",\n",
    "            \"market\": \"IBEX35\",\n",
    "            \"active_type\": \"stock\",\n",
    "            \"active_flag\": True,\n",
    "            \"timestamp\": \"11-02-2021\",\n",
    "            \"tickerKey\": \"Dummy1.MC.TT\",\n",
    "            \"feeds\": {\n",
    "                \"name\": \"YahooFinance\",\n",
    "                \"ticker\": \"Dummy1.MC\"\n",
    "            }\n",
    "        }"
   ]
  },
  {
   "cell_type": "code",
   "execution_count": null,
   "metadata": {},
   "outputs": [],
   "source": [
    "markets = ['IBEX35']\n",
    "data[0]['timestamp'] > '11-03-2021', data_dummy[0]\n"
   ]
  },
  {
   "cell_type": "code",
   "execution_count": null,
   "metadata": {},
   "outputs": [],
   "source": [
    "data_dummy[0].get('market')"
   ]
  },
  {
   "cell_type": "code",
   "execution_count": null,
   "metadata": {},
   "outputs": [],
   "source": [
    "markets = set"
   ]
  },
  {
   "cell_type": "code",
   "execution_count": null,
   "metadata": {},
   "outputs": [],
   "source": [
    "from datetime import date\n",
    "\n",
    "today = date.today()\n",
    "print(\"Today's date:\", today, type(today))\n",
    "today > \n",
    "d1 = today.strftime(\"%d-%m-%Y\")\n",
    "print(\"d1 =\", d1)"
   ]
  },
  {
   "cell_type": "code",
   "execution_count": null,
   "metadata": {},
   "outputs": [],
   "source": [
    "data_dummy_set = set(data_dummy)\n",
    "data_set = set(data)\n",
    "data_dummy_set.intersection(data_set)"
   ]
  },
  {
   "cell_type": "code",
   "execution_count": null,
   "metadata": {},
   "outputs": [],
   "source": [
    "cwd = os.getcwd()"
   ]
  },
  {
   "cell_type": "code",
   "execution_count": null,
   "metadata": {},
   "outputs": [],
   "source": [
    "path_ =  '.' + myHousekeeper.create_file_path_in_nested_dir(dir_list, file_name)\n",
    "path_2 = myHousekeeper.create_file_path_in_nested_dir(dir_list, file_name)"
   ]
  },
  {
   "cell_type": "code",
   "execution_count": null,
   "metadata": {},
   "outputs": [],
   "source": [
    "path_"
   ]
  },
  {
   "cell_type": "code",
   "execution_count": null,
   "metadata": {},
   "outputs": [],
   "source": [
    "if path.isfile(path_):\n",
    "    print('ola')\n",
    "\n",
    "#data_load = myHousekeeper.load_json_to_list(dir_list, file_name)"
   ]
  },
  {
   "cell_type": "code",
   "execution_count": null,
   "metadata": {},
   "outputs": [],
   "source": [
    "path_2 = cwd + myHousekeeper.create_file_path_in_nested_dir(dir_list, file_name)"
   ]
  },
  {
   "cell_type": "code",
   "execution_count": null,
   "metadata": {},
   "outputs": [],
   "source": [
    "path_2"
   ]
  },
  {
   "cell_type": "code",
   "execution_count": null,
   "metadata": {},
   "outputs": [],
   "source": [
    "path.exists(path_2)"
   ]
  },
  {
   "cell_type": "code",
   "execution_count": null,
   "metadata": {},
   "outputs": [],
   "source": []
  },
  {
   "cell_type": "code",
   "execution_count": null,
   "metadata": {},
   "outputs": [],
   "source": []
  },
  {
   "cell_type": "code",
   "execution_count": null,
   "metadata": {},
   "outputs": [],
   "source": []
  },
  {
   "cell_type": "code",
   "execution_count": null,
   "metadata": {},
   "outputs": [],
   "source": []
  },
  {
   "cell_type": "code",
   "execution_count": null,
   "metadata": {},
   "outputs": [],
   "source": []
  },
  {
   "cell_type": "code",
   "execution_count": null,
   "metadata": {},
   "outputs": [],
   "source": []
  },
  {
   "cell_type": "code",
   "execution_count": null,
   "metadata": {},
   "outputs": [],
   "source": []
  },
  {
   "cell_type": "code",
   "execution_count": null,
   "metadata": {},
   "outputs": [],
   "source": []
  },
  {
   "cell_type": "code",
   "execution_count": null,
   "metadata": {},
   "outputs": [],
   "source": []
  },
  {
   "cell_type": "code",
   "execution_count": null,
   "metadata": {},
   "outputs": [],
   "source": []
  },
  {
   "cell_type": "code",
   "execution_count": null,
   "metadata": {},
   "outputs": [],
   "source": []
  },
  {
   "cell_type": "code",
   "execution_count": null,
   "metadata": {},
   "outputs": [],
   "source": []
  },
  {
   "cell_type": "code",
   "execution_count": null,
   "metadata": {},
   "outputs": [],
   "source": []
  },
  {
   "cell_type": "code",
   "execution_count": null,
   "metadata": {},
   "outputs": [],
   "source": []
  },
  {
   "cell_type": "code",
   "execution_count": null,
   "metadata": {},
   "outputs": [],
   "source": []
  },
  {
   "cell_type": "code",
   "execution_count": null,
   "metadata": {},
   "outputs": [],
   "source": []
  },
  {
   "cell_type": "code",
   "execution_count": null,
   "metadata": {},
   "outputs": [],
   "source": []
  },
  {
   "cell_type": "code",
   "execution_count": null,
   "metadata": {},
   "outputs": [],
   "source": []
  },
  {
   "cell_type": "code",
   "execution_count": null,
   "metadata": {},
   "outputs": [],
   "source": []
  },
  {
   "cell_type": "code",
   "execution_count": null,
   "metadata": {},
   "outputs": [],
   "source": []
  },
  {
   "cell_type": "code",
   "execution_count": null,
   "metadata": {},
   "outputs": [],
   "source": []
  },
  {
   "cell_type": "code",
   "execution_count": null,
   "metadata": {},
   "outputs": [],
   "source": []
  },
  {
   "cell_type": "code",
   "execution_count": null,
   "metadata": {},
   "outputs": [],
   "source": []
  },
  {
   "cell_type": "code",
   "execution_count": null,
   "metadata": {},
   "outputs": [],
   "source": []
  },
  {
   "cell_type": "code",
   "execution_count": null,
   "metadata": {},
   "outputs": [],
   "source": []
  },
  {
   "cell_type": "code",
   "execution_count": null,
   "metadata": {},
   "outputs": [],
   "source": []
  }
 ],
 "metadata": {
  "kernelspec": {
   "display_name": "Python 3",
   "language": "python",
   "name": "python3"
  },
  "language_info": {
   "codemirror_mode": {
    "name": "ipython",
    "version": 3
   },
   "file_extension": ".py",
   "mimetype": "text/x-python",
   "name": "python",
   "nbconvert_exporter": "python",
   "pygments_lexer": "ipython3",
   "version": "3.7.9"
  }
 },
 "nbformat": 4,
 "nbformat_minor": 4
}
