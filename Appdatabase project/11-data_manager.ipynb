{
 "cells": [
  {
   "cell_type": "code",
   "execution_count": null,
   "metadata": {},
   "outputs": [],
   "source": []
  },
  {
   "cell_type": "code",
   "execution_count": 3,
   "metadata": {},
   "outputs": [],
   "source": [
    "import housekeeper"
   ]
  },
  {
   "cell_type": "code",
   "execution_count": 4,
   "metadata": {},
   "outputs": [],
   "source": [
    "dir_list = ['Data']\n",
    "file_name = 'tickers_config.json'"
   ]
  },
  {
   "cell_type": "code",
   "execution_count": 7,
   "metadata": {},
   "outputs": [
    {
     "name": "stdout",
     "output_type": "stream",
     "text": [
      "./Data\n",
      "./Data/tickers_config.json\n"
     ]
    }
   ],
   "source": [
    "myHousekeeper = housekeeper.instance_class() \n",
    "data = myHousekeeper.load_json_to_list(dir_list, file_name)\n",
    "#data"
   ]
  },
  {
   "cell_type": "code",
   "execution_count": 76,
   "metadata": {},
   "outputs": [],
   "source": [
    "from abc import ABC, abstractmethod\n",
    "import yfinance as yf\n",
    "import pandas as pd\n",
    "from datetime import datetime, timedelta, date\n",
    "import os\n",
    "\n",
    "import housekeeper\n",
    "\n",
    "class DataManager(ABC):\n",
    "    \n",
    "    def __init__(self):\n",
    "        \n",
    "        self.__myHousekeeper = housekeeper.instance_class()\n",
    "        self.__config_filename = \"tickers_config.json\"\n",
    "        self.__dir_list = ['Data']\n",
    "        self.__tickers_config_list = []\n",
    "        self.__tickers_list = []\n",
    "        self.__timestamp = ''\n",
    "    \n",
    "        \n",
    "    def get_tickers_config(self):\n",
    "        return self.__tickers_config_list\n",
    "    \n",
    "    def set_tickers_config(self, tickers_config_list):\n",
    "        self.__tickers_config_list = tickers_config_list\n",
    "    \n",
    "    def get_tickers(self):\n",
    "        return self.__tickers_list\n",
    "    \n",
    "    def set_tickers(self, tickers_list):\n",
    "        self.__tickers_list = tickers_list\n",
    "    \n",
    "    def get_timestamp(self):\n",
    "        return self.__timestamp\n",
    "    \n",
    "    def set_timestamp(self, timestamp):\n",
    "        self.__timestamp = timestamp\n",
    "    \n",
    "    def get_markets(self):\n",
    "        pass\n",
    "    \n",
    "    def load_tickers_config(self):\n",
    "        data = self.__myHousekeeper.load_json_to_list(self.__dir_list, self.__config_filename)\n",
    "        self.set_tickers_config(data)\n",
    "    \n",
    "    def set_operation_metadata(self):\n",
    "        self.load_tickers_config()\n",
    "        data = self.get_tickers_config()\n",
    "        self.set_timestamp(data.pop(0))\n",
    "        self.set_tickers(data)\n",
    "        \n",
    "    def initialize_config_tickers(self):\n",
    "        # Get markets, get active\n",
    "        \n",
    "    "
   ]
  },
  {
   "cell_type": "code",
   "execution_count": 77,
   "metadata": {},
   "outputs": [],
   "source": [
    "class DataManager_YahooFinance(DataManager):\n",
    "    \n",
    "    def __init__(self):\n",
    "        super().__init__()\n",
    "    \n",
    "\n",
    "        "
   ]
  },
  {
   "cell_type": "code",
   "execution_count": 78,
   "metadata": {},
   "outputs": [],
   "source": [
    "DM_YF = DataManager_YahooFinance()"
   ]
  },
  {
   "cell_type": "code",
   "execution_count": 79,
   "metadata": {},
   "outputs": [
    {
     "name": "stdout",
     "output_type": "stream",
     "text": [
      "./Data\n",
      "./Data/tickers_config.json\n"
     ]
    }
   ],
   "source": [
    "DM_YF.set_operation_metadata() "
   ]
  },
  {
   "cell_type": "code",
   "execution_count": 80,
   "metadata": {},
   "outputs": [
    {
     "data": {
      "text/plain": [
       "{'timestamp': '06/02/2021 09:49:22'}"
      ]
     },
     "execution_count": 80,
     "metadata": {},
     "output_type": "execute_result"
    }
   ],
   "source": [
    "DM_YF.get_timestamp()"
   ]
  },
  {
   "cell_type": "code",
   "execution_count": 83,
   "metadata": {},
   "outputs": [],
   "source": [
    "data = DM_YF.get_tickers()"
   ]
  },
  {
   "cell_type": "code",
   "execution_count": 95,
   "metadata": {},
   "outputs": [
    {
     "ename": "TypeError",
     "evalue": "list indices must be integers or slices, not str",
     "output_type": "error",
     "traceback": [
      "\u001b[1;31m---------------------------------------------------------------------------\u001b[0m",
      "\u001b[1;31mTypeError\u001b[0m                                 Traceback (most recent call last)",
      "\u001b[1;32m<ipython-input-95-481bd1bc9863>\u001b[0m in \u001b[0;36m<module>\u001b[1;34m\u001b[0m\n\u001b[1;32m----> 1\u001b[1;33m \u001b[0mdata\u001b[0m\u001b[1;33m[\u001b[0m\u001b[1;36m0\u001b[0m\u001b[1;33m:\u001b[0m\u001b[1;36m2\u001b[0m\u001b[1;33m]\u001b[0m\u001b[1;33m[\u001b[0m\u001b[1;34m'market'\u001b[0m\u001b[1;33m]\u001b[0m\u001b[1;33m\u001b[0m\u001b[1;33m\u001b[0m\u001b[0m\n\u001b[0m",
      "\u001b[1;31mTypeError\u001b[0m: list indices must be integers or slices, not str"
     ]
    }
   ],
   "source": [
    "data[0:2]['market']"
   ]
  },
  {
   "cell_type": "code",
   "execution_count": 99,
   "metadata": {},
   "outputs": [
    {
     "data": {
      "text/plain": [
       "[{'ticker': 'ANA',\n",
       "  'company': 'Acciona',\n",
       "  'sector': 'Construcción',\n",
       "  'entry_date': '2015',\n",
       "  'ISIN': 'ES0125220311',\n",
       "  'market': 'IBEX35',\n",
       "  'active_type': 'stock',\n",
       "  'tickerKey': 'ANA.MC.TT',\n",
       "  'feeds': {'name': 'YahooFinance', 'ticker': 'ANA.MC'}},\n",
       " {'ticker': 'ACX',\n",
       "  'company': 'Acerinox',\n",
       "  'sector': 'Mineral, metales y transformación',\n",
       "  'entry_date': '2015',\n",
       "  'ISIN': 'ES0132105018',\n",
       "  'market': 'IBEX35',\n",
       "  'active_type': 'stock',\n",
       "  'tickerKey': 'ACX.MC.TT',\n",
       "  'feeds': {'name': 'YahooFinance', 'ticker': 'ACX.MC'}}]"
      ]
     },
     "execution_count": 99,
     "metadata": {},
     "output_type": "execute_result"
    }
   ],
   "source": [
    "data[0:2]"
   ]
  },
  {
   "cell_type": "code",
   "execution_count": null,
   "metadata": {},
   "outputs": [],
   "source": []
  },
  {
   "cell_type": "code",
   "execution_count": null,
   "metadata": {},
   "outputs": [],
   "source": [
    "'''\n",
    ">>> exampleSet = [{'type':'type1'},{'type':'type2'},{'type':'type2'}, {'type':'type3'}]\n",
    ">>> keyValList = ['type2','type3']\n",
    ">>> expectedResult = [d for d in exampleSet if d['type'] in keyValList]\n",
    ">>> expectedResult\n",
    "[{'type': 'type2'}, {'type': 'type2'}, {'type': 'type3'}]\n",
    "'''"
   ]
  },
  {
   "cell_type": "code",
   "execution_count": null,
   "metadata": {},
   "outputs": [],
   "source": [
    "'''\n",
    ">>> list(filter(lambda d: d['type'] in keyValList, exampleSet))\n",
    "[{'type': 'type2'}, {'type': 'type2'}, {'type': 'type3'}]\n",
    "'''"
   ]
  },
  {
   "cell_type": "markdown",
   "metadata": {},
   "source": [
    "https://blog.finxter.com/how-to-filter-a-list-of-dictionaries-in-python/#Where_to_Go_From_Here"
   ]
  },
  {
   "cell_type": "markdown",
   "metadata": {},
   "source": [
    "### Development layer "
   ]
  },
  {
   "cell_type": "code",
   "execution_count": 62,
   "metadata": {},
   "outputs": [],
   "source": [
    "data = DM_YF.get_tickers_config()"
   ]
  },
  {
   "cell_type": "code",
   "execution_count": 61,
   "metadata": {},
   "outputs": [
    {
     "name": "stdout",
     "output_type": "stream",
     "text": [
      "./Data\n",
      "./Data/tickers_config.json\n"
     ]
    }
   ],
   "source": [
    "DM_YF.load_tickers_config()"
   ]
  },
  {
   "cell_type": "code",
   "execution_count": 49,
   "metadata": {},
   "outputs": [
    {
     "data": {
      "text/plain": [
       "{'ticker': 'ANA',\n",
       " 'company': 'Acciona',\n",
       " 'sector': 'Construcción',\n",
       " 'entry_date': '2015',\n",
       " 'ISIN': 'ES0125220311',\n",
       " 'market': 'IBEX35',\n",
       " 'active_type': 'stock',\n",
       " 'tickerKey': 'ANA.MC.TT',\n",
       " 'feeds': {'name': 'YahooFinance', 'ticker': 'ANA.MC'}}"
      ]
     },
     "execution_count": 49,
     "metadata": {},
     "output_type": "execute_result"
    }
   ],
   "source": [
    "data[1]"
   ]
  },
  {
   "cell_type": "code",
   "execution_count": 56,
   "metadata": {},
   "outputs": [],
   "source": [
    "list = ['a', 'b', 'c']"
   ]
  },
  {
   "cell_type": "code",
   "execution_count": 55,
   "metadata": {},
   "outputs": [
    {
     "data": {
      "text/plain": [
       "['b', 'c']"
      ]
     },
     "execution_count": 55,
     "metadata": {},
     "output_type": "execute_result"
    }
   ],
   "source": [
    "list.pop(0)\n",
    "list"
   ]
  },
  {
   "cell_type": "code",
   "execution_count": 57,
   "metadata": {},
   "outputs": [
    {
     "data": {
      "text/plain": [
       "'a'"
      ]
     },
     "execution_count": 57,
     "metadata": {},
     "output_type": "execute_result"
    }
   ],
   "source": [
    "a = list.pop(0)\n",
    "a"
   ]
  },
  {
   "cell_type": "code",
   "execution_count": null,
   "metadata": {},
   "outputs": [],
   "source": []
  },
  {
   "cell_type": "code",
   "execution_count": null,
   "metadata": {},
   "outputs": [],
   "source": []
  },
  {
   "cell_type": "code",
   "execution_count": null,
   "metadata": {},
   "outputs": [],
   "source": []
  },
  {
   "cell_type": "code",
   "execution_count": null,
   "metadata": {},
   "outputs": [],
   "source": []
  },
  {
   "cell_type": "code",
   "execution_count": null,
   "metadata": {},
   "outputs": [],
   "source": []
  },
  {
   "cell_type": "code",
   "execution_count": null,
   "metadata": {},
   "outputs": [],
   "source": []
  },
  {
   "cell_type": "code",
   "execution_count": null,
   "metadata": {},
   "outputs": [],
   "source": []
  },
  {
   "cell_type": "code",
   "execution_count": null,
   "metadata": {},
   "outputs": [],
   "source": []
  },
  {
   "cell_type": "code",
   "execution_count": null,
   "metadata": {},
   "outputs": [],
   "source": []
  }
 ],
 "metadata": {
  "kernelspec": {
   "display_name": "Python 3",
   "language": "python",
   "name": "python3"
  },
  "language_info": {
   "codemirror_mode": {
    "name": "ipython",
    "version": 3
   },
   "file_extension": ".py",
   "mimetype": "text/x-python",
   "name": "python",
   "nbconvert_exporter": "python",
   "pygments_lexer": "ipython3",
   "version": "3.7.9"
  }
 },
 "nbformat": 4,
 "nbformat_minor": 4
}
