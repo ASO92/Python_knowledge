{
 "cells": [
  {
   "cell_type": "code",
   "execution_count": null,
   "metadata": {},
   "outputs": [],
   "source": []
  },
  {
   "cell_type": "code",
   "execution_count": 1,
   "metadata": {},
   "outputs": [],
   "source": [
    "from abc import ABC, abstractmethod\n",
    "from datetime import datetime, timedelta, date\n",
    "import os\n",
    "\n",
    "import housekeeper\n",
    "\n",
    "class DataManager(ABC):\n",
    "    \n",
    "    def __init__(self):\n",
    "        \n",
    "        self.__myHousekeeper = housekeeper.instance_class()\n",
    "        self.__config_filename = \"tickers_config.json\"\n",
    "        self.__dir_list = ['Data', 'Tickers', 'Dummy1']\n",
    "        self.__upper_stages = 0\n",
    "        self.__tickers_config_list = []\n",
    "        self.__tickers_list = []\n",
    "        self.__active_tickers_list = []\n",
    "        self.__selected_tickers_list = []\n",
    "        self.__timestamp = ''\n",
    "        self.__markets = []\n",
    "    \n",
    "\n",
    "    \n",
    "    def get_config_filename(self):\n",
    "        return self.__config_filename\n",
    "    \n",
    "    def set_config_filename(self, config_filename):\n",
    "        self.__config_filename = config_filename\n",
    "        \n",
    "    def get_dir_list(self):\n",
    "        return self.__dir_list\n",
    "    \n",
    "    def set_dir_list(self, dir_list):\n",
    "        self.__dir_list = dir_list\n",
    "    \n",
    "    def get_upper_stages(self):\n",
    "        return self.__upper_stages\n",
    "    \n",
    "    def set_upper_stages(self, upper_stages):\n",
    "        self.__upper_stages = dir_list\n",
    "    \n",
    "    def get_tickers_config(self):\n",
    "        return self.__tickers_config_list\n",
    "    \n",
    "    def set_tickers_config(self, tickers_config_list):\n",
    "        self.__tickers_config_list = tickers_config_list\n",
    "    \n",
    "    def get_tickers(self):\n",
    "        return self.__tickers_list\n",
    "    \n",
    "    def set_tickers(self, tickers_list):\n",
    "        self.__tickers_list = tickers_list\n",
    "        \n",
    "    def get_active_tickers(self):\n",
    "        return self.__active_tickers_list\n",
    "    \n",
    "    def set_active_tickers(self, active_tickers_list):\n",
    "        self.__active_tickers_list = active_tickers_list\n",
    "        \n",
    "    def get_selected_tickers(self):\n",
    "        return self.__selected_tickers_list\n",
    "    \n",
    "    def set_selected_tickers(self, selected_tickers_list):\n",
    "        self.__selected_tickers_list = selected_tickers_list\n",
    "    \n",
    "    def get_timestamp(self):\n",
    "        return self.__timestamp\n",
    "    \n",
    "    def set_timestamp(self, timestamp):\n",
    "        self.__timestamp = timestamp\n",
    "    \n",
    "    def get_markets(self):\n",
    "        return self.__markets\n",
    "    \n",
    "    def set_markets(self, markets):\n",
    "        self.__markets = markets\n",
    "    \n",
    "    def load_tickers_config(self):\n",
    "        data = self.__myHousekeeper.load_json_to_list(self.__dir_list, self.__config_filename)\n",
    "        self.set_tickers_config(data)\n",
    "        \n",
    "    def save_tickers_config(self):\n",
    "        #No invocar a esta función sin previamente haber cargado tickers_config. O se sobreescribe tickers_config\n",
    "        tickers_config = self.get_tickers_config()\n",
    "        self.__myHousekeeper.list_dict_to_json(self.get_dir_list(), \n",
    "                                               self.get_upper_stages(), \n",
    "                                               self.get_config_filename(), \n",
    "                                               self.get_tickers_config())\n",
    "    \n",
    "    def initialize_metadata(self):\n",
    "        self.load_tickers_config()\n",
    "        data = self.get_tickers_config()\n",
    "        self.set_timestamp(data['metadata'][0]['timestamp'])\n",
    "        self.set_tickers(data['data'])\n",
    "        \n",
    "    def initialize_config_tickers(self):\n",
    "        # Get markets, get active_tickers\n",
    "        markets = []\n",
    "        active_tickers_ = []\n",
    "        self.initialize_metadata()\n",
    "        data = self.get_tickers()\n",
    "        for d in data:\n",
    "            markets.append(d['market'])\n",
    "            if d['active_type']=='stock' and d['active_flag']:\n",
    "                active_tickers_.append(d)\n",
    "            elif d['active_type']=='ETF':\n",
    "                active_tickers_.append(d)\n",
    "        self.set_active_tickers(active_tickers_)\n",
    "        self.set_markets(list(set(markets)))\n",
    "    \n",
    "    def api_selected_tickers(self):\n",
    "        # Se despliegan los tickers activos en la UI para que el usuario elija qué tickers quiere actualizar el data.\n",
    "        ticker_list = self.get_tickers()\n",
    "        self.set_selected_tickers(ticker_list[0:2])\n",
    "        #return self.get_active_tickers() #TODO\n",
    "    \n",
    "    def update_timeseries_download_date(self):\n",
    "        # Se actualiza el tickers_config.json incluyendo la fecha en la que se han descargado datos asociados a un ticker.\n",
    "        self.api_selected_tickers()\n",
    "        selected_ticker_key = [t['tickerKey'] for t in self.get_selected_tickers()]\n",
    "        config_ticker_list = self.get_tickers_config()\n",
    "        today = date.today()\n",
    "        [t.update({'data_update':today.strftime(\"%d-%m-%Y\")}) for t in config_ticker_list['data'] if t['tickerKey'] in selected_ticker_key]\n",
    "        self.set_tickers_config(config_ticker_list)\n",
    "        self.save_tickers_config()\n",
    "         \n",
    "    def save_ticker_data(self, file_name, data):\n",
    "        self.__myHousekeeper.df_to_csv(self.__dir_list,\n",
    "                                       self.__upper_stages, file_name, data)\n",
    "        \n",
    "    "
   ]
  },
  {
   "cell_type": "code",
   "execution_count": 2,
   "metadata": {},
   "outputs": [],
   "source": [
    "import yfinance as yf\n",
    "import pandas as pd\n",
    "\n",
    "class DataManager_YahooFinance(DataManager):\n",
    "    \n",
    "    def __init__(self):\n",
    "        super().__init__()\n",
    "        \n",
    "    def download_ticker_data(self, ticker, ticker_key):\n",
    "        print('Downloading historic data of: ' + ticker)\n",
    "        data_csv = yf.download(ticker)\n",
    "        data_csv.insert(loc=0, column='Date', value=pd.to_datetime(data_csv.index, errors='coerce'))\n",
    "        data_csv['Date'] = [time.date() for time in data_csv['Date']]\n",
    "        data_csv.reset_index(drop=True, inplace=True)\n",
    "        self.save_ticker_data(ticker_key,data_csv )\n",
    "        return data_csv\n",
    "    \n",
    "    def download_market_data(self, market):\n",
    "        print('Download market ticker')\n",
    "        tickers = self.get_active_tickers()\n",
    "        [DM_YF.download_ticker_data(t['feeds']['ticker'], t['tickerKey']) for t in tickers if t['market'] in markets]\n",
    "    \n",
    "    def download_all_markets(self):\n",
    "        print('Download ALL MARKETS')\n",
    "        self.download_market_data(self.get_markets())\n",
    "    \n",
    "    def download_selected_tickers(self):\n",
    "        # Se almacenan los tickers que van a se actualizados y se guarda la fecha de actualización en el ticker_config. \n",
    "        # 1.- Almacenar selected_Tickers from user intertest and a default option.\n",
    "        #selected_tickers_list = self.api_active_tickers()\n",
    "        self.api_selected_tickers()\n",
    "        #2.- Descargar los selected_tickers\n",
    "        [self.download_ticker_data(t['feeds']['ticker'], t['tickerKey']) for t in self.get_selected_tickers()]\n",
    "        # 3.- Actualizar fechas en tickers_config\n",
    "        self.update_timeseries_download_date()\n",
    "    \n",
    "\n",
    "        "
   ]
  },
  {
   "cell_type": "code",
   "execution_count": 3,
   "metadata": {},
   "outputs": [
    {
     "name": "stdout",
     "output_type": "stream",
     "text": [
      "nested_dir_path:  /Data/Tickers/Dummy1\n",
      "./Data/Tickers/Dummy1/tickers_config.json\n",
      "nested_dir_path:  /Data/Tickers/Dummy1\n",
      "./Data/Tickers/Dummy1/tickers_config.json\n"
     ]
    },
    {
     "data": {
      "text/plain": [
       "('21/03/2021 13:02:45', ['SP500', 'CAC40', 'IBEX35', 'DAX30'])"
      ]
     },
     "execution_count": 3,
     "metadata": {},
     "output_type": "execute_result"
    }
   ],
   "source": [
    "DM_YF = DataManager_YahooFinance()\n",
    "DM_YF.load_tickers_config() # Cargar archivo \"tickers_config.json\"\n",
    "data = DM_YF.get_tickers_config() # Obtener variable __tickers_config_list\n",
    "#DM_YF.initialize_metadata()\n",
    "DM_YF.initialize_config_tickers() # initialize_metadata(timestamp and set tickers_list) and set __active_tickers_list \n",
    "DM_YF.get_timestamp(), DM_YF.get_markets()"
   ]
  },
  {
   "cell_type": "code",
   "execution_count": 6,
   "metadata": {},
   "outputs": [
    {
     "name": "stdout",
     "output_type": "stream",
     "text": [
      "Downloading historic data of: ANA.MC\n",
      "[*********************100%***********************]  1 of 1 completed\n",
      "nested_dir_path:  /Data/Tickers/Dummy1\n",
      "./Data/Tickers/Dummy1/ANA.MC.TT.csv\n",
      "Downloading historic data of: ACX.MC\n",
      "[*********************100%***********************]  1 of 1 completed\n",
      "nested_dir_path:  /Data/Tickers/Dummy1\n",
      "./Data/Tickers/Dummy1/ACX.MC.TT.csv\n",
      "Root dir:  C:\\Users\\alvaro\\Repos\\Python_knowledge\\Appdatabase project\n",
      "parent_dir_path:  C:\\Users\\alvaro\\Repos\\Python_knowledge\\Appdatabase project\n",
      "dir_list:  ['Data', 'Tickers', 'Dummy1']\n",
      "nested_dir_path:  /Data/Tickers/Dummy1\n",
      "file path:  C:\\Users\\alvaro\\Repos\\Python_knowledge\\Appdatabase project/Data/Tickers/Dummy1/tickers_config.json\n"
     ]
    }
   ],
   "source": [
    "DM_YF.download_selected_tickers()"
   ]
  },
  {
   "cell_type": "code",
   "execution_count": 10,
   "metadata": {},
   "outputs": [
    {
     "data": {
      "text/plain": [
       "('25-03-2021', '-')"
      ]
     },
     "execution_count": 10,
     "metadata": {},
     "output_type": "execute_result"
    }
   ],
   "source": [
    "a = DM_YF.get_active_tickers()\n",
    "a[0]['data_update'], a[2]['data_update']"
   ]
  },
  {
   "cell_type": "code",
   "execution_count": 26,
   "metadata": {
    "scrolled": true
   },
   "outputs": [
    {
     "data": {
      "text/plain": [
       "(Timestamp('2021-03-25 00:00:00'),\n",
       " Timestamp('2021-03-26 00:00:00'),\n",
       " Timestamp('2021-03-23 00:00:00'))"
      ]
     },
     "execution_count": 26,
     "metadata": {},
     "output_type": "execute_result"
    }
   ],
   "source": [
    "#data_csv = yf.download('ANA.MC')\n",
    "last_date = a[0]['data_update']\n",
    "last_date = pd.to_datetime(last_date, errors='coerce')\n",
    "last_date.date()\n",
    "start_date = last_date + timedelta(days=1)\n",
    "start_date_1 = last_date + timedelta(days=-2)\n",
    "last_date, start_date, start_date_1"
   ]
  },
  {
   "cell_type": "code",
   "execution_count": 32,
   "metadata": {},
   "outputs": [
    {
     "name": "stdout",
     "output_type": "stream",
     "text": [
      "[*********************100%***********************]  1 of 1 completed\n"
     ]
    },
    {
     "data": {
      "text/html": [
       "<div>\n",
       "<style scoped>\n",
       "    .dataframe tbody tr th:only-of-type {\n",
       "        vertical-align: middle;\n",
       "    }\n",
       "\n",
       "    .dataframe tbody tr th {\n",
       "        vertical-align: top;\n",
       "    }\n",
       "\n",
       "    .dataframe thead th {\n",
       "        text-align: right;\n",
       "    }\n",
       "</style>\n",
       "<table border=\"1\" class=\"dataframe\">\n",
       "  <thead>\n",
       "    <tr style=\"text-align: right;\">\n",
       "      <th></th>\n",
       "      <th>Open</th>\n",
       "      <th>High</th>\n",
       "      <th>Low</th>\n",
       "      <th>Close</th>\n",
       "      <th>Adj Close</th>\n",
       "      <th>Volume</th>\n",
       "    </tr>\n",
       "    <tr>\n",
       "      <th>Date</th>\n",
       "      <th></th>\n",
       "      <th></th>\n",
       "      <th></th>\n",
       "      <th></th>\n",
       "      <th></th>\n",
       "      <th></th>\n",
       "    </tr>\n",
       "  </thead>\n",
       "  <tbody>\n",
       "    <tr>\n",
       "      <th>2021-03-23</th>\n",
       "      <td>136.399994</td>\n",
       "      <td>138.899994</td>\n",
       "      <td>134.600006</td>\n",
       "      <td>138.000000</td>\n",
       "      <td>138.000000</td>\n",
       "      <td>118561</td>\n",
       "    </tr>\n",
       "    <tr>\n",
       "      <th>2021-03-24</th>\n",
       "      <td>136.800003</td>\n",
       "      <td>138.300003</td>\n",
       "      <td>136.000000</td>\n",
       "      <td>138.199997</td>\n",
       "      <td>138.199997</td>\n",
       "      <td>176248</td>\n",
       "    </tr>\n",
       "  </tbody>\n",
       "</table>\n",
       "</div>"
      ],
      "text/plain": [
       "                  Open        High         Low       Close   Adj Close  Volume\n",
       "Date                                                                          \n",
       "2021-03-23  136.399994  138.899994  134.600006  138.000000  138.000000  118561\n",
       "2021-03-24  136.800003  138.300003  136.000000  138.199997  138.199997  176248"
      ]
     },
     "execution_count": 32,
     "metadata": {},
     "output_type": "execute_result"
    }
   ],
   "source": [
    "data_csv = yf.download('ANA.MC', start=start_date_1, end=datetime.now())\n",
    "#data_csv = yf.download('ANA.MC')\n",
    "data_csv.head(-1)"
   ]
  },
  {
   "cell_type": "code",
   "execution_count": 14,
   "metadata": {},
   "outputs": [],
   "source": [
    "def f1(a = 1):\n",
    "    print(a)"
   ]
  },
  {
   "cell_type": "code",
   "execution_count": 19,
   "metadata": {},
   "outputs": [
    {
     "name": "stdout",
     "output_type": "stream",
     "text": [
      "424\n"
     ]
    }
   ],
   "source": [
    "f1(424)"
   ]
  },
  {
   "cell_type": "code",
   "execution_count": null,
   "metadata": {},
   "outputs": [],
   "source": [
    "tickers[0]"
   ]
  },
  {
   "cell_type": "code",
   "execution_count": null,
   "metadata": {},
   "outputs": [],
   "source": [
    "tickers[0]['feeds']['ticker']"
   ]
  },
  {
   "cell_type": "code",
   "execution_count": null,
   "metadata": {},
   "outputs": [],
   "source": [
    "data_ticker = DM_YF.download_ticker_data(tickers[0]['feeds']['ticker'], tickers[0]['tickerKey'])\n",
    "#data_ticker"
   ]
  },
  {
   "cell_type": "code",
   "execution_count": null,
   "metadata": {},
   "outputs": [],
   "source": [
    "data_ticker.head(), type(data_ticker)"
   ]
  },
  {
   "cell_type": "code",
   "execution_count": null,
   "metadata": {},
   "outputs": [],
   "source": [
    "#DM_YF.download_market_data('IBEX35')"
   ]
  },
  {
   "cell_type": "code",
   "execution_count": null,
   "metadata": {},
   "outputs": [],
   "source": [
    "markets = DM_YF.get_markets()\n",
    "markets"
   ]
  },
  {
   "cell_type": "code",
   "execution_count": null,
   "metadata": {},
   "outputs": [],
   "source": [
    "DM_YF.download_all_markets()"
   ]
  },
  {
   "cell_type": "code",
   "execution_count": null,
   "metadata": {},
   "outputs": [],
   "source": []
  },
  {
   "cell_type": "code",
   "execution_count": null,
   "metadata": {},
   "outputs": [],
   "source": [
    "def Get_Last_Data(ticker, market, backup):\n",
    "    # Check if the market is in the database. In case that not exist, WARNING and return empty csv.\n",
    "    markets = os.listdir('./Data/')\n",
    "    if market not in markets:\n",
    "        print(\"There is no market in database, please add new market and fill with data\")\n",
    "        data_csv = []\n",
    "        return data_csv\n",
    "\n",
    "    # If market exists between the markets loaded, then go to market folder and load shares list\n",
    "    # Get shares of a market from the folder that it is stored\n",
    "    shares = os.listdir('./Data/' + market)\n",
    "    shares = [s.replace('.csv', '') for s in shares]\n",
    "\n",
    "    # Function to download full historic data, used for backup and in firts time download\n",
    "    def dowload_historic_data(ticker):\n",
    "        print('Downloading historic data of: ' + ticker)\n",
    "        data_csv = yf.download(ticker)\n",
    "        data_csv.insert(loc=0, column='Date', value=pd.to_datetime(data_csv.index, errors='coerce'))\n",
    "        data_csv['Date'] = [time.date() for time in data_csv['Date']]\n",
    "        data_csv.reset_index(drop=True, inplace=True)\n",
    "        return data_csv\n",
    "\n",
    "    if ticker in shares:  # IN CASE THAT THE SHARE EXISTS PREVIOUSLY. If share in LISTA_ACCIONES\n",
    "        if backup:  # BACK UP CASE. Download data from the historic in YahooFinance\n",
    "            data_csv = dowload_historic_data(ticker)\n",
    "        else:  # NO BACK UP CASE. Download data from the last date updated\n",
    "            # Load de data\n",
    "            print(\"-------------------------------------------\")\n",
    "            print(ticker + \" exists in Database. \" + \"Opening \" + ticker)\n",
    "            data_csv = pd.read_csv(\"./Data/\" + market + \"/\" + ticker + \".csv\")\n",
    "            # Read and get the date of the last day\n",
    "            last_date = data_csv[\"Date\"].iloc[-1]\n",
    "            last_date = pd.to_datetime(last_date, errors='coerce')\n",
    "            last_date.date()\n",
    "            # If last date is today, then return the file with no modifications\n",
    "            if last_date >= date.today():\n",
    "                print(\"File is already updated. No modifications.\")\n",
    "                # print (\"-------------------------------------------\")\n",
    "                return data_csv\n",
    "            # print(\"Updating \" + ticker +' from '+ last_date +' until '+date.today()+'(today)' )\n",
    "            print('Updating ' + ticker + ' until today')\n",
    "            start_date = last_date + timedelta(days=1)\n",
    "            # Download data from the selected date\n",
    "            data = yf.download(ticker, start=start_date, end=datetime.now())\n",
    "            data.insert(loc=0, column='Date', value=pd.to_datetime(data.index, errors='coerce'))\n",
    "            data['Date'] = [time.date() for time in data['Date']]\n",
    "            data.reset_index(drop=True, inplace=True)\n",
    "            data_csv = data_csv.append(data, ignore_index=True)\n",
    "    else:  # IN CASE THAT THE SHARE DOESNT EXISTS PREVIOUSLY. Download historic data.\n",
    "        print(ticker + \" is not found in database, adding ----\")\n",
    "        data_csv = dowload_historic_data(ticker)\n",
    "    return data_csv"
   ]
  },
  {
   "cell_type": "code",
   "execution_count": null,
   "metadata": {},
   "outputs": [],
   "source": []
  },
  {
   "cell_type": "code",
   "execution_count": null,
   "metadata": {},
   "outputs": [],
   "source": []
  },
  {
   "cell_type": "markdown",
   "metadata": {},
   "source": [
    "### Development layer "
   ]
  },
  {
   "cell_type": "code",
   "execution_count": null,
   "metadata": {},
   "outputs": [],
   "source": [
    "def download_market_data(self, market):\n",
    "    print('Download market ticker')\n",
    "    tickers = self.get_active_tickers()\n",
    "    [DM_YF.download_ticker_data(t['feeds']['ticker'], t['tickerKey']) for t in tickers if t['market'] in markets]"
   ]
  },
  {
   "cell_type": "code",
   "execution_count": null,
   "metadata": {},
   "outputs": [],
   "source": [
    "tickers = DM_YF.get_active_tickers() # Get active tickers\n",
    "#tickers"
   ]
  },
  {
   "cell_type": "code",
   "execution_count": null,
   "metadata": {},
   "outputs": [],
   "source": [
    "markets = ['IBEX35']\n",
    "[print(t) for t in tickers if t['market'] in markets]\n",
    "\n",
    "DM_YF.download_ticker_data(tickers[0]['feeds']['ticker'], tickers[0]['tickerKey'])"
   ]
  },
  {
   "cell_type": "code",
   "execution_count": null,
   "metadata": {},
   "outputs": [],
   "source": [
    "[DM_YF.download_ticker_data(t['feeds']['ticker'], t['tickerKey']) for t in tickers if t['market'] in markets]"
   ]
  },
  {
   "cell_type": "code",
   "execution_count": null,
   "metadata": {},
   "outputs": [],
   "source": [
    "import housekeeper"
   ]
  },
  {
   "cell_type": "code",
   "execution_count": null,
   "metadata": {},
   "outputs": [],
   "source": [
    "dir_list = ['Data']\n",
    "file_name = 'tickers_config.json'"
   ]
  },
  {
   "cell_type": "code",
   "execution_count": null,
   "metadata": {},
   "outputs": [],
   "source": [
    "myHousekeeper = housekeeper.instance_class() \n",
    "data = myHousekeeper.load_json_to_list(dir_list, file_name)\n",
    "#data"
   ]
  },
  {
   "cell_type": "code",
   "execution_count": null,
   "metadata": {},
   "outputs": [],
   "source": [
    "markets = []\n",
    "active_tickers = []\n",
    "for d in data:\n",
    "    markets.append(d['market'])\n",
    "    if d['active_type']=='stock' and d['active_flag']:\n",
    "        active_tickers.append(d)\n",
    "    elif d['active_type']=='ETF':\n",
    "        active_tickers.append(d)\n",
    "markets = set(markets)    "
   ]
  },
  {
   "cell_type": "code",
   "execution_count": null,
   "metadata": {},
   "outputs": [],
   "source": [
    "markets, active_tickers"
   ]
  },
  {
   "cell_type": "code",
   "execution_count": null,
   "metadata": {},
   "outputs": [],
   "source": [
    "data[0:2]['market']"
   ]
  },
  {
   "cell_type": "code",
   "execution_count": null,
   "metadata": {
    "scrolled": false
   },
   "outputs": [],
   "source": [
    "data[0:2]"
   ]
  },
  {
   "cell_type": "code",
   "execution_count": null,
   "metadata": {},
   "outputs": [],
   "source": [
    "keyValList = ['a']\n",
    "data[0]['market'] in keyValList"
   ]
  },
  {
   "cell_type": "code",
   "execution_count": null,
   "metadata": {},
   "outputs": [],
   "source": [
    "#data"
   ]
  },
  {
   "cell_type": "code",
   "execution_count": null,
   "metadata": {},
   "outputs": [],
   "source": [
    "if data[0]['active_flag']:\n",
    "    print('hola')"
   ]
  },
  {
   "cell_type": "code",
   "execution_count": null,
   "metadata": {},
   "outputs": [],
   "source": [
    "markets"
   ]
  },
  {
   "cell_type": "code",
   "execution_count": null,
   "metadata": {},
   "outputs": [],
   "source": [
    "'''\n",
    ">>> exampleSet = [{'type':'type1'},{'type':'type2'},{'type':'type2'}, {'type':'type3'}]\n",
    ">>> keyValList = ['type2','type3']\n",
    ">>> expectedResult = [d for d in exampleSet if d['type'] in keyValList]\n",
    ">>> expectedResult\n",
    "[{'type': 'type2'}, {'type': 'type2'}, {'type': 'type3'}]\n",
    "'''"
   ]
  },
  {
   "cell_type": "code",
   "execution_count": null,
   "metadata": {},
   "outputs": [],
   "source": [
    "'''\n",
    ">>> list(filter(lambda d: d['type'] in keyValList, exampleSet))\n",
    "[{'type': 'type2'}, {'type': 'type2'}, {'type': 'type3'}]\n",
    "'''"
   ]
  },
  {
   "cell_type": "markdown",
   "metadata": {},
   "source": [
    "https://blog.finxter.com/how-to-filter-a-list-of-dictionaries-in-python/#Where_to_Go_From_Here"
   ]
  },
  {
   "cell_type": "code",
   "execution_count": null,
   "metadata": {},
   "outputs": [],
   "source": [
    "data = DM_YF.get_tickers_config()"
   ]
  },
  {
   "cell_type": "code",
   "execution_count": null,
   "metadata": {},
   "outputs": [],
   "source": [
    "DM_YF.load_tickers_config()"
   ]
  },
  {
   "cell_type": "code",
   "execution_count": null,
   "metadata": {},
   "outputs": [],
   "source": [
    "data[1]"
   ]
  },
  {
   "cell_type": "code",
   "execution_count": null,
   "metadata": {},
   "outputs": [],
   "source": [
    "list = ['a', 'b', 'c']"
   ]
  },
  {
   "cell_type": "code",
   "execution_count": null,
   "metadata": {},
   "outputs": [],
   "source": [
    "list.pop(0)\n",
    "list"
   ]
  },
  {
   "cell_type": "code",
   "execution_count": null,
   "metadata": {},
   "outputs": [],
   "source": [
    "a = list.pop(0)\n",
    "a"
   ]
  },
  {
   "cell_type": "code",
   "execution_count": null,
   "metadata": {},
   "outputs": [],
   "source": []
  },
  {
   "cell_type": "code",
   "execution_count": null,
   "metadata": {},
   "outputs": [],
   "source": []
  },
  {
   "cell_type": "code",
   "execution_count": null,
   "metadata": {},
   "outputs": [],
   "source": []
  },
  {
   "cell_type": "code",
   "execution_count": null,
   "metadata": {},
   "outputs": [],
   "source": []
  },
  {
   "cell_type": "code",
   "execution_count": null,
   "metadata": {},
   "outputs": [],
   "source": []
  },
  {
   "cell_type": "code",
   "execution_count": null,
   "metadata": {},
   "outputs": [],
   "source": []
  },
  {
   "cell_type": "code",
   "execution_count": null,
   "metadata": {},
   "outputs": [],
   "source": []
  },
  {
   "cell_type": "code",
   "execution_count": null,
   "metadata": {},
   "outputs": [],
   "source": []
  },
  {
   "cell_type": "code",
   "execution_count": null,
   "metadata": {},
   "outputs": [],
   "source": []
  }
 ],
 "metadata": {
  "kernelspec": {
   "display_name": "Python 3",
   "language": "python",
   "name": "python3"
  },
  "language_info": {
   "codemirror_mode": {
    "name": "ipython",
    "version": 3
   },
   "file_extension": ".py",
   "mimetype": "text/x-python",
   "name": "python",
   "nbconvert_exporter": "python",
   "pygments_lexer": "ipython3",
   "version": "3.7.9"
  }
 },
 "nbformat": 4,
 "nbformat_minor": 4
}
