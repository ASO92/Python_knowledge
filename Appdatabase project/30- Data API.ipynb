{
 "cells": [
  {
   "cell_type": "code",
   "execution_count": 1,
   "metadata": {},
   "outputs": [],
   "source": [
    "import re\n",
    "import os\n",
    "import bs4 as bs\n",
    "import pandas as pd\n",
    "import requests\n",
    "from datetime import date\n",
    "from datetime import datetime\n",
    "\n",
    "# Import tickermanagerFactory and datamanagerFactory\n",
    "from tickermanagers import TickerManager_Wiki\n",
    "from datamanagers import DataManager_YahooFinance\n",
    "\n"
   ]
  },
  {
   "cell_type": "code",
   "execution_count": 2,
   "metadata": {},
   "outputs": [],
   "source": [
    "dir_list = ['Data','Tickers','Dummy1']"
   ]
  },
  {
   "cell_type": "code",
   "execution_count": 3,
   "metadata": {},
   "outputs": [
    {
     "name": "stdout",
     "output_type": "stream",
     "text": [
      "Start raw ticker data extraction from Wikipedia \n",
      "Getting data from market:IBEX35, site:https://es.wikipedia.org/wiki/IBEX_35\n",
      "Getting data from market:DAX30, site:https://de.wikipedia.org/wiki/DAX\n",
      "Getting data from market:CAC40, site:https://es.wikipedia.org/wiki/CAC_40\n",
      "Getting data from market:SP500, site:http://en.wikipedia.org/wiki/List_of_S%26P_500_companies\n",
      "Extraction completed\n",
      "Set tickers_list\n",
      "Activation: get_parsed_tickers\n",
      "Getting tickers_list\n",
      "All tickers fed\n",
      "Set tickers_list\n",
      "nested_dir_path:  /Data/Tickers/Dummy1\n",
      "No file tickers_config.json detected, creating..\n",
      "Getting tickers_list\n",
      "Set tickers_config\n",
      "Getting tickers_config\n",
      "Root dir:  C:\\Users\\alvaro\\Repos\\Python_knowledge\\Appdatabase project\n",
      "parent_dir_path:  C:\\Users\\alvaro\\Repos\\Python_knowledge\\Appdatabase project\n",
      "dir_list:  ['Data', 'Tickers', 'Dummy1']\n",
      "nested_dir_path:  /Data/Tickers/Dummy1\n",
      "file path:  C:\\Users\\alvaro\\Repos\\Python_knowledge\\Appdatabase project/Data/Tickers/Dummy1/tickers_config.json\n",
      "Created tickers_config.json\n"
     ]
    }
   ],
   "source": [
    "## ACTUALIZACIÓN TICKERS.\n",
    "tickerManager = TickerManager_Wiki()\n",
    "# PAth para almacenar el archivo ticker_config.json\n",
    "tickerManager.set_dir_list(dir_list)\n",
    "#tickerMan.update_market_tickers_config('IBEX35') # También: DAX30, CAC40, SPY500\n",
    "tickerManager.update_tickers_config()"
   ]
  },
  {
   "cell_type": "code",
   "execution_count": 4,
   "metadata": {},
   "outputs": [
    {
     "name": "stdout",
     "output_type": "stream",
     "text": [
      "Download market ticker\n",
      "nested_dir_path:  /Data/Tickers/Dummy1\n",
      "./Data/Tickers/Dummy1/tickers_config.json\n",
      "Download ANA.MC.TT  from scratch\n",
      "Downloading from scratch historic data of: ANA.MC\n",
      "[*********************100%***********************]  1 of 1 completed\n",
      "nested_dir_path:  /Data/Tickers/Dummy1\n",
      "./Data/Tickers/Dummy1/ANA.MC.TT.csv\n",
      "Download ACX.MC.TT  from scratch\n",
      "Downloading from scratch historic data of: ACX.MC\n",
      "[*********************100%***********************]  1 of 1 completed\n",
      "nested_dir_path:  /Data/Tickers/Dummy1\n",
      "./Data/Tickers/Dummy1/ACX.MC.TT.csv\n",
      "Download ACS.MC.TT  from scratch\n",
      "Downloading from scratch historic data of: ACS.MC\n",
      "[*********************100%***********************]  1 of 1 completed\n",
      "nested_dir_path:  /Data/Tickers/Dummy1\n",
      "./Data/Tickers/Dummy1/ACS.MC.TT.csv\n",
      "Download AENA.MC.TT  from scratch\n",
      "Downloading from scratch historic data of: AENA.MC\n",
      "[*********************100%***********************]  1 of 1 completed\n",
      "nested_dir_path:  /Data/Tickers/Dummy1\n",
      "./Data/Tickers/Dummy1/AENA.MC.TT.csv\n",
      "Download ALM.MC.TT  from scratch\n",
      "Downloading from scratch historic data of: ALM.MC\n",
      "[*********************100%***********************]  1 of 1 completed\n",
      "nested_dir_path:  /Data/Tickers/Dummy1\n",
      "./Data/Tickers/Dummy1/ALM.MC.TT.csv\n",
      "Download AMS.MC.TT  from scratch\n",
      "Downloading from scratch historic data of: AMS.MC\n",
      "[*********************100%***********************]  1 of 1 completed\n",
      "nested_dir_path:  /Data/Tickers/Dummy1\n",
      "./Data/Tickers/Dummy1/AMS.MC.TT.csv\n",
      "Download MTS.MC.TT  from scratch\n",
      "Downloading from scratch historic data of: MTS.MC\n",
      "[*********************100%***********************]  1 of 1 completed\n",
      "nested_dir_path:  /Data/Tickers/Dummy1\n",
      "./Data/Tickers/Dummy1/MTS.MC.TT.csv\n",
      "Download SAB.MC.TT  from scratch\n",
      "Downloading from scratch historic data of: SAB.MC\n",
      "[*********************100%***********************]  1 of 1 completed\n",
      "nested_dir_path:  /Data/Tickers/Dummy1\n",
      "./Data/Tickers/Dummy1/SAB.MC.TT.csv\n",
      "Download SAN.MC.TT  from scratch\n",
      "Downloading from scratch historic data of: SAN.MC\n",
      "[*********************100%***********************]  1 of 1 completed\n",
      "nested_dir_path:  /Data/Tickers/Dummy1\n",
      "./Data/Tickers/Dummy1/SAN.MC.TT.csv\n",
      "Download BKT.MC.TT  from scratch\n",
      "Downloading from scratch historic data of: BKT.MC\n",
      "[*********************100%***********************]  1 of 1 completed\n",
      "nested_dir_path:  /Data/Tickers/Dummy1\n",
      "./Data/Tickers/Dummy1/BKT.MC.TT.csv\n",
      "Download BBVA.MC.TT  from scratch\n",
      "Downloading from scratch historic data of: BBVA.MC\n",
      "[*********************100%***********************]  1 of 1 completed\n",
      "nested_dir_path:  /Data/Tickers/Dummy1\n",
      "./Data/Tickers/Dummy1/BBVA.MC.TT.csv\n",
      "Download CABK.MC.TT  from scratch\n",
      "Downloading from scratch historic data of: CABK.MC\n",
      "[*********************100%***********************]  1 of 1 completed\n",
      "nested_dir_path:  /Data/Tickers/Dummy1\n",
      "./Data/Tickers/Dummy1/CABK.MC.TT.csv\n",
      "Download CLNX.MC.TT  from scratch\n",
      "Downloading from scratch historic data of: CLNX.MC\n",
      "[*********************100%***********************]  1 of 1 completed\n",
      "nested_dir_path:  /Data/Tickers/Dummy1\n",
      "./Data/Tickers/Dummy1/CLNX.MC.TT.csv\n",
      "Download CIE.MC.TT  from scratch\n",
      "Downloading from scratch historic data of: CIE.MC\n",
      "[*********************100%***********************]  1 of 1 completed\n",
      "nested_dir_path:  /Data/Tickers/Dummy1\n",
      "./Data/Tickers/Dummy1/CIE.MC.TT.csv\n",
      "Download ENG.MC.TT  from scratch\n",
      "Downloading from scratch historic data of: ENG.MC\n",
      "[*********************100%***********************]  1 of 1 completed\n",
      "nested_dir_path:  /Data/Tickers/Dummy1\n",
      "./Data/Tickers/Dummy1/ENG.MC.TT.csv\n",
      "Download ELE.MC.TT  from scratch\n",
      "Downloading from scratch historic data of: ELE.MC\n",
      "[*********************100%***********************]  1 of 1 completed\n",
      "nested_dir_path:  /Data/Tickers/Dummy1\n",
      "./Data/Tickers/Dummy1/ELE.MC.TT.csv\n",
      "Download FER.MC.TT  from scratch\n",
      "Downloading from scratch historic data of: FER.MC\n",
      "[*********************100%***********************]  1 of 1 completed\n",
      "nested_dir_path:  /Data/Tickers/Dummy1\n",
      "./Data/Tickers/Dummy1/FER.MC.TT.csv\n",
      "Download FDR.MC.TT  from scratch\n",
      "Downloading from scratch historic data of: FDR.MC\n",
      "[*********************100%***********************]  1 of 1 completed\n",
      "nested_dir_path:  /Data/Tickers/Dummy1\n",
      "./Data/Tickers/Dummy1/FDR.MC.TT.csv\n",
      "Download GRF.MC.TT  from scratch\n",
      "Downloading from scratch historic data of: GRF.MC\n",
      "[*********************100%***********************]  1 of 1 completed\n",
      "nested_dir_path:  /Data/Tickers/Dummy1\n",
      "./Data/Tickers/Dummy1/GRF.MC.TT.csv\n",
      "Download IAG.MC.TT  from scratch\n",
      "Downloading from scratch historic data of: IAG.MC\n",
      "[*********************100%***********************]  1 of 1 completed\n",
      "nested_dir_path:  /Data/Tickers/Dummy1\n",
      "./Data/Tickers/Dummy1/IAG.MC.TT.csv\n",
      "Download IBE.MC.TT  from scratch\n",
      "Downloading from scratch historic data of: IBE.MC\n",
      "[*********************100%***********************]  1 of 1 completed\n",
      "nested_dir_path:  /Data/Tickers/Dummy1\n",
      "./Data/Tickers/Dummy1/IBE.MC.TT.csv\n",
      "Download ITX.MC.TT  from scratch\n",
      "Downloading from scratch historic data of: ITX.MC\n",
      "[*********************100%***********************]  1 of 1 completed\n",
      "nested_dir_path:  /Data/Tickers/Dummy1\n",
      "./Data/Tickers/Dummy1/ITX.MC.TT.csv\n",
      "Download IDR.MC.TT  from scratch\n",
      "Downloading from scratch historic data of: IDR.MC\n",
      "[*********************100%***********************]  1 of 1 completed\n",
      "nested_dir_path:  /Data/Tickers/Dummy1\n",
      "./Data/Tickers/Dummy1/IDR.MC.TT.csv\n",
      "Download COL.MC.TT  from scratch\n",
      "Downloading from scratch historic data of: COL.MC\n",
      "[*********************100%***********************]  1 of 1 completed\n",
      "nested_dir_path:  /Data/Tickers/Dummy1\n",
      "./Data/Tickers/Dummy1/COL.MC.TT.csv\n",
      "Download MAP.MC.TT  from scratch\n",
      "Downloading from scratch historic data of: MAP.MC\n",
      "[*********************100%***********************]  1 of 1 completed\n",
      "nested_dir_path:  /Data/Tickers/Dummy1\n",
      "./Data/Tickers/Dummy1/MAP.MC.TT.csv\n",
      "Download MEL.MC.TT  from scratch\n",
      "Downloading from scratch historic data of: MEL.MC\n",
      "[*********************100%***********************]  1 of 1 completed\n",
      "nested_dir_path:  /Data/Tickers/Dummy1\n",
      "./Data/Tickers/Dummy1/MEL.MC.TT.csv\n",
      "Download MRL.MC.TT  from scratch\n",
      "Downloading from scratch historic data of: MRL.MC\n",
      "[*********************100%***********************]  1 of 1 completed\n",
      "nested_dir_path:  /Data/Tickers/Dummy1\n",
      "./Data/Tickers/Dummy1/MRL.MC.TT.csv\n",
      "Download NTGY.MC.TT  from scratch\n",
      "Downloading from scratch historic data of: NTGY.MC\n",
      "[*********************100%***********************]  1 of 1 completed\n",
      "nested_dir_path:  /Data/Tickers/Dummy1\n",
      "./Data/Tickers/Dummy1/NTGY.MC.TT.csv\n",
      "Download PHM.MC.TT  from scratch\n",
      "Downloading from scratch historic data of: PHM.MC\n",
      "[*********************100%***********************]  1 of 1 completed\n",
      "nested_dir_path:  /Data/Tickers/Dummy1\n",
      "./Data/Tickers/Dummy1/PHM.MC.TT.csv\n",
      "Download REE.MC.TT  from scratch\n",
      "Downloading from scratch historic data of: REE.MC\n",
      "[*********************100%***********************]  1 of 1 completed\n",
      "nested_dir_path:  /Data/Tickers/Dummy1\n",
      "./Data/Tickers/Dummy1/REE.MC.TT.csv\n",
      "Download REP.MC.TT  from scratch\n",
      "Downloading from scratch historic data of: REP.MC\n",
      "[*********************100%***********************]  1 of 1 completed\n",
      "nested_dir_path:  /Data/Tickers/Dummy1\n",
      "./Data/Tickers/Dummy1/REP.MC.TT.csv\n",
      "Download SGRE.MC.TT  from scratch\n",
      "Downloading from scratch historic data of: SGRE.MC\n",
      "[*********************100%***********************]  1 of 1 completed\n",
      "nested_dir_path:  /Data/Tickers/Dummy1\n",
      "./Data/Tickers/Dummy1/SGRE.MC.TT.csv\n",
      "Download SLR.MC.TT  from scratch\n",
      "Downloading from scratch historic data of: SLR.MC\n",
      "[*********************100%***********************]  1 of 1 completed\n",
      "nested_dir_path:  /Data/Tickers/Dummy1\n",
      "./Data/Tickers/Dummy1/SLR.MC.TT.csv\n",
      "Download TEF.MC.TT  from scratch\n",
      "Downloading from scratch historic data of: TEF.MC\n",
      "[*********************100%***********************]  1 of 1 completed\n",
      "nested_dir_path:  /Data/Tickers/Dummy1\n",
      "./Data/Tickers/Dummy1/TEF.MC.TT.csv\n",
      "Download VIS.MC.TT  from scratch\n",
      "Downloading from scratch historic data of: VIS.MC\n",
      "[*********************100%***********************]  1 of 1 completed\n",
      "nested_dir_path:  /Data/Tickers/Dummy1\n",
      "./Data/Tickers/Dummy1/VIS.MC.TT.csv\n",
      "Download ^IBEX  from scratch\n",
      "Downloading from scratch historic data of: ^IBEX\n"
     ]
    },
    {
     "name": "stdout",
     "output_type": "stream",
     "text": [
      "[*********************100%***********************]  1 of 1 completed\n",
      "nested_dir_path:  /Data/Tickers/Dummy1\n",
      "./Data/Tickers/Dummy1/^IBEX.csv\n",
      "Root dir:  C:\\Users\\alvaro\\Repos\\Python_knowledge\\Appdatabase project\n",
      "parent_dir_path:  C:\\Users\\alvaro\\Repos\\Python_knowledge\\Appdatabase project\n",
      "dir_list:  ['Data', 'Tickers', 'Dummy1']\n",
      "nested_dir_path:  /Data/Tickers/Dummy1\n",
      "file path:  C:\\Users\\alvaro\\Repos\\Python_knowledge\\Appdatabase project/Data/Tickers/Dummy1/tickers_config.json\n"
     ]
    }
   ],
   "source": [
    "## ACTUALIZACIÓN TIMESERIES.\n",
    "dataManager = DataManager_YahooFinance()\n",
    "dataManager.set_dir_list(dir_list)\n",
    "dataManager.download_market_data('IBEX35') #DAX30, SPY500\n",
    "#dataManager.download_all_markets()"
   ]
  },
  {
   "cell_type": "code",
   "execution_count": null,
   "metadata": {},
   "outputs": [],
   "source": [
    "dataManager.download_all_markets()"
   ]
  },
  {
   "cell_type": "code",
   "execution_count": null,
   "metadata": {},
   "outputs": [],
   "source": [
    "#dataManager.get_markets()\n",
    "dataManager.download_market_data(dataManager.get_markets())"
   ]
  },
  {
   "cell_type": "markdown",
   "metadata": {},
   "source": [
    "# Development layer"
   ]
  },
  {
   "cell_type": "markdown",
   "metadata": {},
   "source": [
    "### Inicializar el dataManager"
   ]
  },
  {
   "cell_type": "code",
   "execution_count": null,
   "metadata": {},
   "outputs": [],
   "source": [
    "dataManager_YF = DataManager_YahooFinance()\n",
    "data_dir_list = ['Data', 'Tickers', 'Dummy1']\n",
    "dataManager_YF.set_dir_list(data_dir_list)\n",
    "dataManager_YF.initialize_config_tickers()"
   ]
  },
  {
   "cell_type": "markdown",
   "metadata": {},
   "source": [
    "### Conseguir lista de markets"
   ]
  },
  {
   "cell_type": "code",
   "execution_count": null,
   "metadata": {},
   "outputs": [],
   "source": [
    "dataManager_YF.get_markets()"
   ]
  },
  {
   "cell_type": "markdown",
   "metadata": {},
   "source": [
    "### De un market seleccionado, conseguir la lista de tickers activos y descargados (ticker['data_update'] is not None)"
   ]
  },
  {
   "cell_type": "code",
   "execution_count": null,
   "metadata": {},
   "outputs": [],
   "source": [
    "active_tickers = dataManager_YF.get_active_tickers()\n",
    "market = ['IBEX35']\n",
    "index_list = [t['tickerKey'] for t in active_tickers if (t['data_update'] is not None and t['market'] in market)]\n",
    "index_list"
   ]
  },
  {
   "cell_type": "code",
   "execution_count": null,
   "metadata": {},
   "outputs": [],
   "source": []
  },
  {
   "cell_type": "code",
   "execution_count": null,
   "metadata": {},
   "outputs": [],
   "source": []
  },
  {
   "cell_type": "code",
   "execution_count": null,
   "metadata": {},
   "outputs": [],
   "source": []
  },
  {
   "cell_type": "code",
   "execution_count": null,
   "metadata": {},
   "outputs": [],
   "source": []
  },
  {
   "cell_type": "code",
   "execution_count": null,
   "metadata": {},
   "outputs": [],
   "source": []
  },
  {
   "cell_type": "code",
   "execution_count": null,
   "metadata": {},
   "outputs": [],
   "source": []
  }
 ],
 "metadata": {
  "kernelspec": {
   "display_name": "Python 3",
   "language": "python",
   "name": "python3"
  },
  "language_info": {
   "codemirror_mode": {
    "name": "ipython",
    "version": 3
   },
   "file_extension": ".py",
   "mimetype": "text/x-python",
   "name": "python",
   "nbconvert_exporter": "python",
   "pygments_lexer": "ipython3",
   "version": "3.7.9"
  }
 },
 "nbformat": 4,
 "nbformat_minor": 4
}
