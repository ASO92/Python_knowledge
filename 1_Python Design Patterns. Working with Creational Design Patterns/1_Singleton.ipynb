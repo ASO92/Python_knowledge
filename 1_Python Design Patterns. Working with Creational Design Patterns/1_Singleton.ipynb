{
 "cells": [
  {
   "cell_type": "markdown",
   "metadata": {},
   "source": [
    "## Singleton\n",
    "\n",
    "#### Only one instance of a class should be created, all clients use the same instance\n",
    "\n",
    "**Singleton**\n",
    "\n",
    "- A class of which only a single instance can exist\n",
    "- Ensure a class is instantiated only once, and provide a global point of access to it. Anyone that use this class should use this instance, by memory.\n",
    "- You have to put special code to assure that only one instance exists.\n",
    "- Many edge cases around synchronization and ensuring that exactly one instance is created. Example: what if several clients come in and access the singleton class, and try to create an instance at the same time? You need to synchronize the creation of the singleton object.\n",
    "\n",
    "**Consider Usign Singletion When**\n",
    "\n",
    "- No clear owner for the object, i.e. a global object. It is a global object that should be available to all. For example let's say you have a connection to a database and you want exactly one connection object to exist. Then, that connection object you would set up im the form of a singleton.\n",
    "- Lazy instantiation helps performance. Lay instantiation refers to instantiating an object only when it is needed. When you want to reference to the object, you dont instantiate the object upfront.\n",
    "- Need a single global way to access the object.\n",
    "\n"
   ]
  },
  {
   "cell_type": "code",
   "execution_count": 3,
   "metadata": {},
   "outputs": [],
   "source": [
    "class Logger:\n",
    "    \n",
    "    __instance = None\n",
    "    \n",
    "    def __init__(self): # Creates an instance of a new object of this class, \n",
    "        # which is why you shoulf not allow anyone to invoke this init funtion.\n",
    "        # Unfortunately, __init__() method is automatically invoked when you instantiate the logger object, which is why you'll\n",
    "        # have this init function raise a runtime error. INDICATING THAT YOU CAN NOT INITIALIZE THIS CLASS. Ver linea siguiente.\n",
    "        raise RuntimeError('Call get_instance() instead')\n",
    "    \n",
    "    @classmethod #Classmethod. This is a method that has to be invoked on the logger class, and not an instance or an object of this logger class.\n",
    "    def get_instance(cls):\n",
    "        if cls.__instance == None:\n",
    "            print('No instance exists, creating a new one')\n",
    "            \n",
    "            cls.__instance = cls.__new__(cls)\n",
    "        else:\n",
    "            print('A previously created instance exists, returning that same one')\n",
    "        \n",
    "        return cls.__instance\n",
    "            "
   ]
  },
  {
   "cell_type": "markdown",
   "metadata": {},
   "source": [
    "**The runtime method in init ensures that anyone who wants a reference to a logger object has to call get_instance on the logger class.**"
   ]
  },
  {
   "cell_type": "markdown",
   "metadata": {},
   "source": [
    "## __new__() special method\n",
    "\n",
    "#### Creates a Python object after which the __init__() method is called to initialize the object.\n"
   ]
  },
  {
   "cell_type": "code",
   "execution_count": 6,
   "metadata": {},
   "outputs": [
    {
     "ename": "RuntimeError",
     "evalue": "Call get_instance() instead",
     "output_type": "error",
     "traceback": [
      "\u001b[1;31m---------------------------------------------------------------------------\u001b[0m",
      "\u001b[1;31mRuntimeError\u001b[0m                              Traceback (most recent call last)",
      "\u001b[1;32m<ipython-input-6-df483016a349>\u001b[0m in \u001b[0;36m<module>\u001b[1;34m\u001b[0m\n\u001b[1;32m----> 1\u001b[1;33m \u001b[0mlogger\u001b[0m \u001b[1;33m=\u001b[0m \u001b[0mLogger\u001b[0m\u001b[1;33m(\u001b[0m\u001b[1;33m)\u001b[0m\u001b[1;33m\u001b[0m\u001b[1;33m\u001b[0m\u001b[0m\n\u001b[0m",
      "\u001b[1;32m<ipython-input-3-78925e468809>\u001b[0m in \u001b[0;36m__init__\u001b[1;34m(self)\u001b[0m\n\u001b[0;32m      4\u001b[0m \u001b[1;33m\u001b[0m\u001b[0m\n\u001b[0;32m      5\u001b[0m     \u001b[1;32mdef\u001b[0m \u001b[0m__init__\u001b[0m\u001b[1;33m(\u001b[0m\u001b[0mself\u001b[0m\u001b[1;33m)\u001b[0m\u001b[1;33m:\u001b[0m\u001b[1;33m\u001b[0m\u001b[1;33m\u001b[0m\u001b[0m\n\u001b[1;32m----> 6\u001b[1;33m         \u001b[1;32mraise\u001b[0m \u001b[0mRuntimeError\u001b[0m\u001b[1;33m(\u001b[0m\u001b[1;34m'Call get_instance() instead'\u001b[0m\u001b[1;33m)\u001b[0m\u001b[1;33m\u001b[0m\u001b[1;33m\u001b[0m\u001b[0m\n\u001b[0m\u001b[0;32m      7\u001b[0m \u001b[1;33m\u001b[0m\u001b[0m\n\u001b[0;32m      8\u001b[0m     \u001b[1;33m@\u001b[0m\u001b[0mclassmethod\u001b[0m\u001b[1;33m\u001b[0m\u001b[1;33m\u001b[0m\u001b[0m\n",
      "\u001b[1;31mRuntimeError\u001b[0m: Call get_instance() instead"
     ]
    }
   ],
   "source": [
    "logger = Logger()"
   ]
  },
  {
   "cell_type": "code",
   "execution_count": 8,
   "metadata": {},
   "outputs": [
    {
     "name": "stdout",
     "output_type": "stream",
     "text": [
      "A previously created instance exists, returning that same one\n"
     ]
    },
    {
     "data": {
      "text/plain": [
       "<__main__.Logger at 0x1d080e10ac8>"
      ]
     },
     "execution_count": 8,
     "metadata": {},
     "output_type": "execute_result"
    }
   ],
   "source": [
    "logger_1 = Logger.get_instance()\n",
    "\n",
    "logger_1 #OJO al memory location"
   ]
  },
  {
   "cell_type": "markdown",
   "metadata": {},
   "source": [
    "**La instancia se guarda en una class variable: __instance**"
   ]
  },
  {
   "cell_type": "code",
   "execution_count": 9,
   "metadata": {},
   "outputs": [
    {
     "name": "stdout",
     "output_type": "stream",
     "text": [
      "A previously created instance exists, returning that same one\n"
     ]
    },
    {
     "data": {
      "text/plain": [
       "<__main__.Logger at 0x1d080e10ac8>"
      ]
     },
     "execution_count": 9,
     "metadata": {},
     "output_type": "execute_result"
    }
   ],
   "source": [
    "logger_2 = Logger.get_instance()\n",
    "\n",
    "logger_2 #OJO al memory location. Es el mismo"
   ]
  },
  {
   "cell_type": "code",
   "execution_count": 10,
   "metadata": {},
   "outputs": [
    {
     "name": "stdout",
     "output_type": "stream",
     "text": [
      "A previously created instance exists, returning that same one\n"
     ]
    },
    {
     "data": {
      "text/plain": [
       "<__main__.Logger at 0x1d080e10ac8>"
      ]
     },
     "execution_count": 10,
     "metadata": {},
     "output_type": "execute_result"
    }
   ],
   "source": [
    "logger_3 = Logger.get_instance()\n",
    "\n",
    "logger_3 #OJO al memory location. Es el mismo"
   ]
  },
  {
   "cell_type": "markdown",
   "metadata": {},
   "source": [
    "### More elegant way to instantiate a singleton object\n",
    "\n",
    "In the previous, you are forcing the client to use get_instance() function. \n",
    "Here __init__() says object initialized.\n",
    "\n",
    "**Notas para este caso**\n",
    "super() can also take two parameters: the first is the subclass, and the second parameter is an object that is an instance of that subclass."
   ]
  },
  {
   "cell_type": "code",
   "execution_count": 34,
   "metadata": {},
   "outputs": [],
   "source": [
    "class Logger:\n",
    "    \n",
    "    __instance = None\n",
    "    \n",
    "    def __init__(self): \n",
    "        print('Object initialized')\n",
    "    \n",
    "    def __new__(cls):\n",
    "        if cls.__instance is None: # Equivalent to == None, I suppose more elegant ?\n",
    "            print('No instance exists, creating a new one')\n",
    "            \n",
    "            cls.__instance = super(Logger, cls).__new__(cls)\n",
    "        else:\n",
    "            print('A previously created instance exists, returning that same one')\n",
    "        \n",
    "        return cls.__instance"
   ]
  },
  {
   "cell_type": "code",
   "execution_count": 35,
   "metadata": {},
   "outputs": [
    {
     "name": "stdout",
     "output_type": "stream",
     "text": [
      "No instance exists, creating a new one\n",
      "Object initialized\n"
     ]
    },
    {
     "data": {
      "text/plain": [
       "<__main__.Logger at 0x1d0811e9d88>"
      ]
     },
     "execution_count": 35,
     "metadata": {},
     "output_type": "execute_result"
    }
   ],
   "source": [
    "logger_1 = Logger()\n",
    "\n",
    "logger_1"
   ]
  },
  {
   "cell_type": "code",
   "execution_count": 36,
   "metadata": {},
   "outputs": [
    {
     "name": "stdout",
     "output_type": "stream",
     "text": [
      "A previously created instance exists, returning that same one\n",
      "Object initialized\n"
     ]
    },
    {
     "data": {
      "text/plain": [
       "<__main__.Logger at 0x1d0811e9d88>"
      ]
     },
     "execution_count": 36,
     "metadata": {},
     "output_type": "execute_result"
    }
   ],
   "source": [
    "logger_2 = Logger()\n",
    "\n",
    "logger_2"
   ]
  },
  {
   "cell_type": "code",
   "execution_count": 37,
   "metadata": {},
   "outputs": [
    {
     "name": "stdout",
     "output_type": "stream",
     "text": [
      "Are they the same object? True\n"
     ]
    }
   ],
   "source": [
    "print(\"Are they the same object?\", logger_1 is logger_2)"
   ]
  },
  {
   "cell_type": "markdown",
   "metadata": {},
   "source": [
    "### Avoiding the init method to be repeatedly invoked\n",
    "\n",
    "Avoid it each time we get a reference to the singleton Logger object.\n",
    "\n",
    "Replacing the initialization code\n"
   ]
  },
  {
   "cell_type": "code",
   "execution_count": 38,
   "metadata": {},
   "outputs": [],
   "source": [
    "class Logger:\n",
    "    \n",
    "    __instance = None\n",
    "       \n",
    "    def __new__(cls):\n",
    "        if cls.__instance is None: # Equivalent to == None, I suppose more elegant ?\n",
    "            print('No instance exists, creating a new one')\n",
    "            \n",
    "            cls.__instance = super(Logger, cls).__new__(cls)\n",
    "            # Place all initialization code here\n",
    "            \n",
    "            \n",
    "        else:\n",
    "            print('A previously created instance exists, returning that same one')\n",
    "        \n",
    "        return cls.__instance"
   ]
  },
  {
   "cell_type": "code",
   "execution_count": 39,
   "metadata": {},
   "outputs": [
    {
     "name": "stdout",
     "output_type": "stream",
     "text": [
      "No instance exists, creating a new one\n"
     ]
    },
    {
     "data": {
      "text/plain": [
       "<__main__.Logger at 0x1d0811ddc08>"
      ]
     },
     "execution_count": 39,
     "metadata": {},
     "output_type": "execute_result"
    }
   ],
   "source": [
    "logger_1 = Logger()\n",
    "\n",
    "logger_1"
   ]
  },
  {
   "cell_type": "code",
   "execution_count": 40,
   "metadata": {},
   "outputs": [
    {
     "name": "stdout",
     "output_type": "stream",
     "text": [
      "A previously created instance exists, returning that same one\n"
     ]
    },
    {
     "data": {
      "text/plain": [
       "<__main__.Logger at 0x1d0811ddc08>"
      ]
     },
     "execution_count": 40,
     "metadata": {},
     "output_type": "execute_result"
    }
   ],
   "source": [
    "logger_2 = Logger()\n",
    "\n",
    "logger_2"
   ]
  },
  {
   "cell_type": "code",
   "execution_count": 41,
   "metadata": {},
   "outputs": [
    {
     "name": "stdout",
     "output_type": "stream",
     "text": [
      "Are they the same object? True\n"
     ]
    }
   ],
   "source": [
    "print(\"Are they the same object?\", logger_1 is logger_2)"
   ]
  },
  {
   "cell_type": "code",
   "execution_count": null,
   "metadata": {},
   "outputs": [],
   "source": []
  }
 ],
 "metadata": {
  "kernelspec": {
   "display_name": "Python 3",
   "language": "python",
   "name": "python3"
  },
  "language_info": {
   "codemirror_mode": {
    "name": "ipython",
    "version": 3
   },
   "file_extension": ".py",
   "mimetype": "text/x-python",
   "name": "python",
   "nbconvert_exporter": "python",
   "pygments_lexer": "ipython3",
   "version": "3.7.9"
  }
 },
 "nbformat": 4,
 "nbformat_minor": 4
}
