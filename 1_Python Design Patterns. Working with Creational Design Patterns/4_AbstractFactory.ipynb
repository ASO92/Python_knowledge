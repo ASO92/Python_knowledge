{
 "cells": [
  {
   "cell_type": "markdown",
   "metadata": {},
   "source": [
    "## Abstract Factory Method\n",
    "\n",
    "#### Creates instances of several families of classes"
   ]
  },
  {
   "cell_type": "code",
   "execution_count": 1,
   "metadata": {},
   "outputs": [],
   "source": [
    "import abc"
   ]
  },
  {
   "cell_type": "code",
   "execution_count": 6,
   "metadata": {},
   "outputs": [],
   "source": [
    "class Toy(metaclass=abc.ABCMeta): # abc.Meta indicates that this is an abstract base class\n",
    "    @abc.abstractmethod\n",
    "    def show(self): #abstract method because it has no implementation\n",
    "        pass\n",
    "    \n",
    "class Color(metaclass=abc.ABCMeta): # abstract base class\n",
    "    @abc.abstractmethod\n",
    "    def show_color(self): #abstract method because it has no implementation \n",
    "        pass\n",
    "\n"
   ]
  },
  {
   "cell_type": "code",
   "execution_count": 14,
   "metadata": {},
   "outputs": [],
   "source": [
    "class Car(Toy):\n",
    "    def show(self):\n",
    "        print('Remote controlled car')\n",
    "\n",
    "class ActionFigure(Toy):\n",
    "    def show(self):\n",
    "        print('Captain America action figure')\n",
    "\n",
    "class ConstructionToy(Toy):\n",
    "    def show(self):\n",
    "        print('Lego')"
   ]
  },
  {
   "cell_type": "code",
   "execution_count": 15,
   "metadata": {},
   "outputs": [],
   "source": [
    "class Red(Color):\n",
    "    def show_color(self):\n",
    "        print('red')\n",
    "\n",
    "class Green(Color):\n",
    "    def show_color(self):\n",
    "        print('green')\n",
    "\n",
    "class Blue(Toy):\n",
    "    def show_color(self):\n",
    "        print('blue')"
   ]
  },
  {
   "cell_type": "code",
   "execution_count": 16,
   "metadata": {},
   "outputs": [
    {
     "name": "stdout",
     "output_type": "stream",
     "text": [
      "red\n",
      "Remote controlled car\n"
     ]
    },
    {
     "data": {
      "text/plain": [
       "(None, None)"
      ]
     },
     "execution_count": 16,
     "metadata": {},
     "output_type": "execute_result"
    }
   ],
   "source": [
    "car = Car()\n",
    "\n",
    "red = Red()\n",
    "\n",
    "red.show_color(), car.show()"
   ]
  },
  {
   "cell_type": "markdown",
   "metadata": {},
   "source": [
    "If you have a red car, we will have to use the Car class and\n",
    "\n",
    "If you think of a red car as a combination of derived classes which belong to a larger family that is colored toys, then you can see that in order to get a red car, we need to perform two separate instantiations.\n",
    "\n",
    "\n",
    "**In this case we have two objects with separate instantiations for a red car**\n",
    "\n",
    "**We need a better way to do things** --> Abstract Factory method"
   ]
  },
  {
   "cell_type": "markdown",
   "metadata": {},
   "source": [
    "## Set up a base class AbstractFactory.\n",
    "\n",
    "- Abstract base class (metaclass=abc.ABCMeta)\n",
    "- IT contains two methods: get_color and get_toy. **Both abstract methods, that is they contain no implementation**. These two methods are part of the AbstractFactory.\n",
    "- \n"
   ]
  },
  {
   "cell_type": "code",
   "execution_count": 17,
   "metadata": {},
   "outputs": [],
   "source": [
    "class AbstractFactory(metaclass=abc.ABCMeta):\n",
    "    @abc.abstractmethod\n",
    "    def get_color(self):\n",
    "        pass\n",
    "    \n",
    "    def get_toy(self):\n",
    "        pass"
   ]
  },
  {
   "cell_type": "code",
   "execution_count": 21,
   "metadata": {},
   "outputs": [],
   "source": [
    "class ColorfulToysFactory(AbstractFactory):\n",
    "    \n",
    "    def get_toy(self, toy_type):\n",
    "        if toy_type is None:\n",
    "            return None\n",
    "        if toy_type is 'car':\n",
    "            return Car()\n",
    "        elif toy_type is 'action figure':\n",
    "            return ActionFigure()\n",
    "        elif toy_type is 'construction toy':\n",
    "            return ConstructionToy()\n",
    "    \n",
    "        return None\n",
    "\n",
    "    def get_color(self, color_type):\n",
    "        if color_type is None:\n",
    "            return None\n",
    "        if color_type is 'red':\n",
    "            return Red()\n",
    "        elif color_type is 'green':\n",
    "            return Green()\n",
    "        elif color_type is 'blue':\n",
    "            return Blue()\n",
    "    \n",
    "        return None\n"
   ]
  },
  {
   "cell_type": "code",
   "execution_count": 22,
   "metadata": {},
   "outputs": [],
   "source": [
    "RED_CAR = 'red_car'\n",
    "BLUE_LEGO = 'blue_lego'\n",
    "GREEN_ACTION_FIGURE = 'green_action_figure'"
   ]
  },
  {
   "cell_type": "code",
   "execution_count": null,
   "metadata": {},
   "outputs": [],
   "source": [
    "class colorfuToysProducer:\n",
    "    \n",
    "    __colorful_toys_factory = ColorfulToysFactory()\n",
    "    \n",
    "    @classmethod"
   ]
  },
  {
   "cell_type": "code",
   "execution_count": null,
   "metadata": {},
   "outputs": [],
   "source": []
  },
  {
   "cell_type": "code",
   "execution_count": null,
   "metadata": {},
   "outputs": [],
   "source": []
  },
  {
   "cell_type": "code",
   "execution_count": null,
   "metadata": {},
   "outputs": [],
   "source": []
  },
  {
   "cell_type": "code",
   "execution_count": null,
   "metadata": {},
   "outputs": [],
   "source": []
  },
  {
   "cell_type": "code",
   "execution_count": null,
   "metadata": {},
   "outputs": [],
   "source": []
  }
 ],
 "metadata": {
  "kernelspec": {
   "display_name": "Python 3",
   "language": "python",
   "name": "python3"
  },
  "language_info": {
   "codemirror_mode": {
    "name": "ipython",
    "version": 3
   },
   "file_extension": ".py",
   "mimetype": "text/x-python",
   "name": "python",
   "nbconvert_exporter": "python",
   "pygments_lexer": "ipython3",
   "version": "3.7.9"
  }
 },
 "nbformat": 4,
 "nbformat_minor": 4
}
