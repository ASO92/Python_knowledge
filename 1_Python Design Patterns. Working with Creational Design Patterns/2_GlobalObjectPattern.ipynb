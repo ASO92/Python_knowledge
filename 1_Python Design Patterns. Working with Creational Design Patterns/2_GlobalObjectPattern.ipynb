{
 "cells": [
  {
   "cell_type": "markdown",
   "metadata": {},
   "source": [
    "## The global object pattern\n",
    "\n",
    "Instantiate global objects at module level and all code accesses methods usign this object.\n",
    "\n",
    "No instancio en el script en el que voy a interactuar con objectos instanciados."
   ]
  },
  {
   "cell_type": "markdown",
   "metadata": {},
   "source": [
    "## Modules in Python\n",
    "\n",
    "Functions, variables and code which form a logical unit that can be improted"
   ]
  },
  {
   "cell_type": "code",
   "execution_count": 1,
   "metadata": {},
   "outputs": [
    {
     "name": "stdout",
     "output_type": "stream",
     "text": [
      "Logger initialized:  console\n",
      "Logger initialized:  file\n"
     ]
    }
   ],
   "source": [
    "import logger"
   ]
  },
  {
   "cell_type": "markdown",
   "metadata": {},
   "source": [
    "### Constants in the module, accesed like class variables"
   ]
  },
  {
   "cell_type": "code",
   "execution_count": 5,
   "metadata": {},
   "outputs": [
    {
     "data": {
      "text/plain": [
       "('info', 'warning')"
      ]
     },
     "execution_count": 5,
     "metadata": {},
     "output_type": "execute_result"
    }
   ],
   "source": [
    "logger.INFO, logger.WARNING"
   ]
  },
  {
   "cell_type": "code",
   "execution_count": 6,
   "metadata": {},
   "outputs": [],
   "source": [
    "file_logger = logger.FILE_LOGGER"
   ]
  },
  {
   "cell_type": "code",
   "execution_count": 8,
   "metadata": {},
   "outputs": [
    {
     "name": "stdout",
     "output_type": "stream",
     "text": [
      "Logging to a file: logging message\n"
     ]
    }
   ],
   "source": [
    "file_logger.log('logging message')"
   ]
  },
  {
   "cell_type": "code",
   "execution_count": 9,
   "metadata": {},
   "outputs": [],
   "source": [
    "console_logger = logger.CONSOLE_LOGGER"
   ]
  },
  {
   "cell_type": "code",
   "execution_count": 11,
   "metadata": {},
   "outputs": [
    {
     "name": "stdout",
     "output_type": "stream",
     "text": [
      "Logging on the console: another message\n"
     ]
    }
   ],
   "source": [
    "console_logger.log('another message')"
   ]
  },
  {
   "cell_type": "markdown",
   "metadata": {},
   "source": [
    "## Factory and Abstract Factory\n",
    "\n",
    "The objectivo ofh theese patterns is to separate the creation of objects from their use. \n",
    "\n",
    "Its to accept user parameters for object creation and abstract away from the user what object is exactly beaing created"
   ]
  },
  {
   "cell_type": "markdown",
   "metadata": {},
   "source": [
    "## Creational Design Patterns\n",
    "\n",
    "#### Focused on: Class-creation and Object-creation \n",
    "\n",
    "**Class-creation** refers to what class should be instantiated to meet the client's use case.\n",
    "**Object-creation** refers to how should the object that is created be configured for the client.\n",
    "\n",
    "These design patterns are all about class instantiation:\n",
    "- Class-creation patterns use inheritance\n",
    "- Object-creation patterns use delegation\n",
    "- \n"
   ]
  },
  {
   "cell_type": "markdown",
   "metadata": {},
   "source": [
    "## FACTORY METHOD\n",
    "\n",
    "- Factory method is specified in base class, implemented in derived classes.\n",
    "- The factory method is capable to create an instance of several derived classes.\n",
    "- Define an interface for creating an object, but let subclasses decide which class to instantiate\n",
    "- Used to postone instantiation - responsability passes from base class to derived classes. The derived classes know what the right class to instantiate it based on the parameters you pass in."
   ]
  },
  {
   "cell_type": "markdown",
   "metadata": {},
   "source": [
    "## ABSTRACT FACTORY METHOD\n",
    "\n",
    "Create an instance of any one of many families of derived classes. The main difference here is that the abstract factory pattern deals with families of objects and not just with single objects.\n",
    "\n",
    "- Abstact factory pattern creates an instance of several families of classes.\n",
    "- Often used when you encapsulate platorm dependencies. \n"
   ]
  },
  {
   "cell_type": "code",
   "execution_count": null,
   "metadata": {},
   "outputs": [],
   "source": []
  },
  {
   "cell_type": "code",
   "execution_count": null,
   "metadata": {},
   "outputs": [],
   "source": []
  },
  {
   "cell_type": "code",
   "execution_count": null,
   "metadata": {},
   "outputs": [],
   "source": []
  },
  {
   "cell_type": "code",
   "execution_count": null,
   "metadata": {},
   "outputs": [],
   "source": []
  },
  {
   "cell_type": "code",
   "execution_count": null,
   "metadata": {},
   "outputs": [],
   "source": []
  },
  {
   "cell_type": "code",
   "execution_count": null,
   "metadata": {},
   "outputs": [],
   "source": []
  },
  {
   "cell_type": "code",
   "execution_count": null,
   "metadata": {},
   "outputs": [],
   "source": []
  },
  {
   "cell_type": "code",
   "execution_count": null,
   "metadata": {},
   "outputs": [],
   "source": []
  },
  {
   "cell_type": "code",
   "execution_count": null,
   "metadata": {},
   "outputs": [],
   "source": []
  },
  {
   "cell_type": "code",
   "execution_count": null,
   "metadata": {},
   "outputs": [],
   "source": []
  },
  {
   "cell_type": "code",
   "execution_count": null,
   "metadata": {},
   "outputs": [],
   "source": []
  },
  {
   "cell_type": "code",
   "execution_count": null,
   "metadata": {},
   "outputs": [],
   "source": []
  }
 ],
 "metadata": {
  "kernelspec": {
   "display_name": "Python 3",
   "language": "python",
   "name": "python3"
  },
  "language_info": {
   "codemirror_mode": {
    "name": "ipython",
    "version": 3
   },
   "file_extension": ".py",
   "mimetype": "text/x-python",
   "name": "python",
   "nbconvert_exporter": "python",
   "pygments_lexer": "ipython3",
   "version": "3.7.9"
  }
 },
 "nbformat": 4,
 "nbformat_minor": 4
}
